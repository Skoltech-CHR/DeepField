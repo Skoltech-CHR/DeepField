{
 "cells": [
  {
   "cell_type": "markdown",
   "metadata": {},
   "source": [
    "# Grid\n",
    "\n",
    "A tutorial on grid classes, its properties and transformations.\n",
    "\n",
    "### Content\n",
    "* [Geometries](#Geometries)\n",
    "* [Basic properties](#Basic-properties)\n",
    "* [Grid transformations](#Grid-transformations)\n",
    "    * [Minimal cube](#Minimal-cube)\n",
    "    * [Rescale](#Rescale)\n",
    "    * [Orthogonalization](#Orthogonalization)\n",
    "    * [Corner-point representation](#Corner-point-representation)\n",
    "    * [Local grid](#Local-grid)"
   ]
  },
  {
   "cell_type": "markdown",
   "metadata": {},
   "source": [
    "## Geometries"
   ]
  },
  {
   "cell_type": "markdown",
   "metadata": {},
   "source": [
    "Grid supports 2 geometry types:\n",
    "* `OrthogonalUniformGrid`\n",
    "* `CornerPointGrid`\n",
    "\n",
    "By default, grid is attributed to `CornerPointGrid` if the model contains both 'ZCORN' and 'COORD' keywords.\n",
    "\n",
    "In this notebook we will work with corner-point grid attributes (working with orthogonal grids is very similar). To speed up loading one can specify required components and attributes using `config` parameter of the `Field`. Here we use default config for the CornerPointGrid:"
   ]
  },
  {
   "cell_type": "code",
   "execution_count": 1,
   "metadata": {},
   "outputs": [
    {
     "data": {
      "text/plain": [
       "{'CornerPointGrid': {'attrs': ['ACTNUM',\n",
       "   'COORD',\n",
       "   'DIMENS',\n",
       "   'MAPAXES',\n",
       "   'ZCORN']}}"
      ]
     },
     "execution_count": 1,
     "metadata": {},
     "output_type": "execute_result"
    }
   ],
   "source": [
    "import sys\n",
    "import numpy as np\n",
    "import matplotlib.pyplot as plt\n",
    "sys.path.append('..')\n",
    "\n",
    "from deepfield import Field, corn_grid_config\n",
    "from deepfield.field.plot_utils import plot_bounds_3d, plot_bounds_2d\n",
    "\n",
    "corn_grid_config"
   ]
  },
  {
   "cell_type": "markdown",
   "metadata": {},
   "source": [
    "Load grid attributes only:"
   ]
  },
  {
   "cell_type": "code",
   "execution_count": 2,
   "metadata": {},
   "outputs": [
    {
     "name": "stdout",
     "output_type": "stream",
     "text": [
      "WARNING:Field:RESULTS folder was not found in model directory.\n",
      "INFO:Field:Start reading norne_simplified.data\n",
      "INFO:Field:[norne_simplified.data:3] Loading TITLE\n",
      "INFO:Field:[norne_simplified.data:9] Loading START\n",
      "...\n",
      "INFO:Field:Finish reading schedule.inc\n",
      "INFO:Field:Finish reading norne_simplified.data\n",
      "INFO:Field:===== Field summary =====\n",
      "INFO:Field:GRID attributes: MAPAXES, DIMENS, ZCORN, COORD, ACTNUM\n",
      "INFO:Field:=========================\n",
      "INFO:Field:Grid pillars (`COORD`) are mapped to new axis with respect to `MAPAXES`.\n"
     ]
    }
   ],
   "source": [
    "model = Field(path='../open_data/norne_simplified/norne_simplified.data',\n",
    "              config=corn_grid_config).load()"
   ]
  },
  {
   "cell_type": "markdown",
   "metadata": {},
   "source": [
    "## Basic properties"
   ]
  },
  {
   "cell_type": "markdown",
   "metadata": {},
   "source": [
    "List of grid attributes"
   ]
  },
  {
   "cell_type": "code",
   "execution_count": 3,
   "metadata": {},
   "outputs": [
    {
     "data": {
      "text/plain": [
       "('MAPAXES', 'DIMENS', 'ZCORN', 'COORD', 'ACTNUM')"
      ]
     },
     "execution_count": 3,
     "metadata": {},
     "output_type": "execute_result"
    }
   ],
   "source": [
    "model.grid.attributes"
   ]
  },
  {
   "cell_type": "markdown",
   "metadata": {},
   "source": [
    "Grid dimentions"
   ]
  },
  {
   "cell_type": "code",
   "execution_count": 4,
   "metadata": {},
   "outputs": [
    {
     "data": {
      "text/plain": [
       "array([ 46, 112,  22])"
      ]
     },
     "execution_count": 4,
     "metadata": {},
     "output_type": "execute_result"
    }
   ],
   "source": [
    "model.grid.dimens"
   ]
  },
  {
   "cell_type": "markdown",
   "metadata": {},
   "source": [
    "Note that loaded arrays are in a spatial shape by default: "
   ]
  },
  {
   "cell_type": "code",
   "execution_count": 5,
   "metadata": {},
   "outputs": [
    {
     "data": {
      "text/plain": [
       "(46, 112, 22)"
      ]
     },
     "execution_count": 5,
     "metadata": {},
     "output_type": "execute_result"
    }
   ],
   "source": [
    "model.grid.actnum.shape"
   ]
  },
  {
   "cell_type": "markdown",
   "metadata": {},
   "source": [
    "Method `ravel` transforms all spatial arrays into a ravel shape:"
   ]
  },
  {
   "cell_type": "code",
   "execution_count": 6,
   "metadata": {},
   "outputs": [
    {
     "data": {
      "text/plain": [
       "((113344,), (906752,))"
      ]
     },
     "execution_count": 6,
     "metadata": {},
     "output_type": "execute_result"
    }
   ],
   "source": [
    "model.grid.ravel()\n",
    "\n",
    "model.grid.actnum.shape, model.grid.zcorn.shape"
   ]
  },
  {
   "cell_type": "markdown",
   "metadata": {},
   "source": [
    "while `to_spatial` transforms them back into a spatial shape:"
   ]
  },
  {
   "cell_type": "code",
   "execution_count": 7,
   "metadata": {},
   "outputs": [
    {
     "data": {
      "text/plain": [
       "((46, 112, 22), (46, 112, 22, 8))"
      ]
     },
     "execution_count": 7,
     "metadata": {},
     "output_type": "execute_result"
    }
   ],
   "source": [
    "model.grid.to_spatial()\n",
    "\n",
    "model.grid.actnum.shape, model.grid.zcorn.shape"
   ]
  },
  {
   "cell_type": "markdown",
   "metadata": {},
   "source": [
    "Grid location with respect to map coordinates and unit vectors in x and y grid directions can be obtained as follows:"
   ]
  },
  {
   "cell_type": "code",
   "execution_count": 8,
   "metadata": {},
   "outputs": [
    {
     "data": {
      "text/plain": [
       "(array([   0.    ,    0.    , 3037.4729]), array([1., 0.]), array([0., 1.]))"
      ]
     },
     "execution_count": 8,
     "metadata": {},
     "output_type": "execute_result"
    }
   ],
   "source": [
    "model.grid.origin, model.grid.ex, model.grid.ey"
   ]
  },
  {
   "cell_type": "markdown",
   "metadata": {},
   "source": [
    "Attribute `cell_centroinds` gives coordinates of cell centres. Let's get a center of the first cell:"
   ]
  },
  {
   "cell_type": "code",
   "execution_count": 9,
   "metadata": {},
   "outputs": [
    {
     "data": {
      "text/plain": [
       "array([4.53215789e+05, 7.32000899e+06, 3.04003159e+03])"
      ]
     },
     "execution_count": 9,
     "metadata": {},
     "output_type": "execute_result"
    }
   ],
   "source": [
    "model.grid.cell_centroids[0, 0, 0]"
   ]
  },
  {
   "cell_type": "markdown",
   "metadata": {},
   "source": [
    "Each cell is defined by 8 corners and property `xyz` contains the coordinates. For example, coordinates of the first cell are"
   ]
  },
  {
   "cell_type": "code",
   "execution_count": 10,
   "metadata": {},
   "outputs": [
    {
     "data": {
      "text/plain": [
       "array([[4.53114000e+05, 7.31992100e+06, 3.03747290e+03],\n",
       "       [4.53155031e+05, 7.31984000e+06, 2.98393311e+03],\n",
       "       [4.53273188e+05, 7.32018000e+06, 3.06804492e+03],\n",
       "       [4.53321312e+05, 7.32009450e+06, 3.06212988e+03],\n",
       "       [4.53114000e+05, 7.31992100e+06, 3.03953101e+03],\n",
       "       [4.53154623e+05, 7.31984080e+06, 2.99024097e+03],\n",
       "       [4.53273099e+05, 7.32017984e+06, 3.07218799e+03],\n",
       "       [4.53321063e+05, 7.32009481e+06, 3.06671191e+03]])"
      ]
     },
     "execution_count": 10,
     "metadata": {},
     "output_type": "execute_result"
    }
   ],
   "source": [
    "model.grid.xyz[0, 0, 0]"
   ]
  },
  {
   "cell_type": "markdown",
   "metadata": {},
   "source": [
    "Propetry `cell_volumes` provides cell volumes, e.g. for the first cell we have"
   ]
  },
  {
   "cell_type": "code",
   "execution_count": 11,
   "metadata": {},
   "outputs": [
    {
     "data": {
      "text/plain": [
       "112955.74164065154"
      ]
     },
     "execution_count": 11,
     "metadata": {},
     "output_type": "execute_result"
    }
   ],
   "source": [
    "model.grid.cell_volumes[0, 0, 0]"
   ]
  },
  {
   "cell_type": "markdown",
   "metadata": {},
   "source": [
    "Next we consider grid transformations."
   ]
  },
  {
   "cell_type": "markdown",
   "metadata": {},
   "source": [
    "## Grid transformations"
   ]
  },
  {
   "cell_type": "markdown",
   "metadata": {},
   "source": [
    "### Minimal cube"
   ]
  },
  {
   "cell_type": "markdown",
   "metadata": {},
   "source": [
    "Quite often active cells occupy only a small region within a grid. It might be useful to crop mininal region that contains active cells. The most simple way is to apply `crop_minimal_active_cube`. It finds minimal slices that contain active cells. The output grid has smaller dimensions:"
   ]
  },
  {
   "cell_type": "code",
   "execution_count": 12,
   "metadata": {},
   "outputs": [
    {
     "data": {
      "text/plain": [
       "(array([36, 92, 22]),\n",
       " (slice(5, 41, None), slice(10, 102, None), slice(0, 22, None)))"
      ]
     },
     "execution_count": 12,
     "metadata": {},
     "output_type": "execute_result"
    }
   ],
   "source": [
    "min_grid, min_slices = model.grid.crop_minimal_cube()\n",
    "min_grid.dimens, min_slices"
   ]
  },
  {
   "cell_type": "code",
   "execution_count": 13,
   "metadata": {},
   "outputs": [
    {
     "data": {
      "text/plain": [
       "array([36, 92, 22])"
      ]
     },
     "execution_count": 13,
     "metadata": {},
     "output_type": "execute_result"
    }
   ],
   "source": [
    "min_grid.dimens"
   ]
  },
  {
   "cell_type": "markdown",
   "metadata": {},
   "source": [
    "### Rescale"
   ]
  },
  {
   "cell_type": "markdown",
   "metadata": {},
   "source": [
    "Orthogonal grids can be upscaled and downscaled, for corner point grids only upscaling is well defined. Parameter `factors` specifices scaling factor along each axis. Additional parameter `actnum_upscale` specifies how to transfer active cell into the new grid:"
   ]
  },
  {
   "cell_type": "code",
   "execution_count": 14,
   "metadata": {},
   "outputs": [
    {
     "name": "stdout",
     "output_type": "stream",
     "text": [
      "Original: [ 46 112  22] Upscaled: [11 28  4]\n"
     ]
    }
   ],
   "source": [
    "up_grid = model.grid.upscale(factors=(4, 4, 5), actnum_upscale='vote')\n",
    "print('Original:', model.grid.dimens, 'Upscaled:', up_grid.dimens)"
   ]
  },
  {
   "cell_type": "markdown",
   "metadata": {},
   "source": [
    "Dowscaling is implmented for orthogonal grids only."
   ]
  },
  {
   "cell_type": "markdown",
   "metadata": {},
   "source": [
    "### Orthogonalization"
   ]
  },
  {
   "cell_type": "markdown",
   "metadata": {},
   "source": [
    "Corner point grid can be orthogonalized with respect to the bounding box of the corner point grid:"
   ]
  },
  {
   "cell_type": "code",
   "execution_count": 15,
   "metadata": {},
   "outputs": [
    {
     "data": {
      "text/plain": [
       "array([[4.53114000e+05, 7.31583550e+06, 2.23026001e+03],\n",
       "       [4.65658625e+05, 7.33111950e+06, 3.50841309e+03]])"
      ]
     },
     "execution_count": 15,
     "metadata": {},
     "output_type": "execute_result"
    }
   ],
   "source": [
    "model.grid.bounding_box"
   ]
  },
  {
   "cell_type": "markdown",
   "metadata": {},
   "source": [
    "Create a new orthogonal grid:"
   ]
  },
  {
   "cell_type": "code",
   "execution_count": 16,
   "metadata": {},
   "outputs": [
    {
     "data": {
      "text/plain": [
       "(10, 12, 14)"
      ]
     },
     "execution_count": 16,
     "metadata": {},
     "output_type": "execute_result"
    }
   ],
   "source": [
    "ort_grid = model.grid.orthogonalize(dimens=(10, 12, 14))\n",
    "ort_grid.dimens"
   ]
  },
  {
   "cell_type": "markdown",
   "metadata": {},
   "source": [
    "Note that grid origin coincides with the bounding box corner:"
   ]
  },
  {
   "cell_type": "code",
   "execution_count": 17,
   "metadata": {},
   "outputs": [
    {
     "data": {
      "text/plain": [
       "array([ True,  True,  True])"
      ]
     },
     "execution_count": 17,
     "metadata": {},
     "output_type": "execute_result"
    }
   ],
   "source": [
    "ort_grid.origin == model.grid.bounding_box[0]"
   ]
  },
  {
   "cell_type": "markdown",
   "metadata": {},
   "source": [
    "Grid axes coincide with map axes: "
   ]
  },
  {
   "cell_type": "code",
   "execution_count": 18,
   "metadata": {},
   "outputs": [
    {
     "data": {
      "text/plain": [
       "(array([1., 0.]), array([0., 1.]))"
      ]
     },
     "execution_count": 18,
     "metadata": {},
     "output_type": "execute_result"
    }
   ],
   "source": [
    "ort_grid.ex, ort_grid.ey"
   ]
  },
  {
   "cell_type": "markdown",
   "metadata": {},
   "source": [
    "### Corner-point representation"
   ]
  },
  {
   "cell_type": "markdown",
   "metadata": {},
   "source": [
    "Orthoronal grid has a natural corner-point representation:"
   ]
  },
  {
   "cell_type": "code",
   "execution_count": 19,
   "metadata": {},
   "outputs": [
    {
     "data": {
      "text/plain": [
       "('DIMENS', 'MAPAXES', 'ZCORN', 'COORD')"
      ]
     },
     "execution_count": 19,
     "metadata": {},
     "output_type": "execute_result"
    }
   ],
   "source": [
    "ort_grid.as_corner_point.attributes"
   ]
  },
  {
   "cell_type": "markdown",
   "metadata": {},
   "source": [
    "A new instance can be obtained as"
   ]
  },
  {
   "cell_type": "code",
   "execution_count": 20,
   "metadata": {},
   "outputs": [
    {
     "data": {
      "text/plain": [
       "<deepfield.field.grids.CornerPointGrid at 0x24bec0b82e8>"
      ]
     },
     "execution_count": 20,
     "metadata": {},
     "output_type": "execute_result"
    }
   ],
   "source": [
    "ort_grid.to_corner_point()"
   ]
  },
  {
   "cell_type": "markdown",
   "metadata": {},
   "source": [
    "### Local grid"
   ]
  },
  {
   "cell_type": "markdown",
   "metadata": {},
   "source": [
    "Local grid is a corner point grid that is bounded by upper and lower active cell surfaces and splits the space between in a given number of layers. This can be useful to get a grid with reduced number of inactive cells. The only parameter required is a target resolution along z-axis:"
   ]
  },
  {
   "cell_type": "code",
   "execution_count": 21,
   "metadata": {},
   "outputs": [
    {
     "name": "stdout",
     "output_type": "stream",
     "text": [
      "Local grid dimens: [ 46 112  10]\n"
     ]
    }
   ],
   "source": [
    "grid, grid_mask, z_top, z_bottom = model.grid.crop_minimal_grid(nz=10)\n",
    "print(\"Local grid dimens:\", grid.dimens)"
   ]
  },
  {
   "cell_type": "markdown",
   "metadata": {},
   "source": [
    "Next figure shows top and bottom bounds of the local grid"
   ]
  },
  {
   "cell_type": "code",
   "execution_count": 22,
   "metadata": {},
   "outputs": [
    {
     "name": "stderr",
     "output_type": "stream",
     "text": [
      "..\\deepfield\\field\\plot_utils.py:123: UserWarning: Z contains NaN values. This may result in rendering artifacts.\n",
      "  ax.plot_surface(x, y, bottom.T, color='b', edgecolor='none')\n",
      "..\\deepfield\\field\\plot_utils.py:124: UserWarning: Z contains NaN values. This may result in rendering artifacts.\n",
      "  ax.plot_surface(x, y, top.T, color='r', edgecolor='none')\n"
     ]
    },
    {
     "data": {
      "image/png": "[encoded data removed]",
      "text/plain": [
       "<Figure size 648x504 with 1 Axes>"
      ]
     },
     "metadata": {
      "needs_background": "light"
     },
     "output_type": "display_data"
    }
   ],
   "source": [
    "plot_bounds_3d(z_top, z_bottom, figsize=(9, 7))"
   ]
  },
  {
   "cell_type": "markdown",
   "metadata": {},
   "source": [
    "The same bounds in 2d projections (to active an interactive mode set `x=None` and `y=None`):"
   ]
  },
  {
   "cell_type": "code",
   "execution_count": 23,
   "metadata": {},
   "outputs": [
    {
     "data": {
      "image/png": "[encoded data removed]",
      "text/plain": [
       "<Figure size 864x360 with 2 Axes>"
      ]
     },
     "metadata": {
      "needs_background": "light"
     },
     "output_type": "display_data"
    }
   ],
   "source": [
    "plot_bounds_2d(z_top, z_bottom, x=17, y=67, figsize=(12, 5))"
   ]
  },
  {
   "cell_type": "markdown",
   "metadata": {},
   "source": [
    "At this point we interrupt the story about the `Grid` class and invite you to the next tutorials."
   ]
  }
 ],
 "metadata": {
  "kernelspec": {
   "display_name": "Python 3",
   "language": "python",
   "name": "python3"
  },
  "language_info": {
   "codemirror_mode": {
    "name": "ipython",
    "version": 3
   },
   "file_extension": ".py",
   "mimetype": "text/x-python",
   "name": "python",
   "nbconvert_exporter": "python",
   "pygments_lexer": "ipython3",
   "version": "3.7.0"
  }
 },
 "nbformat": 4,
 "nbformat_minor": 2
}
