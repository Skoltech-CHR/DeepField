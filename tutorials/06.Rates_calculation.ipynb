{
 "cells": [
  {
   "cell_type": "markdown",
   "metadata": {},
   "source": [
    "# Rates calculation\n",
    "\n",
    "This notebooks demonstrates basic rates calculation method. We say \"basic\"\n",
    "because we have also implemented a PyTorch module for rates calculation that can work on GPU. "
   ]
  },
  {
   "cell_type": "code",
   "execution_count": 1,
   "metadata": {
    "scrolled": true
   },
   "outputs": [],
   "source": [
    "import sys\n",
    "import numpy as np\n",
    "import pandas as pd\n",
    "from datetime import timedelta\n",
    "\n",
    "sys.path.append('..')\n",
    "\n",
    "from deepfield import Field"
   ]
  },
  {
   "cell_type": "markdown",
   "metadata": {},
   "source": [
    "We need a model with computed states. Here we assume that the provided `norne_simplifed` model has been simulated with some external software and contains the RESULTS folder with states given in binary `.X` files or `UNRST` file. Let's load the model:"
   ]
  },
  {
   "cell_type": "code",
   "execution_count": 2,
   "metadata": {},
   "outputs": [
    {
     "name": "stdout",
     "output_type": "stream",
     "text": [
      "INFO:Field:Using default config.\n",
      "WARNING:Field:norne_simplified.UNRST file was not found.\n",
      "INFO:Field:Start reading X files.\n",
      "INFO:Field:Start reading ../open_data/norne_simplified/RESULTS/norne_simplified.X0000\n",
      "INFO:Field:Decoding PRESSURE.\n",
      "INFO:Field:Decoding RS.\n",
      "INFO:Field:Decoding SGAS.\n",
      "INFO:Field:Decoding SOIL.\n",
      "INFO:Field:Decoding SWAT.\n",
      "INFO:Field:Finish reading ../open_data/norne_simplified/RESULTS/norne_simplified.X0000\n",
      "INFO:Field:Start reading ../open_data/norne_simplified/RESULTS/norne_simplified.X0001\n",
      "...\n",
      "INFO:Field:===== Field summary =====\n",
      "INFO:Field:GRID attributes: MAPAXES, ZCORN, COORD, ACTNUM, DIMENS\n",
      "INFO:Field:ROCK attributes: PORO, PERMX, PERMY, PERMZ\n",
      "INFO:Field:STATES attributes: PRESSURE, RS, SGAS, SOIL, SWAT\n",
      "INFO:Field:TABLES attributes: PVTO, ROCK, PVTW, DENSITY, SWOF, SGOF, PVDG\n",
      "INFO:Field:WELLS attributes: COMPDAT, WCONPROD, WELLTRACK, WELSPECS, RESULTS\n",
      "INFO:Field:AQUIFERS attributes: \n",
      "INFO:Field:=========================\n",
      "INFO:Field:Grid pillars (`COORD`) are mapped to new axis with respect to `MAPAXES`.\n"
     ]
    }
   ],
   "source": [
    "model = Field('../open_data/norne_simplified/norne_simplified.data').load()"
   ]
  },
  {
   "cell_type": "markdown",
   "metadata": {},
   "source": [
    "Required well's preprocessing:"
   ]
  },
  {
   "cell_type": "code",
   "execution_count": 3,
   "metadata": {},
   "outputs": [
    {
     "data": {
      "text/plain": [
       "<deepfield.field.wells.Wells at 0x7f85c098a940>"
      ]
     },
     "execution_count": 3,
     "metadata": {},
     "output_type": "execute_result"
    }
   ],
   "source": [
    "(model.wells\n",
    " .drop_incomplete()\n",
    " .get_wellblocks(model.grid)\n",
    " .drop_outside()\n",
    " .apply_perforations()\n",
    " .calculate_cf(rock=model.rock, grid=model.grid)\n",
    " .compute_events(grid=model.grid))"
   ]
  },
  {
   "cell_type": "markdown",
   "metadata": {},
   "source": [
    "Get rates (by default CPU multiprocessing is used):"
   ]
  },
  {
   "cell_type": "code",
   "execution_count": 4,
   "metadata": {
    "scrolled": true
   },
   "outputs": [
    {
     "name": "stdout",
     "output_type": "stream",
     "text": [
      "Processed 36 out of 36 wells\n"
     ]
    },
    {
     "data": {
      "text/plain": [
       "<deepfield.field.field.Field at 0x7f865e4cbd30>"
      ]
     },
     "execution_count": 4,
     "metadata": {},
     "output_type": "execute_result"
    }
   ],
   "source": [
    "model.calculate_rates()"
   ]
  },
  {
   "cell_type": "markdown",
   "metadata": {},
   "source": [
    "Now we can check daily rates data:"
   ]
  },
  {
   "cell_type": "code",
   "execution_count": 5,
   "metadata": {},
   "outputs": [
    {
     "data": {
      "text/html": [
       "<div>\n",
       "<style scoped>\n",
       "    .dataframe tbody tr th:only-of-type {\n",
       "        vertical-align: middle;\n",
       "    }\n",
       "\n",
       "    .dataframe tbody tr th {\n",
       "        vertical-align: top;\n",
       "    }\n",
       "\n",
       "    .dataframe thead th {\n",
       "        text-align: right;\n",
       "    }\n",
       "</style>\n",
       "<table border=\"1\" class=\"dataframe\">\n",
       "  <thead>\n",
       "    <tr style=\"text-align: right;\">\n",
       "      <th></th>\n",
       "      <th>DATE</th>\n",
       "      <th>WOPR</th>\n",
       "      <th>WWPR</th>\n",
       "      <th>WGPR</th>\n",
       "      <th>WFGPR</th>\n",
       "    </tr>\n",
       "  </thead>\n",
       "  <tbody>\n",
       "    <tr>\n",
       "      <th>15</th>\n",
       "      <td>1999-04-01</td>\n",
       "      <td>0</td>\n",
       "      <td>0</td>\n",
       "      <td>0</td>\n",
       "      <td>0</td>\n",
       "    </tr>\n",
       "    <tr>\n",
       "      <th>16</th>\n",
       "      <td>1999-05-17</td>\n",
       "      <td>0</td>\n",
       "      <td>0</td>\n",
       "      <td>0</td>\n",
       "      <td>0</td>\n",
       "    </tr>\n",
       "    <tr>\n",
       "      <th>17</th>\n",
       "      <td>1999-05-20</td>\n",
       "      <td>6571.39</td>\n",
       "      <td>21180.1</td>\n",
       "      <td>8.86762e+06</td>\n",
       "      <td>8.16128e+06</td>\n",
       "    </tr>\n",
       "    <tr>\n",
       "      <th>18</th>\n",
       "      <td>1999-06-22</td>\n",
       "      <td>5179.07</td>\n",
       "      <td>18197</td>\n",
       "      <td>6.09693e+06</td>\n",
       "      <td>5.54105e+06</td>\n",
       "    </tr>\n",
       "    <tr>\n",
       "      <th>19</th>\n",
       "      <td>1999-07-01</td>\n",
       "      <td>5022.09</td>\n",
       "      <td>17821.3</td>\n",
       "      <td>5.81483e+06</td>\n",
       "      <td>5.276e+06</td>\n",
       "    </tr>\n",
       "  </tbody>\n",
       "</table>\n",
       "</div>"
      ],
      "text/plain": [
       "         DATE     WOPR     WWPR         WGPR        WFGPR\n",
       "15 1999-04-01        0        0            0            0\n",
       "16 1999-05-17        0        0            0            0\n",
       "17 1999-05-20  6571.39  21180.1  8.86762e+06  8.16128e+06\n",
       "18 1999-06-22  5179.07    18197  6.09693e+06  5.54105e+06\n",
       "19 1999-07-01  5022.09  17821.3  5.81483e+06    5.276e+06"
      ]
     },
     "execution_count": 5,
     "metadata": {},
     "output_type": "execute_result"
    }
   ],
   "source": [
    "model.wells.total_rates.iloc[15:20]"
   ]
  },
  {
   "cell_type": "markdown",
   "metadata": {},
   "source": [
    "and cumulative rates:"
   ]
  },
  {
   "cell_type": "code",
   "execution_count": 6,
   "metadata": {},
   "outputs": [
    {
     "data": {
      "text/html": [
       "<div>\n",
       "<style scoped>\n",
       "    .dataframe tbody tr th:only-of-type {\n",
       "        vertical-align: middle;\n",
       "    }\n",
       "\n",
       "    .dataframe tbody tr th {\n",
       "        vertical-align: top;\n",
       "    }\n",
       "\n",
       "    .dataframe thead th {\n",
       "        text-align: right;\n",
       "    }\n",
       "</style>\n",
       "<table border=\"1\" class=\"dataframe\">\n",
       "  <thead>\n",
       "    <tr style=\"text-align: right;\">\n",
       "      <th></th>\n",
       "      <th>DATE</th>\n",
       "      <th>WOPR</th>\n",
       "      <th>WWPR</th>\n",
       "      <th>WGPR</th>\n",
       "      <th>WFGPR</th>\n",
       "    </tr>\n",
       "  </thead>\n",
       "  <tbody>\n",
       "    <tr>\n",
       "      <th>15</th>\n",
       "      <td>1999-04-01</td>\n",
       "      <td>0</td>\n",
       "      <td>0</td>\n",
       "      <td>0</td>\n",
       "      <td>0</td>\n",
       "    </tr>\n",
       "    <tr>\n",
       "      <th>16</th>\n",
       "      <td>1999-05-17</td>\n",
       "      <td>0</td>\n",
       "      <td>0</td>\n",
       "      <td>0</td>\n",
       "      <td>0</td>\n",
       "    </tr>\n",
       "    <tr>\n",
       "      <th>17</th>\n",
       "      <td>1999-05-20</td>\n",
       "      <td>6571.39</td>\n",
       "      <td>21180.1</td>\n",
       "      <td>8.86762e+06</td>\n",
       "      <td>8.16128e+06</td>\n",
       "    </tr>\n",
       "    <tr>\n",
       "      <th>18</th>\n",
       "      <td>1999-06-22</td>\n",
       "      <td>11750.5</td>\n",
       "      <td>39377.1</td>\n",
       "      <td>1.49646e+07</td>\n",
       "      <td>1.37023e+07</td>\n",
       "    </tr>\n",
       "    <tr>\n",
       "      <th>19</th>\n",
       "      <td>1999-07-01</td>\n",
       "      <td>16772.5</td>\n",
       "      <td>57198.4</td>\n",
       "      <td>2.07794e+07</td>\n",
       "      <td>1.89783e+07</td>\n",
       "    </tr>\n",
       "  </tbody>\n",
       "</table>\n",
       "</div>"
      ],
      "text/plain": [
       "         DATE     WOPR     WWPR         WGPR        WFGPR\n",
       "15 1999-04-01        0        0            0            0\n",
       "16 1999-05-17        0        0            0            0\n",
       "17 1999-05-20  6571.39  21180.1  8.86762e+06  8.16128e+06\n",
       "18 1999-06-22  11750.5  39377.1  1.49646e+07  1.37023e+07\n",
       "19 1999-07-01  16772.5  57198.4  2.07794e+07  1.89783e+07"
      ]
     },
     "execution_count": 6,
     "metadata": {},
     "output_type": "execute_result"
    }
   ],
   "source": [
    "model.wells.cum_rates.iloc[15:20]"
   ]
  },
  {
   "cell_type": "markdown",
   "metadata": {},
   "source": [
    "Note: to get detailed rates for each block see the `BLOCKS_DYNAMICS` attribute."
   ]
  },
  {
   "cell_type": "markdown",
   "metadata": {},
   "source": [
    "Rates can be quickly visualized using `show_rates` method:\n",
    "```python\n",
    "model.wells.show_rates()\n",
    "```\n",
    "It activates an interactive widget where one can specify wellname, phase, time interval and cumulative mode as shown below:"
   ]
  },
  {
   "cell_type": "markdown",
   "metadata": {},
   "source": [
    "<p><img src=\"data:image/png;base64,iVBORw0KGgoAAAANSUhEUgAABK4AAAKzCAYAAAA3AkUAAAAAAXNSR0IArs4c6QAAAARnQU1BAACxjwv8YQUAAAAJcEhZcwAAEnQAABJ0Ad5mH3gAAOMqSURBVHhe7N0JeBVVurd9FG3FdmqPim1rOyvOKCrOEyIqKo4MgjjhKygKelScRwRFnHB8nZj0QxRFReaZBgQabPAgDRxAoAGBAzRyhBe7lfXxX6kKOzuVkEBSVtVz/65rCdTeiUlIdlI3q55dxQEAAAAAAAAJRLgCAAAAAABAIhGuAAAAAAAAkEiEKwAAAAAAACQS4QoAAAAAAACJRLhKgffff5/FYrFKXAAAAACQVYSrFODEFEBJeHwAAAAAkGWEqxTgxBRASXh8AAAAAJBlhKsU4MQUQEl4fAAAAACQZYSrFODEFEBJeHwAAAAAkGWEqxTgxBRASXh8AAAAAJBlhKsU4MQUQEl4fAAAAACQZYSrFODEFEBJeHwAAAAAkGWEqxTgxBRASXh8AAAAAJBlhKsU4MQUQEl4fAAAAACQZYSrFODEFEBJeHwAAAAAkGWEqxTgxBRASXh8AAAAAJBlKQ9XX7uOVaq4jl+Hf+zoqlTpuPFotpT3xPTvXWu72rXbuZH/DA7k+udI1652bdf178Gf8/29q6vdbqQr/qJ/d103vlztwhX1+v/pRrbLvU/XjS8FoDIRrgAAAABkGeEqBbYsXG1cUQGqtHAV3Fb85YJolfNC/xzZrli88v/fnJcteDuIV0C+77//3rVt2zb4U+natGnj/va3vwV/Ko5wBQAAACDLCFcpsMXhauNql78tqoRwVRCigpfLD1fahVUsQAW7q8JXFPl6C4JXZCQDjPrnP//patasufGxqoq78cYbg6PRbrjhBn+/3XffvcR4RbgCAAAAkGUxhasfXK8GVVyVwsIkEcd+6OUaVGngev0Q/HmjrztuvM/GE7eCVfS20sNVwetv0Ovrgv9P+Doa9Np4S1FF/x/F7+Nv3/g/KXq/gv9PkWNF3r8Cpb/9ZbNF4ardSDcyasdTRGAKo5WO5e+aKo2/b2lVqrTdXYBhYZDSKile5d7n+OOP98ErCuEKAAAAQJbFtuPqh14NigYhH6k2npTlHsvbMVUQfXJ2UPnbc0JVGcJVkfsH/88GOfXI/z9y34bgdeZGqDA+Fb5c+LZHHCv2ukt9+8tmS8PVPyMu8dtcTCp7uCp43cV2dOUoTwQDrCktXpU1WgnhCgAAAECWxXepoI82m3YcFYSsBq5BfqgKq04QgvIjT9HQVIZwlfcKSn35QNH7BH/ODVDh6y4SvPL+f2V6+8tmy8NV0d1UXgWFq6gZV6Hcyw7ZbQWULCpelSdaCeEKAAAAQJbFOOOqaCRSwOn4de6xorf7sFUkFgWKxKnNh6vcHVBScjgqeF3hCWOxcJX3Mv5YkSpVNFyV7e0vm60JV27jfwue6S+4ZLAiwpWfeVX6bqsCm9+VBViXG6oOPPDAwt+XJVoJ4QoAAABAlsU6nH1T7FEkKog3Oubjkt+htCnoFISfghO44iu839aHK//n8PUGxyPvs0XhauOfI1ec4WqjIFb5Swa3NlyVOVoVKNh9xTMLAqXJjVdaZY1WQrgCAAAAkGWxhquCywN7uR8UqYIQFB77Oryt4K5B+Nlc4NnKcFXGy/m2PFyVL1CVZKvD1UaFl/b9fSvCVTmjlRCugLIJ41V5opUQrgAAAABkWazhqiAUNXAdOzbYFJR8bNr45/zIFBzP606Foavg8FaGqyL3DwWXDG5luCp43Zt7+8umIsKV2/ingksGC1a5w9XmopW/vfjMq83u4AJQ6PHHHy9XtBLCFQAAAIAsizdchXGnyC6nIBRFRB4fh3LDUrEdUhWz4yr3PgX/z6L/3y0KVxtt/u0vm4oJVxuFlwyWN1wFL1f6TqsgjOW+bBC7Svp/Adh6hCsAAAAAWRZzuIqIOWHwyQtDoU0hqWAVjT5bGa7Ev0zO/2PjKyu4zG9TSCv2Mhv5Y0XemOLhSkp/+8umwsLVRv62coar8GUiV5H7Ft3VVdKzDgKoOIQrAAAAAFkWe7hC+XFiCqAkPD4AAAAAyDLCVQpwYgqgJDw+AAAAAMgywlUKcGIKoCQ8PgAAAADIMsJVCnBiCqAkPD4AAAAAyDLCVQpwYgqgJDw+AAAAAMgywlUKcGIKoCQ8PgAAAADIMsJVCnBiCqAkPD4AAAAAyDLCVQpwYgqgJDw+AAAAAMgywlUKcGIKoCQ8PgAAAADIMsJVCnBiCqAkPD4AAAAAyDLCVQroxJTFYrFKWgAAAACQVYQrAAAAAAAAJBLhCgAAAAAAAIlEuAIAAAAAAEAiEa4AAAAAAACQSIQrAAAAAAAAJBLhKgWinkWMxWKxwgUAAAAAWUW4SgFOTAGUhMcHAAAAAFlGuEoBTkwBlITHBwAAAABZRrhKAU5MAZSExwcAAAAAWUa4SgFOTAGUhMcHAAAAAFlGuEoBTkwBlITHBwAAAABZRrhKAU5MAZSExwcAAAAAWUa4SgFOTAGUhMcHAAAAAFlGuEoBTkwBlITHBwAAAABZRrhKAU5MAZSExwcAAAAAWUa4SgFOTAGUhMcHAAAAAFlGuEoBTkwBlITHBwAAAABZRriqQF93bOB6/RD8oQJt+Ynp313X2rVd7dzV9e/BbTn+3nXjbV033rvAP0e2c7XbjXT/DP4MILkIVwAAAACyjHBVUb7u6KpUSVC48jGqtms3Mjc//dONbKeAtSlSRSFcAZXr+++/d23btg3+VLo2bdq4v/3tb8GfiiNcAQAAAMgywlVFSVK4+udI1652bRe1uUr+3rV2qWGKcAVUnn/+85+uZs2aGx8vqrgbb7wxOBrthhtu8PfbfffdS4xXhCsAAAAAWUa4KuJr11HxqZciVJWiIcqHKR0L16bbfujVoMhtDXLq1dcdo1+mPMp7Yrq5MFUsbHGpIBCrMEhplRSvcu9z/PHH++AVhXAFAAAAIMsIV0UoXOlEsePG3+WI2E1VEKRy7lfm+1RxHYu88s0r34lpweWARS8RzJd3H8IVELvS4lVZo5UQrgAAAABkGeGqiIJwlbtjSnyAyq9N+aEq/88/9HINNr6u4i+28XU16OWK/h9KV74T04KB7GUJV4WD2glXwG8iKl6VJ1oJ4QoAAABAlhGuiigIV6XtiCrx0r+8cFVw+WDezi3x94s4XgrCFZBduaHqwAMPLPx9WaKVEK4AAAAAZBnhqogSwlVwiV/BCuLUZnZc5c+9KroqM1xxqSCQNrnxSqus0UoIVwAAAACyjHBVRFS4+sH1arDxZLKclwqWuONqC5T3xJTh7ED6hPGqPNFKCFcAAAAAsoxwVURUuIrehVVwyWDJ4arYnwM+aFXqjKuN8sNUnmJhi3AFJMLjjz9ermglhCsAAAAAWUa4KqKUHVe5sclHqYJLegrvGxGqij2rYAkD2zdni05MfYzKv2QwmG2VE6k8whWQWoQrAAAAAFlGuCqihBlXwfEwVvkYFUSoTc9AGAQu3Z7zCooOcy9/tJItPzEtGNSugFW4orZhEa6A1CJcAQAAAMgywlUKcGIKoCQ8PgAAAADIMsJVCnBiCqAkPD4AAAAAyDLCVQpwYgqgJDw+AAAAAMgywlUKcGIKoCQ8PgAAAADIMsJVCnBiCqAkPD4AAAAAyDLCVQpwYgqgJDw+AAAAAMgywlUKcGIKoCQ8PgAAAADIMsJVCnBiCqAkPD4AAAAAyDLCVQpwYgqgJDw+AAAAAMgywlUKcGIKoCQ8PgAAAADIMsJVCujElMVisUpaAAAAAJBVhCsAAAAAAAAkEuEKAAAAAAAAiUS4AgAAAAAAQCIRrgAAAAAAAJBIhCsAAAAAAAAkEuEKAAAAAAAAiUS4AgAAAAAAQCIRrgAAAAAAAJBIhCsAAAAAAAAkEuEKAAAAAAAAiUS4AgAAAAAAQCIRrgAAAAAAAJBIhKuU+Mtf/uI6d+7s7r///jIt3VcvAwAAAAAAkFaEqxRQgOrRo4dbunRpcGTzdN/u3bsTrwAAAAAAQGoRrlJAu6fKE61Cehm9LAAAAAAAQBoRrlJAl/5tqa15WQAAAAAAgN8S4SoFfpNw9UMv16BKFVclZ3X8OrgtEX5wvRpUcQ16/RD8uYz0fuW8Iz/0auCqNOi18bUBAAAAAICkIVylQNzh6uuOClUNXJEmFIasxNSrLQlXBS+TnPcBAAAAAACUhnCVArGGq687Fo9WIX9bUnZeEa4AAAAAAMg6wlUKxBeuNhd2vnZf597kQ1bHjUdzBDuzwlcRXor3tX4NLjkMw5i/LTxW5HK96Cjld4IV3i/qPsHbX/j/2bgK35evXcfc48HbvelSwZLe9+L/nyJv98ZFBwMAAAAAoHIQrlIgvnBVEHfKHGLKGq4UeKICUv6xwj9vSbiKCE/B21LafTaFq+D3ke/Pph1oBffJ2ZFW7P8BAAAAAAAqCuEqBWILV3nRabPKHK6KXnpYMEOr6MttfjfVZu6TF5gK5Ieq0sNV1Ptf5PYgsOW/XZHBCwAAAAAAbDXCVQqkP1wVvU/RGFRgq8NVruBtKLycr6zhqtjteaHKv7/5cWyjyGgGAAAAAAC2FuEqBWILV0GoSWe4CqJTkViVH6Ly/7zxSN7bUuTtzQ9V/s85/48ii3AFAAAAAEBFI1ylQHzhqnjYKSrv9iSFq8jdUPnvT/H3r9jbkvP2F/3/bRT5/wAAAAAAAJWFcJUCnTt3dkuXLg3+VHZ6Gb1suZQWZ4IdR4XdJ+q+effZmnBVNKAFx0oIV1GvM4xQ5QpXhffpWHyeVV6UK+Tf57yABwAAAAAAthrhKgX+8pe/uB49epQrXum+3bt39y9bXj4i5QepYhFoo+DYpriz6RkDw7ttWbgK34ZNL1fwenLvUzRcFcSj3KgUBKiIlyk9XOX8vyICXsFtucejB7YDAAAAAICtR7hKCQUo7Z7SpX9lWbrvlkSrQkEIyl3FdhpJkfsp6BSdk1UQesofrjbea1N40tr4Cou+XF642mhTcCpYui0/gG16ewviU9TbsvFgQaTLPx6I+v8AAAAAAICKR7gCAAAAAABAIhGuAAAAAAAAkEiEKwAAAAAAACQS4QoAAAAAAACJRLgCAAAAAABAIhGuAAAAAAAAkEiEKwAAAAAAACQS4QoAAAAAAACJRLgCAAAAAABAIhGuAAAAAAAAkEiEKwAAAAAAACQS4QoAAAAAAACJRLgCAAAAAABAIhGuAAAAAAAAkEiEKwAAAAAAACQS4QoAAAAAAACJRLgCAAAAAABAIhGuAAAAAAAAkEiEKwAAAAAAACQS4QoAAAAAAACJRLgCAAAAAABAIhGuAAAAAAAAkEiEKwAAAAAAACQS4QoAAAAAAACJRLhKsXnz5rm//vWvbvDgwa5Xr15+6fc69v333wf3AgAAAAAASCfCVQr961//cgMHDnSTJk1y06ZNc//4xz/c2rVr/dLvdUy3DRo0yN8XAAAAAAAgjQhXKbN48WLXo0cP/+vmLFq0yN/3hx9+CI4AAAAAAACkB+EqRRSrhg4dGvyp7IYMGeKWLFkS/AkAAAAAACAdYglXP/Rq4Dp+HfzB/eB6NajiGvRKzy6grzs2cBX15m7p69Ilf9o9taW6d+/u/v3vfwd/AlDU165jlSquSrg2PWABAAAAAH5DlR+ufujlGmw8EUzteeDXHTeeyFZQuNqK16WZVmW5PLAkumxQM68A5CuIVptiev6fAQAAAAC/FcLV5iQgXOnZAzVsfWtNnDiRZxsE8mhHaJUqHV2Rhyj/tZp3DAAAAAAQu8oNV/7kL//ym6KXCvqTxga93Nf+5DG8b0HcKTihDI5tvE9+7yly+8a1ZXGs4O2Jej35r3/TDoziL1P00iLt2Nj4PvQK3/8G7s03S3pdm/fXv/7VP1Pg1po6daqbPHly8CcA8nXH/K9fKdh1tWWPKQAAAACAivIb7LiKCFeKOYV3yJk1k38s5yyy4OVydi8F/5/yXd4TBKjcs9P8XVHFdklFvEyx/3f4PkTt4sh9XWUzePBg949//CP405bT6+jVq5cbPnw4i1XulU1FH482KfgaLt/jCQAAAACgoiUkXBWNOX4HRF708ccKd11Fn1QWvK7yXN5ThpPT/Njk35/8+JQfs0p4vVsYrhSb1q5dG/xpy+l1aMB7VJRgsTa3solwBQAAAABJlpBwVTQ2+WN5lwYWCVclBaDIqFS6gkiWG8XylBabgvctvPwvP1zlbsryCFesFK9sIlwBAAAAQJKlOFzlBKMiq/xhqOBtyHkducWpWGwKdlcVuW9wrJLCVUVdKrhw4UL30UcfRUYJFmtzK5sIVwAAAACQZNnacVUBwohVeMKa//+K/H9XbriqqOHsGszep0+fyCjBYm1uZZV/bCn+xRr9NQwAAAAAiFU6w1Wx1xnwYag8M66iFTmRzYtNUW9b+PZUVriaN2+emzhxYvCnLafXMX/+/OBPACTqMaiiHksAAAAAAFsnneFqo4KXy41AW3JpT8TL5L+9+bHJ/7n4++MvGyx8+yo2XMmgQYPcokWLgj+Vny4THDJkSPAnAJsUfL3mh+fyPZYAAAAAACpD5YerjXx0Kgw7FROupOBlg9e9xSeawUlria8nJ0wFJ7ZR/9+C9zF8P0oIVxGvq6z+/e9/u+7duwd/Kr9u3bq5X375JfgTgKLyHgfK+fUJAAAAAKgcsYQrVIwffvhhi3ZN6WX0sgAAAAAAAGlCuEqZJUuW+J1XZblsUM9EqJ1WRCsAAAAAAJBG2QxX4bD0UteWzZpKAl02qJlXGrY+depUH6jWrl3rl2ZZ6Zhu004rLg8EAAAAAABpxY6rFPv+++/d5MmT3eDBg12vXr38UqzSMZ49EAAAAAAApB3hCgAAAAAAAIlEuAIAAAAAAEAiEa4AAAAAAACQSIQrAAAAAAAAJBLhCgAAAAAAAIlEuAIAAAAAAEAiEa4AAAAAAACQSIQrAAAAAAAAJBLhCgAAAAAAAIlEuAIAAAAAAEAiEa4AAAAAAACQSIQrAAAAAAAAJBLhCgAAAAAAAIlEuAIAAAAAAEAiEa4AAAAAAACQSIQrAAAAAAAAJBLhCgAAAAAAAIlEuAIAAAAAAEAiEa4AAAAAAACQSIQrAAAAAAAAJBLhCkCkefPmub/+9a9u8ODBrlevXn7p9zr2/fffB/cCAAAAAKDyEK4AFPGvf/3LDRw40E2aNMlNmzbN/eMf/3Br1671S7/XMd02aNAg9+9//zt4KQAAAAAAKh7hCkChxYsXux49evhfN2fRokWue/fu7ocffgiOAAAAAABQsQhXADzFqqFDhwZ/KrshQ4a4JUuWBH8CAAAAAKDi/Ebh6mvXsUEvV7hP4+uOrkqVjhuPZt0PrleDKq5Kx+y/p0gXXR6onVZbSjuvUnHZoH+saeB6lbhJrOBrNPpLdOPjVpWNX7/hyn0MAwAAAABUit8kXH3d0epJH+EKyaSZVmW5PLAkumxQM6+SLQxPJYcr/9i08T7Fv0SDly28IfhaJl4BAAAAQKUiXMWKcIXk0bMHatj61po4cWKin20wjFLR4arobqr8L9EfejUo/pj1Qy/XoNTdWwAAAACArRVzuArCTeEJYnDSV+RSwYITyI5f512W488kSz+5zL99y+PY5l5PaW9jrrz3t2MvwhUS569//at/psCtNXXqVDd58uTgTwkTPsZEXioYfB3r69zHqPzHloKv4wYUKgAAAACIXTJ2XEWEq9yTS7/bIfJY7glo8HI5Z5wFOyzKOzurLK+n+NtY8D7knvAWv5SocMdHBYar4cOHs1hbtXr16uX+8Y9/BJ9RW06vY/DgwcGfkqTg69WHp8hwlSMyXBW8vI5t2rVV9GsbAAAAAFA5khuucs8cg5PJIjse8k4wC0JWfqTKOWEto7K9nqjXm3cZYGk7O4qeFW+VqBDBYpVnaSj72rVrg8+oLafXoQiWNEUu89uScBUc21yYBgAAAABUvMSGq6JRqOBY1MlkwbG8aJTD/78ijkcr6+uJeHvyXrbIyXKhkl//looKESxWeVamw5V/nMjfGbll4apYAI+6LwAAAACgQmUrXG38c+Qq85llWV/P5sNVsfcxUL6QtnlRIYLFKs+qqEsFFy5c6IYMGRL8KQkKviaLPJZsRbgq/mUb9VgFAAAAAKhImd9xVT5lfT2bD1fsuGKlZfXp08f97W9/Cz6jtlzihrMHjxGREXrjigxOkZEq6utdCFcAAAAAUNkyEq4iXqcXseNiM8r2ejYfrgrep8qfcQVsrXnz5rmJEycGf9pyeh3z588P/pRQW7LjaqPInZIl3BcAAAAAUHEyE67C++SeXEYPWt+csryeiLcnP1yFf855P/37nfe6gSQYNGiQW7RoUfCn8kveZYIl2MJwVeLjTbHIDQAAAACoSL9JuApPAhVx/IlghYQrCU4mC1d5o1Voc68n4u0pFq4kOBa+no69Iu4D/Pb+/e9/u+7duwd/Kr9u3bq5X375JfhTgm1puPLyHhf4OgYAAACASvfbhCsAifPDDz9s0a4pvYxeFgAAAACAika4AlBoyZIlfudVWS4b1OWB2mlFtAIAAAAAVBYz4apwvlRpi0t/AH/ZoGZeadi6ninwH//4h1u7dq1filU6ptu00yoVlwcCAAAAAFKLHVcAIn3//fdu8uTJbvDgwa5Xr15+KVbpWOKfPRAAAAAAkAmEKwAAAAAAACQS4QoAAAAAAACJRLgCAAAAAABAIhGuAAAAAAAAkEiEKwAAAAAAACQS4QoAAAAAAACJRLgCAAAAAABAIhGuAAAAAAAAkEiEKwAAAAAAACQS4QoAAAAAAACJRLgCAAAAAABAIhGuAAAAAAAAkEiEKwAAAAAAACQS4QoAAAAAAACJRLgCAAAAAABAIhGuAAAAAAAAkEiEKwAAAAAAACQS4QoAAAAAAACJRLgCAAAAAABAIhGuAAAAAAAAkEiEKwAAAAAAACQS4QoAAAAAAACJRLgCAAAAAABAIhGuAAAAAAAAkEiEKwAAAAAAACQS4QoAAKAc1q5d62bOnOnmzZvnf79+/Xq3ePFiN2nSJP97FPj555/dkiVL3JQpU/zHSX744Qc3bdo0t3r1avfLL7/4YwAAAKUhXAEAgMzYsGGDj0cKJflh5KeffnL/+7//6/71r38FRwqsW7fOr3//+9/BkdL9/e9/dzfddJN74IEH3IwZM9w//vEP98Ybb7ijjjrK/74kCjkKNnob9HaGfv31V/f//t//829D+DbrmP68Zs0a/zJ62/PfPt1H76te348//uiX7qf/Ty69nI7rdr0u/aqPT1nf33x62/UxDP+/ep16O/X26m0KKVr16NHDnXfeeW7WrFn+2HvvvecuvPBCN2rUKP/yAAAAm0O4AgAAmaGdT126dHG33Xab++abb4KjBdGqcePGrmHDhu7zzz8PjhZ45JFH3IMPPujGjx8fHCndloar999/39/nqquu8juPQnqZTp06uXbt2rnp06f7Y9rNdd9997mLL77YHX300a558+Y+9uT67//+b/faa6+5Sy65xNWsWdOddNJJ7rrrrnMffPBBkWg3evRo//aefPLJ7thjj3WnnXaau+uuu9yIESOCe5TPsmXL/MdQH8sTTjjBHXPMMe6CCy5wTz75pJs7d25hENPboDilgBXGQsIVAAAoL8IVAADIjBUrVriPPvrI1apVyw0ePNjvDlJIWbhwoTvjjDPcYYcd5sOWjmtpx9DVV1/t2rRp46NLWWxpuHr55ZfdDjvs4N+GPn36+LdVFKkeeughd8stt/jL6mTBggWuQ4cO7oUXXnB169b1QWrgwIH+ttB//dd/uf/7f/+ve/PNN/3r6927t49wetu++OKLwsvz5syZ40NTv3793FdffeV69erl7r//fteyZUv3/fffl2vnlYLbW2+95ePbww8/7COZ/r8vvviiu/XWW30c/O677/wOsiiEKwAAUF6EKwAAkBkKJn/729/c4Ycf7nr27OnjiNZf/vIXd/nll7vjjz/ePfvss27lypV+R5DiT/369d0TTzzhQ49ili59GzNmjH/5t99+28cZ3U+7tmRrwtUee+zhd1EpGmnWk0SFK70N48aN8/+v22+/3Ueh/HClnUx//etffXzSJYN6+/r27etuuOEGv3tL76Po/VIkC3dhKT61b9/eX8Kn3VglRaYoAwYMKAxUevsU/nSJoC4FVBDUDix9LPQ+6eP+7bff+ssFw7eFcAUAAMqLcAUAADJD4UmRRJfNPffccz6gKPBoV5IuvVNweeaZZ/xlhJoFpd1H2nGlnUuiiKOdSf/5n//pj1922WX+18cee8xHGF3ytjXhqkaNGv6+tWvX9juVFKiiwlUuXcaoSx/zw1WUr7/+2t17773u5ptvdsuXLw+OFszx0kB5xabPPvvMtWrVqjAglTVcaX6VdnRdeeWVrmvXrsHRTfRxuf76630gHDZsWJGPi3ZhCeEKAACUF+EKAABkinYeNWvWzIcqhZrZs2e7O+64w++eUszSbiNdTqiYo8vd/s//+T/uyy+/9DuSFFs0A0rHp06d6ncU6XVohpQijHYrbU24UrDSTqsGDRr4l9dOsIoKV7rkT1GqSZMmrmPHju6f//xncEvB5YJ33nmnO/TQQ90f/vAHd8ABB/j3O9xlVhb6eClMXXvttf5jk2/p0qX+MkLFOX18CVcAAKAiEK4AAECmaAeRApV2HWn2k2LQueee60aOHOmGDh3qw9VTTz3lw4kCkqLR5MmT/eV0H3/8sbvooov8fCztyFLUUQBq27at320UXr63NeFKO5/0dmknlwKTwlpFhCu9bZrVpR1R+bOr9Hu9f/Pnz/dD2V9//XW/yyz/GRZLoo+DhrI3atTIxyu9/nza6aaP3/777+8vDyRcAQCAikC4AgAAmaIY079/f3fFFVf4oeEKVno2Pc1h0mWDCldNmzb1v9fxV155xT8b4aJFi9zzzz/v52OFA9G1FGuOO+44v5Np0KBBWx2utPtJO7e0C0zzqz788MOtClfaKaa5Xnp9mp2lweylBSkFI82q0rMA6nVqJ9XmKFxp95k+buEA9nwKWwpTGj6vSzAJVwAAoCIQrgAAQKZoFpPikOZTKeS8//77fseVQpWCjp6p75JLLvHRRpfOKbIo3ihevfTSS/6yQO0qUpgKl4ad61JDBZitDVe6NFA7oLp16+Zjk4KVnuVPO8TKG640lF1BTuFL91EYCgehl0YzqHTpYKdOnfycrbLQx047urRTTHPA8un90uWZZ599tn/2QsIVAACoCIQrAACQOYos2i11zjnn+F1NijS6VE40WFzPJKiopSHuw4cP98dXrVrlZ13pNv2qsKKdRgphmpulpddbUeFKv2r3l0KZ3lY9G2BuuNL/W0v/H0Up7ZLSn0OKVnpbdFmkQpzmSmnXUy7txtL7ofdN74deXu+H7qv/Z/4srM1RvNOOK4U2hUBdTqn/h16HdrkpWmmwvYbfE64AAEBFIFwBAIBM0i6kI4880p188snu3XffdWvWrPHHdbmfos2+++7rB42HsUgBRpfw1alTx+9y0swoxS7FID1bnwaS/8///E+FhSvRZX2KPXvvvbdr2LBh4dui2xWb9P++6667XPPmzf3OMP1ZM7wUoDRnSrvH9ttvPz9TSq9Xu6d0SV84dF3v86RJk3yIU2jSbiy9L9rpdeaZZ7ohQ4b43Wa6r0KYolZuHMunnWz6uCr4denSxe/2Wrhwod+BpY+JBrPr46b/L+EKAABUBMIVAADIJEWS008/3UcWxRuFGdGz+im+7Lzzzu7xxx93c+fO9cdFO6omTpzoLw1UwDrhhBPciSee6C6//HLXu3dv/8x5FRmuNCxdc7WqVavmrrnmmsJwpdCjS/I0b2u33XZzu+yyi6tevbr/fyhCKWopFp111lluhx128M8SqGik2/X/aNWqlY9sCkiaoXXBBRe4Y445xh199NH+du3u+uCDDwqjlXZMvfrqq36Ol+KdIl4Uvd16/1977TU/xF4zwhQHzzjjDB/DNE8s3KlGuAIAABWBcAUAADJJO4H+8pe/+EiiXUjhTiLFHMUXhR/tGNLupFz6s0KLnn1Pl+dpjRkzxocYxS8FF10Kp/vo99oBpd1PuuRQvy+JAtno0aMLd0OJXp9eVjFKcS2cN6Vf9f/U8c8//7xwaXaUhsjrEj3N5FIo0q4tvS/h0o6yMNQpNC1YsMB/DPSyWtplpUCmCBdSsNPHYuzYsYU7ukqi2/Wx1dunywP1OjUz69tvvy2MVuH9wo9LuNtNb8v48eP9TraS4hgAAEAuwhUAAAAAAAASiXAFAAAAAACARCJcAQAAAAAAIJEIVwAAAAAAAEgkwhUAAAAAAAASiXAFAAAAAACARDIZrpYsWeKfinny5MmsFK+//vWvfkXdxsrW0tO6Rx1nZWvp65m/axtLf888fmd/8TVtZ/E1bWPxNW1n8TVtZ1XW17R6y8KFC4MCs/VMhqv/+3//rzvggAPcOeeck/p19tln+xV1W9bXKaec4mrXrh15Gys766yzznInnniiO/PMMyNvZ2VnnXrqqe7kk0+OvI2VnaXvWbVq1XJnnHFG5O2s7KzTTjuNr2kj66STTnKnn3565G2s7Cz9Hevv2uq5h6Wlx279XBZ1G6vyVtzn9jq/0nmWzreibt+adcghh7jnn38+KDBbz2S4+uCDD1yzZs3c4sWLWSleo0ePduPGjYu8jZWdNXv2bNe3b1/397//PfJ2VnbWhAkT3IgRIyJvY2VnLViwwPXr18/913/9V+TtrOws/YvrkCFDIm9jZWsNGDDA/e1vf4u8jZWdpb9j/V3rcTzqdlZ2lh679XNZ1G2s7CydX+k8a968eZG3b81q2bKle+utt4ICs/VMhqv/7//7/9z/+T//J/hTeq1Zs8Zvv9P6+eefg6N26Avtv//7v4M/Iav+93//1/3lL39x//znP4MjyKrvv//exwxk27///W/39ddfu//5n/8JjiCr/vGPf/gTXWSfLin64Ycfgj8hq/R3rL9rPY4j2/TYrZ/LEJ9ff/3VBx+d269evTo4Wrl0fqXzrP/3//5fcKTi/Od//qe/0q2iEK5STP/aMXToUL8UsawhXNlAuLKDcGUD4coOwpUdhCsbCFd2EK7i969//cuf8+jcfu7cucHRykW4SrishCs9mGi7rtaPP/4YHLWDcGUD4coOwpUNhCs7CFd2EK5sIFzZQbiKn8LVyJEj/bm9RqXEgXCVcFkJV9pO+Msvv/i1YcOG4KgdhCsbCFd2EK5sIFzZQbiyg3BlA+HKDsJV/HQ+H57b6zw/DoSrhMtKuNInd+6yhnBlA+HKDsKVDYQrOwhXdhCubCBc2UG4it9vcW5PuEq4rIQrXR6oOVdaDGdHVhGu7CBc2UC4soNwZQfhygbClR2Eq/hpl9WiRYv8uT3D2YsjXKXY/Pnz/VOVajGcHVlFuLKDcGUD4coOwpUdhCsbCFd2EK7ipxlXY8aM8ef2c+bMCY5WLsJVwmVpOPvAgQP9Yjg7sopwZQfhygbClR2EKzsIVzYQruwgXMVP4WrUqFH+3D6uc1zCVcJlJVxZR7iygXBlB+HKBsKVHYQrOwhXNhCu7CBc2UC4SjjCVTYQrmwgXNlBuLKBcGUH4coOwpUNhCs7CFc2EK4SLkvD2fWAosVwdmQV4coOwpUNhCs7CFd2EK5sIFzZQbiKn4az6/umPu5xnfcQrhIuS8PZBw8e7BczrpBVhCs7CFc2EK7sIFzZQbiygXBlB+EqfppxNXr0aH9uz3D24ghXKaZwNWjQIL+iwtWGDRvcsmXL3IwZM9y0adPc3Llz/SeljmcB4coGwpUdhCsbCFd2EK7sIFzZQLiyg3AVvzBc6dw+rnNcwlXCWZlxtXbtWtejRw/XsGFDV6dOHXfPPfe42bNn+y+KLCBc2UC4soNwZQPhyg7ClR2EKxsIV3YQrmwgXCWclXDVtWtXd95557nddtvN7bTTTq569eru3nvvzcyJIeHKBsKVHYQrGwhXdhCu7CBc2UC4soNwZQPhKuGyEq5Wr17tL//TWr9+fXB0k7Zt27oDDzzQbbPNNq5KlSquatWqPmQNHz48uEe6Ea5sIFzZQbiygXBlB+HKDsKVDYQrOwhX8fvll1/cwoUL/bn9qlWrgqOVi3CVcFaGs+uT5YADDvDRKgxXdevWdSNGjAjukW6EKxsIV3YQrmwgXNlBuLKDcGUD4coOwlX8NM5nzJgxDGcvAeEqxRYsWOCGDBni15o1a4Kjm/Tp08eddtppPlr9/ve/d4cddphr3769mzVrVnCPdCNc2UC4soNwZQPhyg7ClR2EKxsIV3YQruKncKVzHp3bE66KI1xlmL6pNG/e3G233XauRo0a7qmnnnKLFi1yv/76a3CPdCNc2UC4soNwZQPhyg7ClR2EKxsIV3YQrmwgXCWclXC1YcMGd8MNN7jdd9/dNWrUyF8rq280Op4FhCsbCFd2EK5sIFzZQbiyg3BlA+HKDsKVDYSrhMtKuNInmrYRakUNZ5cwXDVr1iw4kh2EKxsIV3YQrmwgXNlBuLKDcGUD4coOwlX8NJxdM6x1br9y5crgaOUiXCVcloazDxo0yK+o4eyicLXbbru5Jk2aBEeyg3BlA+HKDsKVDYQrOwhXdhCubCBc2UG4ip9mXI0ePdqf28d1jku4SrgsDWcfNmyYX1HD2UXhapdddvGXCmYN4coGwpUdhCsbCFd2EK7sIFzZQLiyg3AVP4WrsWPH+nP7uXPnBkcrF+Eq4azMuBKFq5133tldc801wZHsIFzZQLiyg3BlA+HKDsKVHYQrGwhXdhCubCBcJZy1cLXTTju5q666KjiSHYQrGwhXdhCubCBc2UG4soNwZQPhyg7ClQ2Eq4TL0nD22bNn+1XacPZq1aq5Bg0aBEeyg3BlA+HKDsKVDYQrOwhXdhCubCBc2UG4ip+Gs+tjrnP7FStWBEcrF+Eq4awNZ99hhx3cZZddFhzJDsKVDYQrOwhXNhCu7CBc2UG4soFwZQfhKn4MZy8d4SrFFi5c6EaMGOFXacPZf/e737lLLrkkOJIdhCsbCFd2EK5sIFzZQbiyg3BlA+HKDsJV/BSuxo8f78/t582bFxytXISrhLM242q77bZz9erVC45kB+HKBsKVHYQrGwhXdhCu7CBc2UC4soNwZQPhKuGshauqVau6unXrBkeyg3BlA+HKDsKVDYQrOwhXdhCubCBc2UG4soFwlXBZCVerVq1ys2bN8qukTzaFq2222cbVqVMnOJIdhCsbCFd2EK5sIFzZQbiyg3BlA+HKDsJV/DScXZcI6tye4ezFEa5SbHPD2Tds2ODDVZUqVdx5550XHM0OwpUNhCs7CFc2EK7sIFzZQbiygXBlB+EqfgxnLx3hKsX0A+GoUaP80sl9vl9//bUwXJ1zzjnB0ewgXNlAuLKDcGUD4coOwpUdhCsbCFd2EK7iF/58pHP7uD72hKuEszLjSuGqefPmhCukGuHKDsKVDYQrOwhXdhCubCBc2UG4soFwlXBWwpWukyVcIe0IV3YQrmwgXNlBuLKDcGUD4coOwpUNhKuEy0q4WrlypY83WlGfbPqmcv311xOukGqEKzsIVzYQruwgXNlBuLKBcGUH4Sp+2nQyZ84cf44b189IhKuEy0q40oPJwIED/Yoazq4Bb4QrpB3hyg7ClQ2EKzsIV3YQrmwgXNlBuIqfzt0130rn9nGd4xKuEi4r4WrRokX+mQe0dHKfb/369a5Zs2aEK6Qa4coOwpUNhCs7CFd2EK5sIFzZQbiKn76uJk6c6M/t58+fHxytXISrhLMy40qfgIQrpB3hyg7ClQ2EKzsIV3YQrmwgXNlBuLKBcJVwVsLVunXrXNOmTQlXSDXClR2EKxsIV3YQruwgXNlAuLKDcGUD4SrhsjScfcaMGX5FfbKtXbuWcIXUI1zZQbiygXBlB+HKDsKVDYQrOwhX8dNwdp3b6tx++fLlwdHKRbhKOCvD2X/66Sd33XXXEa6QaoQrOwhXNhCu7CBc2UG4soFwZQfhKn4MZy8d4SrFFi9e7D/RtHRyn0/HCFdIO8KVHYQrGwhXdhCu7CBc2UC4soNwFT99XenrS+c9CxYsCI5WLsJVwlmZcaVdWE2aNCFcIdUIV3YQrmwgXNlBuLKDcGUD4coOwpUNhKuEsxKuVq9eTbhC6hGu7CBc2UC4soNwZQfhygbClR2EKxsIVwmXlXC1YsUKN336dL+iPtn0idi4cWPCFVKNcGUH4coGwpUdhCs7CFc2EK7sIFzFT8PZZ82a5c/tly1bFhytXISrhLMynH3VqlWuUaNGhCukGuHKDsKVDYQrOwhXdhCubCBc2UG4ih/D2UtHuEoxDWcfN26cX3oGwXzakZUbrjZs2OBXVhCubCBc2UG4soFwZQfhyg7ClQ2EKzsIV/HT19XkyZP9uf3ChQuDo5WLcJVwVmZcKVw1bNiwMFxp+yHhCmlDuLKDcGUD4coOwpUdhCsbCFd2EK5sIFwlnJVwtXz58sJwdfbZZ7v169e7X3/9Nbg1/QhXNhCu7CBc2UC4soNwZQfhygbClR2EKxsIVwmXlXClH/p1kqe1bt264OgmGup27bXX+nB11lln+csJtesqKwhXNhCu7CBc2UC4soNwZQfhygbClR2Eq/jpPH3mzJn+Z2GGsxdHuEoxPZgMGDDAr6jh7EuXLi0MV2eccYb/xCRcIW0IV3YQrmwgXNlBuLKDcGUD4coOwlX8NJx95MiR/tx+9uzZwdHKRbhKuKyEqyVLlrjx48f7FTWcXd9crrnmGh+uTj/9dH/pYJa+0RCubCBc2UG4soFwZQfhyg7ClQ2EKzsIV/HT19WUKVP8uT3D2YsjXGWYnnXw6quv9uHqtNNO839Wyc0KwpUNhCs7CFc2EK7sIFzZQbiygXBlB+HKBsJVwlkMV6eeeqpbsGCB+/nnn4Nb049wZQPhyg7ClQ2EKzsIV3YQrmwgXNlBuLKBcJVwWRrO/u233/oVNZxdPzCG4ap27dpuzpw5/pkFs4JwZQPhyg7ClQ2EKzsIV3YQrmwgXNlBuIqfZlHr/Fbn9ppVHQfCVQkUTRRPPvroI9etWzf35Zdf+sn5+XSiqgfFXr16uZ49e/r7jxgxwh/fsGGDv8/KlSvdhAkT/OvRGjNmTJn/grM0nH3gwIF+RQ1n17WxV111lQ9XJ598sv9CqIxPyt8K4coGwpUdhCsbCFd2EK7sIFzZQLiyg3AVP430GTVqlD+3j+scl3BVgkWLFrkXX3zRNWvWzDVu3Ni1aNHCdenSxe8WCoOUaOj4G2+84W+/8cYb3fXXX+/uvvtuH6f0Qf3111/90LL777/fNWrUyC/drgn8ZXnWvKyEK33zmDhxol9Rw9l1aeCVV17pw9VJJ51U4s6stCJc2UC4soNwZQPhyg7ClR2EKxsIV3YQruKnryt93HVur24SB8JVBMWmsWPHupo1a/qdUmvWrPG7qZo2bepPVHKHhq9evdqHKf2qEKXbn3vuOXfDDTf4Z8bT7qLXXnvNxy99sLUUrh555JEyndxamXE1f/78wnBVq1Yt/ywFa9euDW5NP8KVDYQrOwhXNhCu7CBc2UG4soFwZQfhygbCVQT9gNqnTx9Xv359fwmbQpY+SI899ph79913fcgKKVZpB1G4e0pDxhW5Lr30Un854NSpU13nzp3dU0895e+j9eabb7onn3zS/zC8OVbC1bx589wVV1zhw9WJJ55Y4s6stCJc2UC4soNwZQPhyg7ClR2EKxsIV3YQrmwgXEXQJ/7777/vbrnllsIfVnXp2ksvveTj1apVq/yxKPrC6dChg7vnnnv8bKvhw4f7HVhvv/12cA/nPvnkE/fMM8+4zz//PDiyiXZuDRs2zD377LPuiSeecA0bNnSXX365Dx9pXpMnT3YjR470Sx/L/NuHDh3q6tSp48NV9erVXfPmzd0LL7zg54V99913xe6ftqUvsnHjxkXexsrOmjZtmhs8eLB/HIi6nZWdpZgxevToyNtY2Vn6/qPvT9oFHHU7KztL/2Cmn1GibmNla+lncwWNqNtY2Vn6O9bfdRbOI1ilLz126+eyqNtYlbP0daXRSPrYx/V4qvMrnWfpH46jbt+addttt6UzXGlnjN7wO++8061YscIf0zv0+uuvu/vuu88HqSiad6XgpZfTD7qa0aSBZYpQPXr0CO7l3BdffOE6duzoevfuHRzZRJcWKnLo8kKFGwUcXUKntynNS5deaoC9lk7u82/XN5YLLrjAh6vtttvO/eEPf3DHH3+8a9eunf8Ezb9/2pailR5Qo25jZWdNnz7dDRkyxMfZqNtZ2Vk6ydVjddRtrOwsPSmL/jFJu6ejbmdlZ+kHbw2ajbqNla2lfxRVjI66jZWdpb9j/V3rcTzqdlZ2lh679XNZ1G2syllqI59++qk/t9c/5Ebdp6KXzq90njVjxozI27dmtWzZMp3hau7cuf6SQF2iF+640gnpK6+84mdT5e+40rB2BSddXqgh7J06dSrclqqApXD13nvv+T+L/pK1K+uzzz4LjpQsK5cK6rLJSZMm+RU1u0qfMA0aNPDhKlzbb7+9j1kff/xxcK/00he33kdkG5cK2sGlgjZwqaAdXCpohyIllwpmH5cK2sGlgvHT15U2o+jcnuHsxcUWrvRAp2B01VVX+eAieuBTbNIzDepyvlz6i9OOIj2r4KOPPlrkpFXD3RWytHsq1K1bNz/zSruMNsfKjKvZs2f7SyJzw5XWwQcf7D/maUe4soFwZQfhygbClR2EKzsIVzYQruwgXNlAuIrw888/++s1TzrpJL/NVEPCdVnfTTfd5Lchrl+/Prin85cDfvPNNz5yPf/8837rWjioXXSpYZcuXfyzDGqou5Yuf9POrTCKlcZKuJo1a1axcKUdV/Xq1fM71NKOcGUD4coOwpUNhCs7CFd2EK5sIFzZQbiygXBVAj3LnXZPaV7V3Xff7X/VXCr98DpgwAA/s0jb4nQ/DWI/4ogj/LPi6VJB7abSMwcqUunBUvMx2rRp49q2beuXfq8B7f/617+C/1vJshKuli1b5gOfVtSlggo7l112WWGw2muvvfxlgrpkc8GCBcG90otwZQPhyg7ClQ2EKzsIV3YQrmwgXNlBuIqfvq40Sknn9przHQfCVQkUV3Tdpp5JsH379u6dd97xz4ynvyQNgNP1nHpAXLx4sR+krmcA1DMF6rJAvYyGseskVnQ/DWnX69Hq27dvmWNMVsKVHkz69+/vl+aB5dNOtTBcKVpdc801/mOoj9Ovv/4a3Cu9CFc2EK7sIFzZQLiyg3BlB+HKBsKVHYSr+GkDjq5Q07m9Rv7EgXCVcFkJV7osUuFPK2rHlZ5S89JLL3XbbLON37326quvuuXLlwe3ph/hygbClR2EKxsIV3YQruwgXNlAuLKDcBU/fV3pWf50bq+NPHEgXCWclRlX2mqocLXddtu5o48+2g+z1+WFWUG4soFwZQfhygbClR2EKzsIVzYQruwgXNlAuEo4K+FKJ4D169d3O+64o6tZs6a/pLIsw+vTgnBlA+HKDsKVDYQrOwhXdhCubCBc2UG4soFwlXBZGs6uZ2jUirpUUFsNL7nkErfzzju7k08+2Q/Gj2vQWxwIVzYQruwgXNlAuLKDcGUH4coGwpUdhKv46etKPwfr3J7h7MURrlJMDyZ6NkatqOHsU6dO9eFq9913d6effrq77777YrteNg6EKxsIV3YQrmwgXNlBuLKDcGUD4coOwlX8wuHsOrdnOHtxhKsU044rPV2mVtSOKz3gXHzxxW7PPfd055xzjrvzzjv9D5FZQbiygXBlB+HKBsKVHYQrOwhXNhCu7CBcxU9fV5pRrXN7dlwVR7jKsDBc7bPPPq5OnTr+fV64cGFwa/oRrmwgXNlBuLKBcGUH4coOwpUNhCs7CFc2EK4Szkq40vWxF110kdtvv/38r82bN3fz588Pbk0/wpUNhCs7CFc2EK7sIFzZQbiygXBlB+HKBsJVwmUlXOkZAvXNQyvqUsHJkyf7YHXggQe6yy67zDVs2DBTD0CEKxsIV3YQrmwgXNlBuLKDcGUD4coOwlX89HWlJ1fT11hcc6kJVwmXlXA1b948179/f7+ihrPrk75evXru0EMPdVdddZVr0KCBf5msIFzZQLiyg3BlA+HKDsKVHYQrGwhXdhCu4qfh7CNGjPDn9gxnL45wlWLLly/3Dypa69atC45uMnHiRB+uatSo4Ro1auR/P2fOnODW9CNc2UC4soNwZQPhyg7ClR2EKxsIV3YQruL3yy+/uO+++85/7ON6PCVcJZyVGVcTJkxwF154oTvmmGNc06ZN3bnnnpup0EO4soFwZQfhygbClR2EKzsIVzYQruwgXNlAuEo4K+FKJwYKVzVr1nQ33nijO/XUU92sWbOCW9OPcGUD4coOwpUNhCs7CFd2EK5sIFzZQbiygXCVcFkazj5p0iS/ooazjx8/3tWtW9eddNJJ7tZbb/UBa+bMmcGt6Ue4soFwZQfhygbClR2EKzsIVzYQruwgXMVPX1fTpk3z5/aLFi0KjlYuwlXCWRnOPm7cOB+utNPq9ttvd0ceeaSbMWNGcGv6Ea5sIFzZQbiygXBlB+HKDsKVDYQrOwhX8WM4e+kIVymmH/r1lJlaUcPZx44d6y644AJ35plnujZt2riDDjrID3zLCsKVDYQrOwhXNhCu7CBc2UG4soFwZQfhKn4azq7zW53b68qqOBCuEs7KjKsxY8a4OnXq+KHs9957r9t3333d9OnTg1vTj3BlA+HKDsKVDYQrOwhXdhCubCBc2UG4soFwlXBWwtXo0aN9uNKuqwcffNDtsccevuBmBeHKBsKVHYQrGwhXdhCu7CBc2UC4soNwZQPhKuGyEq70zWPixIl+/fTTT8HRTUaNGuXOP/98V69ePffoo4+6nXbayQ98ywrClQ2EKzsIVzYQruwgXNlBuLKBcGUH4Sp++rrSx13n9gxnL45wlWKbG84+cuRIH67q16/vnnrqKVe1alX/xbBhw4bgHulGuLKBcGUH4coGwpUdhCs7CFc2EK7sIFzFj+HspSNcpZh+6NdJnlbUcHZ94itcNWjQwHXs2NFVqVLFf7P59ddfg3ukG+HKBsKVHYQrGwhXdhCu7CBc2UC4soNwFT8NZ585c6b/WXjZsmXB0cpFuEo4KzOuhg8f7mdcXX311e6FF17w4Wr8+PG+5mYB4coGwpUdhCsbCFd2EK7sIFzZQLiyg3BlA+Eq4ayEq6FDh/pw1bhxY9elSxcfrjT3av369cE90o1wZQPhyg7ClQ2EKzsIV3YQrmwgXNlBuLKBcJVwWQlXS5Ys8T/8a0UNZx8yZIgPV82aNXNvvfWWD1eDBw92a9euDe6RboQrGwhXdhCubCBc2UG4soNwZQPhyg7CVfz0dfXNN9/4n5H0/TMOhKuEy9Jw9q+++sqvqOHsilQKVzfeeKN7//33fbjq16+fW7NmTXCPdCNc2UC4soNwZQPhyg7ClR2EKxsIV3YQruKncT4a9aNz+1mzZgVHKxfhKuGyNJx92rRpfkUNZx80aJC74IILXIsWLVzPnj19uPr0008zEwAIVzYQruwgXNlAuLKDcGUH4coGwpUdhKv4aTi7zm91br906dLgaOUiXCWclRlXAwcO9OGqZcuWrnfv3j5c9erVy61YsSK4R7oRrmwgXNlBuLKBcGUH4coOwpUNhCs7CFc2EK4Szkq4GjBggKtbt65r3bq1++yzz3y46t69e2xPr1nZCFc2EK7sIFzZQLiyg3BlB+HKBsKVHYQrGwhXCZel4ezjx4/3K2o4u66PVbhq27at/73C1dtvv+1fLgsIVzYQruwgXNlAuLKDcGUH4coGwpUdhKv46etqypQp/tx+4cKFwdHKRbhKOCvD2TWIXeHq3nvv9c8wqHD12muvuUWLFgX3SDfClQ2EKzsIVzYQruwgXNlBuLKBcGUH4Sp+DGcvHeEqxTSrSid5WlHD2b/88ksfrtq1a+e/CBSuHn74YTdhwgS3evVqt2HDhuCe6US4soFwZQfhygbClR2EKzsIVzYQruwgXMVPw9kVrPSzcFyjfQhXCWdlxtUXX3zhLrzwwsJwVbVqVbf//vu7Jk2a+Nv0xZFmhCsbCFd2EK5sIFzZQbiyg3BlA+HKDsKVDYSrhLMSrj7//HNXr149d8kll7g777zT77jafvvt3V577eWuuOIK9+mnnwb3TCfClQ2EKzsIVzYQruwgXNlBuLKBcGUH4coGwlXCZSVcLV682I0dO9Yvndzn69u3rw9Xxx13nDvjjDN8uNLadttt3aGHHuovG0wzwpUNhCs7CFc2EK7sIFzZQbiygXBlB+Eqfvq60teXzu0XLFgQHK1chKuEy9Jwdg1g19LMqnzaUaVwVbNmTXfOOecUCVdHHHGEe+yxx4J7phPhygbClR2EKxsIV3YQruwgXNlAuLKDcBW/cDi7zu0Zzl4c4SrFNJz9u+++8yvqk61Pnz4+XF166aXurrvucr/73e/cdttt5/bcc08uFURqEK7sIFzZQLiyg3BlB+HKBsKVHYSr+Gn+9OzZs/25/fLly4OjlYtwlXBWZlx98skn7qKLLvKXBOoTcr/99nN//OMf3bXXXuufcZDh7EgDwpUdhCsbCFd2EK7sIFzZQLiyg3BlA+Eq4ayEq48//tiHq0cffdQ/+NSpU8ddeeWVfvaVLi3csGFDcM90IlzZQLiyg3BlA+HKDsKVHYQrGwhXdhCubCBcJVxWwtWiRYv8J5qWTu7z9e7d21188cV+ltX06dNdw4YNXePGjd2oUaOCe6Qb4coGwpUdhCsbCFd2EK7sIFzZQLiyg3AVP31dTZo0yZ/3MJy9OMJVimk4+1dffeVX1HD2jz76yIerxx9/3M2cOdO1aNHCz7YaOnRocI90I1zZQLiyg3BlA+HKDsKVHYQrGwhXdhCu4hcOZ9e5PcPZiyNcpdjKlSt9kNKK+mTT+6lw9cQTT/jA07ZtW//ngQMHBvdIN8KVDYQrOwhXNhCu7CBc2UG4soFwZQfhKn6aPz1nzhx/bh/Xz0iEq4SzMuPqww8/9KHqySef9LuzNOvq3HPP9YPZs4BwZQPhyg7ClQ2EKzsIV3YQrmwgXNlBuLKBcJVwWQlXv/76qy+zWlGD1j/44AN3ySWX+HCl62Q7derkTj31VPfpp58G90g3wpUNhCs7CFc2EK7sIFzZQbiygXBlB+EqfjqfD8/tdZ4fB8JVwmUlXGk4++jRo/3SyX2+nj17+nD11FNPucWLF7s333zT1axZ08++ygLClQ2EKzsIVzYQruwgXNlBuLKBcGUH4Sp++rqaOHGiP7efP39+cLRyEa4SLivhKnc4+48//hgc3aRHjx6ufv367umnn3ZLly71O7Bq1Kjhg1bUDq20IVzZQLiyg3BlA+HKDsKVHYQrGwhXdhCu4qfh7CNGjGA4ewkIVym2atUq/0mtFfXJ1r17dx+u2rdv708QPv/8c3fwwQe7999/P7bth5WJcGUD4coOwpUNhCs7CFd2EK5sIFzZQbiKny4R1MYUnduvWLEiOFq5CFcJZ2U4e9euXd2ll17qnnnmGR+59PSahxxyiL9kcP369cG90otwZQPhyg7ClQ2EKzsIV3YQrmwgXNlBuLKBcJVwWRrOri2FWlGX/mlnVRiudCnhpEmT3GGHHeZeeuklt3r16uBe6UW4soFwZQfhygbClR2EKzsIVzYQruwgXMVP5/P62tK5vXZfxYFwlXBZCVf6gbC04ezvvfeeD1cdOnRwa9eu9aFHM646duzoli1bFtwrvQhXNhCu7CBc2UC4soNwZQfhygbClR2Eq/jp62rChAkMZy8B4SrFdA1s//79/Yoazv7uu+/6cKVQpUsD9SyERx11lHv88cfdwoULg3ulF+HKBsKVHYQrGwhXdhCu7CBc2UC4soNwFb9wOLvO7WfPnh0crVyEq4TLSrjSJ5rCjVbUzKp33nnHXXbZZe7ZZ5/132B0/2OOOcY98MADmQg+hCsbCFd2EK5sIFzZQbiyg3BlA+HKDsJV/HR5oD7mOr9duXJlcLRyEa4Szspw9rffftuHq+eee67wmtnjjz/etWnTxk2fPj24V3oRrmwgXNlBuLKBcGUH4coOwpUNhCs7CFc2EK4SLivhSlVWO620NKg931tvveUuv/xy16lTJx+utE499VR3xx13uMmTJwf3Si/ClQ2EKzsIVzYQruwgXNlBuLKBcGUH4Sp+Olf/+eef/bl9XF9jhKuEy9Jw9lGjRvmlk/t8b775ZmG4CtWpU8e1bNnSjRs3LjiSXoQrGwhXdhCubCBc2UG4soNwZQPhyg7CVfzCn490bh/Xx55wlXBZGs7er18/v1avXh0c3eSNN97w4er5558Pjjh/6eCtt97qB7+lHeHKBsKVHYQrGwhXdhCu7CBc2UC4soNwFT8NZx8+fLg/t581a1ZwtHIRrhIuK+FKsWru3Ll+RQ1nf/3113246ty5c3DEuUaNGrmbb77ZDRw4MDiSXoQrGwhXdhCubCBc2UG4soNwZQPhyg7CVfw0BmjBggX+3H7VqlXB0cpFuEo4K8PZX3vtNdegQQP3wgsvBEecj1bNmzd3ffv2DY6kF+HKBsKVHYQrGwhXdhCu7CBc2UC4soNwZQPhKuGyEq70TWPdunV+RQ1nf/XVV90VV1zhXnzxxeCIc61bt3ZNmzZ1H330UXAkvQhXNhCu7CBc2UC4soNwZQfhygbClR2Eq/hpOLsCks7tddlgHAhXCZel4ewjR470Syf3+V555RUfrl566aXgiHPt2rVzjRs3dt27dw+OpBfhygbClR2EKxsIV3YQruwgXNlAuLKDcBW/8OcjndvH9bEnXCVcloazf/XVV379+OOPwdFNXn755WLh6sknn3TXXnute/vtt4Mj6UW4soFwZQfhygbClR2EKzsIVzYQruwgXMUvHM6uc3uGsxdHuEoxxSo9oGj9/PPPwdFNFKwUrhSwQnqGwSuvvNJfRph2hCsbCFd2EK5sIFzZQbiyg3BlA+HKDsJV/DT6R9839XGP67yHcJVwVoaza7aVIpUuGQy98cYb/pkGFbDSjnBlA+HKDsKVDYQrOwhXdhCubCBc2UG4soFwlXBZCVfaTrh27Vq/ooaz69kEFa66dOkSHHGuW7durn79+q59+/bBkfQiXNlAuLKDcGUD4coOwpUdhCsbCFd2EK7ip+HsGsyuc3uGsxdHuEqxhQsXuhEjRvi1Zs2a4OgmnTt3dldddVWRywI/+eQTd9FFF7lHH300OJJehCsbCFd2EK5sIFzZQbiyg3BlA+HKDsJV/BSrxo8f78/tNcs6DoSrhMvScPb+/fv7FTWcXZcD5ocr3bdu3bru/vvv91U3zQhXNhCu7CBc2UC4soNwZQfhygbClR2Eq/gpXCla6Xx99uzZwdHKRbhKuKyEK+2yWrBggV9Rw9mfe+45H65ee+214IjzT69Zp04d16ZNG/fLL78ER9OJcGUD4coOwpUNhCs7CFd2EK5sIFzZQbiKn0b/LF682J/br169OjhauQhXCWdlOPuzzz7rw9Xrr78eHHFu0qRJrl69eq5Vq1b++tk0I1zZQLiyg3BlA+HKDsKVHYQrGwhXdhCubCBcJVxWwpV2WWnXlVbU7qmOHTu6q6++2j+TYGj69Onu0ksvdS1atEj9SQPhygbClR2EKxsIV3YQruwgXNlAuLKDcBU/jfH56aef/Ln9+vXrg6OVi3CVcFkazj58+HC/ooazd+jQwYerN998MzhScGKoZxps3ry534aYZoQrGwhXdhCubCBc2UG4soNwZQPhyg7CVfw042rcuHH+3J7h7MURrlJMDyYDBgzwK2o4+zPPPOOuueaaIuFq2bJl7tprr3VNmjRxM2fODI6mE+HKBsKVHYQrGwhXdhCu7CBc2UC4soNwFT+FK82j1rk9w9mLizVc6XI2DRrTX8SMGTN8SYw6GdVgMu0gmjNnjj+J0f20bS6XfuD99ttvfXzR0n1XrlwZ3Fq6LA1n1w+FWlHD2du3b+/D1VtvvRUccf7jeN111/mdWGn/YZJwZQPhyg7ClQ2EKzsIV3YQrmwgXNlBuIqfGsiSJUv8986oTSmVgXBVAoWlzz77zJ122mnu0EMPdQ0aNHAffvhhcOsmiluDBg3yz3631157ucsuu8yNGjUquLXAK6+84nbddVd3/PHH+3X++ee7d955J7i1dFaGsz/11FN+d1XuJ4y+IG644QZ3+eWX+62IaUa4soFwZQfhygbClR2EKzsIVzYQruwgXNlAuIqgYWNTpkxxF154oevTp49/djvFp9tuu83Nnz+/yAPgunXrfJRQvNI7fP/99xcLV6+99po766yzTO+40tA21VitqOHsTz75pA9Xb7/9dnCkYNfbTTfd5Pbff3//jINdunTx34QUtNKGcGUD4coOwpUNhCs7CFd2EK5sIFzZQbiKn3qJrqjSuT3D2YuLLVzpg/Lll1+6unXr+sikaziHDh3q7rvvPvfxxx8XuRRQcUUnq3qZ119/3T3xxBPFwpWOX3TRRcGfyicr4UrD1YcNG+ZX1HB2fdwUrnJ3og0ePNidd955bocddnB77723q1Wrlnv11VdT+cBEuLKBcGUH4coGwpUdhCs7CFc2EK7sIFzFT31k7Nix/tx+7ty5wdHKRbiKoGfA69Gjh2vWrJlbvny5P6YviM6dO/sh4iWdlCq6aOdQfrhSbFF06devn/vqq6/ctGnTSnwduTu4dH/t4GrcuLF/8E3z0q41XWqppblh+bfrk0WXWb7wwguFxxQKDz74YFelShW3zTbbuO23397Vr1/fR8Xcl03D0jdO7eKLuo2VnaUZd3p2DUXKqNtZ2VlTp051EyZMiLyNlZ21aNEi/z191qxZkbezsrMUojWWIOo2VrbWmDFj/PzaqNtY2Vn6O9bftR7Ho25nZWfpsVs/l0XdxqqcpV7y6aef+nP78ePHR96nopfOr3SepQ0xUbdvzWrdunU6w5U+KHrD77zzTrdixQp/TDFJO6cUU0q6zK+kcPXBBx/4WVkaNN6oUSP36KOP+vtE/QuA/lW3V69erkWLFv7+55xzjqtXr54PH2leekAZMWKEXzrZy7+9xcb394ILLnCPPPJI4TENZdfcMIWrMF4de+yxPgTmvmwalr7I9L5H3cbKztIDt55dQ5/vUbezsrP0GK5/ZYq6jZWdNXHiRDdw4ED/r4pRt7Oys0aPHu2GDBkSeRsrW0s7+hU0om5jZWfp71h/13ocj7qdlZ2lx279XBZ1G6tyljal6FkFdX4b189IOr/SeVZUS9jadcstt6QzXGlHUEnhSjugyhuudGmhXo9mM6lOalbWPffc4xYvXhzco2RWhrMr5jVs2NC99957wRHnZ1odd9xxPlhtu+22rlq1aj5waedS2nCpoA1cKmgHlwrawKWCdnCpoB06SdG/sCPb9Hesv2suFcw+LhW0gUsFI2hLqXZJaXfUsmXL/DHFkueee84vPZNglJLClYJVOJBc14MqyDz22GP+h+HNyUq40ifYqlWr/Ir6BvLwww/7j/f7778fHCn4hnPHHXe4fffd1x1yyCE+WukbUO6MsbQgXNlAuLKDcGUD4coOwpUdhCsbCFd2EK7ip76hJqJze406igPhKsLatWv9lsMzzjjDn5joL+Pzzz93rVq18peGlPSXExWufv75Zz9pPwxXet0aRN6uXTs3ffp0f6w0WRrOrgH3WlHD2R966CEfrrp27RocKfiCePPNN/2QfF02qHioaKVnMUgbwpUNhCs7CFc2EK7sIFzZQbiygXBlB+EqftqMo3MendsznL242MKVwoii0vXXX+9eeeUVv/tKQeree+/1P9houLqebVAfPD0YLl261A8Mb9mypb/cTfft37+/D1z6YVfXVmt4meKXQlTbtm39rqvwMsTSZCVc6cFEA+e19LSZ+R588MFi4Uo+++wzPyS/RYsWwZF0IlzZQLiyg3BlA+HKDsKVHYQrGwhXdhCu4qdwpc06OreP6xyXcFUCbX3T7irFKz3bXZs2bXyM0g6qnj17+mf8U7zSDqrJkyf7Z/47++yz/S4tDRnXy+kZCTXT6u2333bXXHONj1r6Vc+c9+233wb/p9JlJVxpp5S+gWjpEz3fAw884D+G3bp1C44U0M635s2bu2uvvTY4kk6EKxsIV3YQrmwgXNlBuLKDcGUD4coOwlX8dGWUWoe+znT+EwfCVcJlJVxtji6dVLjq3r17cKSAnqXtpptu8s+smGaEKxsIV3YQrmwgXNlBuLKDcGUD4coOwpUNhKuEy0q40ieYno1RK+obyH333eeaNGnievToERwpoJ1pugRTu9m0u011N40IVzYQruwgXNlAuLKDcGUH4coGwpUdhKv46Zxc5zs6t2c4e3GEqxTTcHZd9qcVNZxd88MUrnQZZq558+a5e+65x5122mn+2R51qWYaEa5sIFzZQbiygXBlB+HKDsKVDYQrOwhX8QuHs+vcXuOT4kC4SrishKv58+eXOpxdnywKVxqEn2vZsmXukUcecSeddJLffRVX0a1ohCsbCFd2EK5sIFzZQbiyg3BlA+HKDsJV/BSuRo8ezXD2EhCuUkyX+SlCaUUNZ9euqqhwpZfr0KGDq1mzphs5cmRsw98qGuHKBsKVHYQrGwhXdhCu7CBc2UC4soNwFT9dKqifjXRurydhiwPhKuGsDGe/++673XXXXec+/PDD4EgBfVG8/PLL7rjjjnN9+vRJbRAgXNlAuLKDcGUD4coOwpUdhCsbCFd2EK5sIFwlXFbClS7x0w/+WlHfQNq2bevDld7fXBs2bPCfRLVr13ZvvfVWak8eCFc2EK7sIFzZQLiyg3BlB+HKBsKVHYSr+GlziQaz6+cjXSEVB8JVwmUlXC1cuNCNGDHCr6jh7G3atHFNmzZ1vXr1Co5s0q1bN3fOOee4jh07uqVLlwZH04VwZQPhyg7ClQ2EKzsIV3YQrmwgXNlBuIqfRv+MHz/en9vrydTiQLhKuKyEKw1nL+1ZBe+8804frj766KPgyCa9e/d2F198sX/mQT2zYBoRrmwgXNlBuLKBcGUH4coOwpUNhCs7CFfxU7gaM2YMzypYAsJVim3uUsHWrVv7cKVIle+LL75wV199tbvxxhvdggULgqPpQriygXBlB+HKBsKVHYQrOwhXNhCu7CBcxY9LBUtHuMqwO+64o8RwpZJ7/fXXu8svv9zNnTs3OJouhCsbCFd2EK5sIFzZQbiyg3BlA+HKDsKVDYSrhMtKuFKJ1dNlamlrYb7bb7/dNWvWzH388cfBkU20DVEfg9NPP93Nnj07OJouhCsbCFd2EK5sIFzZQbiyg3BlA+HKDsJV/LTjSj8b6dz+p59+Co5WLsJVwmVpOPvw4cP9ippx1apVKx+uPvnkk+BIAX1RDBgwwNWvX9/96U9/cm+++aa/XFDH04RwZQPhyg7ClQ2EKzsIV3YQrmwgXNlBuIqfNqKMGzfOn9sznL04wlWKKTaVNpy9ZcuW/nLAPn36BEcK6AvhmWeecQcffLCrWrWqO/fcc927776bullXhCsbCFd2EK5sIFzZQbiyg3BlA+HKDsJV/BSudM7DcPZohKsU0yeYBrhpRX0D0fuocPXpp58GRwr07NnTnXPOOT5aValSxW2//fauXr16xe6XdIQrGwhXdhCubCBc2UG4soNwZQPhyg7CVfx09ZPOd3RurydhiwPhKuGsDGe/9dZbXfPmzd1nn30WHCnw1FNPuT//+c8+WoVLu69efPHF4B7pQLiygXBlB+HKBsKVHYQrOwhXNhCu7CBc2UC4SrishCsNbdM3EK2o4ewtWrSIDFfhjqvtttuucMfVhRdeyI4rJBLhyg7ClQ2EKzsIV3YQrmwgXNlBuIqfdlwtX77cf53p/CcOhKuEy9KMq2HDhvkVNePqlltu8eGqb9++wZECM2fOdJ06dXInnniiD1fHHHOM3201d+7c4B7pQLiygXBlB+HKBsKVHYQrOwhXNhCu7CBcxU8bUcaOHevP7eM6LydcJVyWwtXQoUP9igpXN998s7vhhhvc559/HhwpoJo7Y8YM9/DDD/twddppp7m33nrLzZ8/P1XPLEi4soFwZQfhygbClR2EKzsIVzYQruwgXMUvHM6uc3vCVXGEqxTTJ9iqVav8ivoGctNNN/lw9cUXXwRHNlHo6t27t9tmm23cPvvs4y6++GL3zjvvuGXLlgX3SD7ClQ2EKzsIVzYQruwgXNlBuLKBcGUH4Sp+2kCyevVqf27PcPbiCFcZpmhVUrjSNsSmTZv6cBXOuTr99NN9vEoLwpUNhCs7CFc2EK7sIFzZQbiygXBlB+HKBsJVwmUlXOmEfvHixX5FDWfXfKsbb7zRffnll8GRTfr06VM440pLAUvPNHjPPfcE90g+wpUNhCs7CFc2EK7sIFzZQbiygXBlB+EqftpxtXTpUn9uHzUGqDIQrhLOyoyr66+/3oerfv36BUc2GThwoKtbt27hjquqVau6o48+2j3zzDPBPZKPcGUD4coOwpUNhCs7CFd2EK5sIFzZQbiKHzOuSke4SrHNPatgs2bNfLj66quvgiObzJo1y0eq6tWrux122MEddNBB7rbbbnMjR44M7pF8hCsbCFd2EK5sIFzZQbiyg3BlA+HKDsJV/HhWwdIRrlJs/fr17scff/Trl19+CY5uohlWGtAeFa60FVEPSJdeeqkfzq7ANWrUqMjXk1SEKxsIV3YQrmwgXNlBuLKDcGUD4coOwlX8NmzY4Dej6Nxe5/lxIFwlnJXh7Nddd50PV/379w+OFLVkyRI/jP2YY47xH5O0IVzZQLiyg3BlA+HKDsKVHYQrGwhXdhCubCBcJVxWwpWKrH4o1Pr555+Do5s0btzY3XzzzW7AgAHBkaJWrFjho9ahhx7qP6niKrsVhXBlA+HKDsKVDYQrOwhXdhCubCBc2UG4ip+uiNLGEn3v1K6rOBCuEi4r4Wr+/PluyJAhfkXNuGrUqJEPVxrEHkVBQA9Khx9+uHv++ed9yEoTwpUNhCs7CFc2EK7sIFzZQbiygXBlB+EqfppxNWbMGH9uP2fOnOBo5SJcJVxWwtXChQvd8OHD/YoKVw0bNvThatCgQcGRorRLS0+5qUsFH3roodiGwFUUwpUNhCs7CFc2EK7sIFzZQbiygXBlB+EqfgpX48aN8+f28+bNC45WLsJVwmUlXCk8KVhpRQ1Vv/baa0sNVxoAp288p5xyimvdurX75ptvglvSgXBlA+HKDsKVDYQrOwhXdhCubCBc2UG4ip/OzX/66Sd/bs9w9uIIVxl2zTXXuFtuucUNHjw4OBLt4osvdi1atHAjRowIjqQD4coGwpUdhCsbCFd2EK7sIFzZQLiyg3BlA+Eq4bI0nH3BggV+RQ1nv/rqq3240nWypbnxxhvd9ddf7/r27RscSQfClQ2EKzsIVzYQruwgXNlBuLKBcGUH4Sp+Gs6+ePFif26/evXq4GjlIlwlXJaGs2s3lVbUMw9ceeWVfifV0KFDgyPR7r33Xj/IvXv37sGRdCBc2UC4soNwZQPhyg7ClR2EKxsIV3YQruKnGVejR4/25/YMZy+OcJViGs6uy/u0ooazX3HFFT5cDRs2LDgSrVOnTv6+Xbp0CY6kA+HKBsKVHYQrGwhXdhCu7CBc2UC4soNwFT+Fq/Hjx/tze4azF0e4SjF9cq9du9YvbS3M16BBAx+u9MwEpenWrZufc/X000/7oXBpQbiygXBlB+HKBsKVHYQrOwhXNhCu7CBcxU/n4evWrfPn9jrPjwPhKuGsDGe/7LLLyhSuBgwY4OrUqeMvGSRcIWkIV3YQrmwgXNlBuLKDcGUD4coOwpUNhKuEszKcXeHq1ltv3eyzBU6aNMlddNFFrmXLlpGzspKKcGUD4coOwpUNhCs7CFd2EK5sIFzZQbiKH8PZS0e4SjE9mAwcONCvqOB06aWX+nA1cuTI4Eg0DXnXIPdmzZql6gGKcGUD4coOwpUNhCs7CFd2EK5sIFzZQbiKny4PHDVqlD+3j+scl3CVcFkJV/qBUFFKSyf3+S655BL/fuoLoDSKXtddd50788wz/SfX5MmT3U8//ZT4ywYJVzYQruwgXNlAuLKDcGUH4coGwpUdhKv4hT8f6dw+ro894SrhshKu9MmtAW5aUcPZNXBd76eeVrM0+ibUsGFDt+uuu7rjjjvOz8XSNyXFqyQjXNlAuLKDcGUD4coOwpUdhCsbCFd2EK7ip00jCkg6t2c4e3GEqwzT3KrbbrvNjRkzJjgSrUuXLj5YValSxW277bauWrVqPl5NmTIluEcyEa5sIFzZQbiygXBlB+HKDsKVDYQrOwhXNhCuEi4r4UqX+Gk+lVbUcPYLL7ywTOGqVatWbt999/XhKoxXp59+uhsyZEhwj2QiXNlAuLKDcGUD4coOwpUdhCsbCFd2EK7ipyuoFi1a5M/t4zrvyWy4UiiZNWuWn4GkUKJ3UMf07HZpYmU4exiu9MlYmoceesgdcsghbptttvFr++2394PdNxe8fmuEKxsIV3YQrmwgXNlBuLKDcGUD4coOwlX8GM5eujKHqzCSvPDCCz50rFq1yj9N48SJE93gwYODe6VDloaz65NbSyf3+erWretatmzpxo4dGxyJpr+/q6++2u2xxx5ul112cbVq1XKvvvpq4h+sCFc2EK7sIFzZQLiyg3BlB+HKBsKVHYSr+IU/H+ncPq6PfSbD1fvvv+/atm3rmjVr5k4++WS3ePFiv8vn3Xffdbfffntwr3TISrj65Zdf3Pr16/2KGs5ep04dH67GjRsXHImm16O/39NOO83vvHr++efdkiVLIl9nkhCubCBc2UG4soFwZQfhyg7ClQ2EKzsIV/HTcHZd1aZz+7i+xjIZrhStOnXq5B+szjrrLB825IMPPnA333yz/31aWBnOfv755/twNX78+OBIyRYsWODuvfdeV7t2bTd37lz/BZN0hCsbCFd2EK5sIFzZQbiyg3BlA+HKDsKVDZkMV4oaukxQ863OPvtsH650HWbXrl0JV78RXao5b948v6JC03nnnecHr+sEYXMUB5555hlXs2ZNN2zYsFTMLSNc2UC4soNwZQPhyg7ClR2EKxsIV3YQruKnq6AWLlzoz+01likOmQxXb7zxhnv66afdc88950488UTXr18/995777mHH37Yde7cObhXOmQlXOmTun///n5FDWc/55xzyhyu9IWiv+NTTjnFf4KtWLEiuCW5CFc2EK7sIFzZQLiyg3BlB+HKBsKVHYSr+GlT0IgRI/y5/ezZs4OjlSuT4eqbb75xPXr0cPfdd58f+v3UU08V2YWVJlkazj569Gi/dHKfTzvjFK4mTJgQHCmdPi76u73//vv9DLOkI1zZQLiyg3BlA+HKDsKVHYQrGwhXdhCu4qevK52369x+/vz5wdHKlclwpe1qs2bN8s9A99JLL7kXX3zR18DvvvsuFbtzcmUlXGl4usqsloa55VO40uB8PfNjWejvs1GjRv4ZBrWbK+kIVzYQruwgXNlAuLKDcGUH4coGwpUdhKv46XxeX1s6t9fVUHHIZLjq3r27+/LLL4M/bTJ27NgKfYPikJVwtTlnnnmmD1eTJk0KjpROzz6oYe4nnHCCmzlzZnA0uQhXNhCu7CBc2UC4soNwZQfhygbClR2EKxsyGa4ee+wx9/rrrwd/2qRPnz7+GQfTJCvhSp9oc+bM8StqOPsZZ5zh7rjjjjKHK50wPvjgg26PPfZwU6dOjdzFlSSEKxsIV3YQrmwgXNlBuLKDcGUD4coOwlX8tMtKlwjq3H7lypXB0cqVmXClgd+6xvLll1/2l51deumlfjh7uNq3b+936GjuVZpkJVzpcr6vvvrKr6jh7KeffroPV/oGUxYLFizwM8uqVq3q2rRp43r27OlPInVJYhIRrmwgXNlBuLKBcGUH4coOwpUNhCs7CFfxC4ez69xeI5rikJlwpblW+sBpF47C1UUXXeTuvvvuwnXXXXe5J554wj/DYJpkJVwtWrSo1OHsp556qg9XZR2er2cv0N9nlSpVXPXq1f2OLT2TpAJREhGubCBc2UG4soFwZQfhyg7ClQ2EKzsIV/HT15VmUzOcPVqp4Urb1dasWeMfpN5++2330Ucf+WebW7hwod+ds3TpUn972h68sjScXX9HWlGX9dWuXduHqylTpgRHSjdkyBB38cUX+3Clte2227rjjjvOde7cObhHshCubCBc2UG4soFwZQfhyg7ClQ2EKzsIV/HT+Xx4bh/XFU+ZCVdRtIVt2bJlhfFKS39OEyvD2RWuWrdu7b755pvgSOn0iaX5VmG40tppp53cVVddFdwjWQhXNhCu7CBc2UC4soNwZQfhygbClR2EKxsyGa70LHNvvvmmu/baa12dOnVcgwYN3Hnnnefq1avnnnrqqeBe6ZCl4ewKN1pRw9lPPvnkcoUrDd9XqMoNV7/73e9c/fr1g3skC+HKBsKVHYQrGwhXdhCu7CBc2UC4soNwFT/ttNLHXOe3DGcvrszh6q233nKPPPKIe+CBB1yNGjXciy++6B5++GHXvHlzPwMrTbI4nH316tXB0U1OOukkd+edd5b5h0aFyV133bVIuNpxxx3d5ZdfHtwjWQhXNhCu7CBc2UC4soNwZQfhygbClR2Eq/jpyrbhw4cznL0EZQ5XGsbeoUMH/46dddZZftaVfiB577333GOPPRbcKx2yNJxdfx9aOrnPV6tWLR+upk6dGhwpXe/evd2xxx7rttlmm8Jw9ac//cm/jiQiXNlAuLKDcGUD4coOwpUdhCsbCFd2EK7ip6+rSZMm+fMejWOKQybD1X333edeeOEF/wx1F1xwgf+g6gcS7cRq1apVcK90sDLj6oQTTvDRadq0acGR0umSwnvuucftu+++bvvtt3fVqlXzl4L26dMnuEeyEK5sIFzZQbiygXBlB+HKDsKVDYQrOwhXNmQyXGlX1csvv+y+/fZb/0x1TZs2dS1btnSNGjXyf04TK+GqZs2aPlzp76ws9OwFs2fPdg899JDbb7/93NFHH+26dOnir7dNIsKVDYQrOwhXNhCu7CBc2UG4soFwZQfhyoZMhisFDc1UWrNmjT+x0E6r559/3nXv3r3Ml6IlRVbC1apVq/zQfK2oTzaFq7vuuqvM4UpPwbl27Vo3d+5cP7tMQ9nfffddfzyJCFc2EK7sIFzZQLiyg3BlB+HKBsKVHYSr+GmziM7DdW4f189ImQxX+kBqKWLowUrBQMFq4sSJqTvRyNJw9n79+vmVO5xdf0daxx9/vGvTps0W/f106tTJD2XXLrukIlzZQLiyg3BlA+HKDsKVHYQrGwhXdhCu4hcOZ9e5PcPZiys1XCl+rF+/3gcCPUh99913bsWKFf6Ssjlz5rhBgwb5N6Znz57BS6RDVsKVBuSPHTvWL53ch/T3pr8jhau2bdu66dOnB7eUneZaab6VnjFSX0RJRLiygXBlB+HKBsKVHYQrOwhXNhCu7CBcxU9fV/r60rk9w9mLKzVc/fTTT35gt3bftGvXzv+qp2ecMWOGe+mll9y1117r12uvvRa8RDpkfcZVuCtO4UrPBqngWF5TpkxxF110kbv11lvdypUrg6PJQriygXBlB+HKBsKVHYQrOwhXNhCu7CBc2ZCZcKVA1aRJE3fTTTe5Dh06uEceecT/uUGDBq5u3bp+/pG2sVXGO1qZsh6utNtKu6SOO+64LQ5XOqFo2LChD5NlnZEVN8KVDYQrOwhXNhCu7CBc2UG4soFwZQfhyobMhCvtujnnnHP8O6PtahoW9uGHH7oaNWq4zz//3F+q9vPPPwf3To+shCvthFK80cr9ZFO40iWeClf33HOPD5DlpZe/+eab3aGHHuqfQfLtt992y5Yt8687KQhXNhCu7CBc2UC4soNwZQfhygbClR2Eq/hpnrjGMekcN66fkTITrvTAdOaZZ/pAFdIPm3q2On0i65K0NMrScHZduqn1448/BkcLwpU++RSu9AmjT/7yGjVqlJ9xVa1aNbfPPvu4008/3b3zzjtu4cKFwT1+e4QrGwhXdhCubCBc2UG4soNwZQPhyg7CVfzC4ew6t2c4e3GlhqsJEyb43VWaYaWdVlpPP/20O/LII/2xDz74wB8bOnRo8BLpkJVwtWTJEjd+/Hi/NI8spFq7bt06H67uvfde/5Sa5fXYY4+5ww47zG2zzTZ+bb/99v4SUX1iJwXhygbClR2EKxsIV3YQruwgXNlAuLKDcBU/fV3pijed28e1WSQz4Wry5MnuxBNP9LttzjjjDL9OPfVUV6tWLX8sXK1btw5eIh2yPuNK4Uoh69hjj3X33XffFhVbfXz23XdfV6VKFb8Ur2rXru2fSTIpCFc2EK7sIFzZQLiyg3BlB+HKBsKVHYQrGzITrhRAVq9evdmVu9snDSyEK53sK1zdf//9bvbs2cEtZffiiy/6ZyWsWrWqj1Y77LCDH9Kvb1ZJQbiygXBlB+HKBsKVHYQrOwhXNhCu7CBc2ZCZcFXR1qxZ4z8wt99+ux/4/fDDD7thw4YFt26iEDZp0iQ/WFyXpz300ENu6tSpwa0F5s+f77p37+5fj9brr79e5llOWQlXK1as8M8YqJX7yaZvJpp5pXDVrl27LQpXGsbfqVMnv7tut9128zvr9HeVO0vrt0a4soFwZQfhygbClR2EKzsIVzYQruwgXMVPm0903q5z++XLlwdHKxfhqgQKDQpGzz77rHvzzTfdo48+6qNU/rPVKVx98803fo5Ww4YNXatWrfyw8JCeyfCLL75wLVu2dG+88YZfbdu2de+//75/NrzNyfpwdn0z0SfhMccc4x544IEtijv6+9Alho8//riPV/p70P8vSQP5CVc2EK7sIFzZQLiyg3BlB+HKBsKVHYSr+DGcvXSxhau1a9e6IUOG+Gcp1ImJhod//vnnfveVdvLkfrD0l6YfaBctWuRefvll98QTTxQJVzr+yiuv+JdV5NLrfvLJJ/1AccWVzcnScHb98K+Ve7mmPn6rVq3y4erBBx/0T6u5pTTTqnHjxu6iiy7aqtdTGQhXNhCu7CBc2UC4soNwZQfhygbClR2Eq/jp60qbd/Qzkr5/xoFwFUGxSc9C2KhRI7/DSjQ1/7nnnvNLs7KivPPOOz5K5YarcePG+cvYFK9CPXv29M94OHjw4OBIybI+40rhauXKlT5caUfb3Llzg1vKT188+qTToHY9gGkLY1IQrmwgXNlBuLKBcGUH4coOwpUNhCs7CFc2EK4iKDC8/fbb/hkINZtJZsyY4S8H1ABxhZYoUeFKu4B0uaFmXIW0e6tDhw7u448/Do6UzEK40sdY4UpzxMqyC60k+qFTu9623XZbHwWTNIifcGUD4coOwpUNhCs7CFd2EK5sIFzZQbiygXAVQYPG9IbfeeedheFK4UFD1e+7775yhauBAwf6cNWjR4/giPMzrzp27Oh69+4dHNlE/7/PPvvMz8FSsKpXr5675JJL/Bdkmpd2nikmaWmYfXhcvx8xYoQ75JBDXIsWLVz//v2LvFx5lv4fnTt39s8sePbZZ7u77rrL727Tbrmo+8e5Ro4c6T8vom5jZWfp81lf8xMmTIi8nZWdNWbMGH9tf9RtrOwsff/Q9y3Fq6jbWdlZY8eO9eMgom5jZWtpHIh+Zoy6jZWdpb9j/V0n4TyAVblLj936uSzqNlblLH1dDR061P+MpO+fUfep6KXzK51nKUhH3b41Sx0ileFKz1LXrVs317x588Ip+XqmwBdeeMFf4lfSboqocKXf6/JCDWUPffTRR659+/Z+mFk+7RLS/6tPnz5+t5Xiy7XXXuv/JTDNS59oH374oV+KgOFx7bDSJ8vhhx/u2rRpU3id7JYsfaz1OrTjqlq1au7AAw/0z+KoQBh1/zjXxIkT/RdZ1G2s7CztqtM3z5kzZ0bezsrO0qXJ48ePj7yNlZ2lZwXWP65o13XU7azsLP3spR++o25jZWuNHj3a75iNuo2VnaW/Y/1d63E86nZWdpYeu/VzWdRtrMpZ2uH26aef+nP7uL536vxK51kaLRR1+9YszSNPZbhSmPryyy/dBRdc4Id863I2FUXttlIEKekStKhwpSn7L774omvXrp1/hkEtBTA9A960adOCe5UsK5cKaruu4o1W7sdPHw/ddvTRR/tnbtQ3ly2l4qvB7NpxVaVKFVe1alV37LHH+h1vvzUuFbSBSwXt4FJBG7hU0A794Kp/SEP2camgDVwqaIceu7lUMF76utLHXef2mg8eBy4VjLBhwwY3efJkV7duXb/zSQ96Gq6ugKTCp2fI0zPh6YP266+/+hCjQPXUU0+5O+64w8+z0uWG+gvVMxJq91azZs38riMt7aLSLiw9w+DmZH3G1fr1693ixYt9uNIzLWq325bS39WJJ55YGK60/vznP7t77rknuMdvh3BlA+HKDsKVDYQrOwhXdhCubCBc2UG4soFwVQJdIqitb+eee66rWbOmu/rqq13Xrl19bNKsq169evlLB3Siqu1xmqmkZ7Pba6+9/Lwm7dYKvylqZ9UjjzziX4+W5lfpZcrCSrg66qij/C60hQsXBreUn65tbtKkifvd737n49V2223nateu7d56663gHr8dwpUNhCs7CFc2EK7sIFzZQbiygXBlB+HKBsJVCfQgpx9UNXhMu6R0grJ06VK/w0o/3Oj3ili//PKLW716td+hpRilD6bmnug6W10GJ7qfvpjCHVe6/HDNmjX+ts3JSrjSx/Lbb7/1S7vQQgpX+ngqXD3xxBP+91tKn8y6pFO72/bcc0930EEH+WC4Na+zohCubCBc2UG4soFwZQfhyg7ClQ2EKzsIV/FTA9H5rc7t1UXiQLhKuKyEKw1h1zMGav3444/BUec/8XR5oMKV5oNtzTWyusRTn9AKiFdeeaW//FDPyvjQQw+5l156yV/iqfD4WyBc2UC4soNwZQPhyg7ClR2EKxsIV3YQruKnGeB68hqd22tEUhwIVwmXlXClEjtp0iS/cmd76RNPA9kVrjQjrKKGu+mZAfSsgjvssIPbdddd/eWbusRza2ZobQ3ClQ2EKzsIVzYQruwgXNlBuLKBcGUH4Sp++rrSOCSd2zOcvTjCVQbpskHtxjryyCN9uNK8q4qgZxf8/e9/XzikXevwww93X3zxRXCPeBGubCBc2UG4soFwZQfhyg7ClQ2EKzsIVzYQrhLOQrjSMzUqXD399NP+cr6KcNJJJ7ltt922SLjS0PYePXoE94gX4coGwpUdhCsbCFd2EK7sIFzZQLiyg3BlA+Eq4bISrvQsjXpQ0codzq7fa1i9wlX79u0r7AcJPZtg1apVi4SrHXfc0fXs2TO4R7wIVzYQruwgXNlAuLKDcGUH4coGwpUdhKv4aTj7d9995z/2cT2eEq4SLuvD2TXvSgPdFK6eeeaZCntWglatWrk//elPRcLV6aef7oYMGRLcI16EKxsIV3YQrmwgXNlBuLKDcGUD4coOwlX8GM5eOsJViilI6ZuHVu5wdv1+1qxZrkaNGq5Dhw4VFq4GDhzomjZt6uOVdlrtueeernPnzj6g/RYIVzYQruwgXNlAuLKDcGUH4coGwpUdhKv46evq22+/9V9jFTWjenMIVwmX9RlXCleKOgpXHTt2dMuWLQtu2TravqjdVTfccIM7+OCD3bHHHuv69u3rtzTq//Hrr78G94wH4coGwpUdhCsbCFd2EK7sIFzZQLiyg3BlA+Eq4bIern766Sc3Y8YMH66effZZPwurImzYsMH9/PPPbujQoa5hw4Zup512ctWrV3cnn3yye/XVV/1tcSJc2UC4soNwZQPhyg7ClR2EKxsIV3YQrmwgXCVcVsKVdjl98803fuVeKqhwNX36dHfEEUe45557rsJPDj7++GN33HHH+WcY1KpWrZqPVy+++GJwj3gQrmwgXNlBuLKBcGUH4coOwpUNhCs7CFfx09eVzuF1br9kyZLgaOUiXCVcVsKVHkwGDBjgV+5wdoUrnfwpXHXq1KnCTw7eeustt9tuuxUZ0r7zzju7a665JrhHPAhXNhCu7CBc2UC4soNwZQfhygbClR2Eq/hpOPvIkSP9uT3D2YsjXKWYdlxNmTLFr9wdVzrR12A3havnn3/erVixIrilYnTp0sVtv/32RcJV1apVXd26dYN7xINwZQPhyg7ClQ2EKzsIV3YQrmwgXNlBuIqfvq70c7DO7dlxVRzhKoN0oj916lQfrvSsfytXrgxuqRhvv/2222OPPYqEq9///vfuqquuCu4RD8KVDYQrOwhXNhCu7CBc2UG4soFwZQfhygbCVcJZCFd6sDn88MPdCy+84FatWhXcUjG0hfHqq68uEq5q1qzpB7THiXBlA+HKDsKVDYQrOwhXdhCubCBc2UG4soFwlXBZCVdLly51kydP9iv3UsE1a9b4LYZhuKroE36FsCFDhrimTZu6gw46yM+70sdTP6DGiXBlA+HKDsKVDYQrOwhXdhCubCBc2UG4ip++rjTuR+f2ixcvDo5WLsJVwmVpOHv//v39yh3OrnClbyoKV3qmv4o+4d+wYYN/nWPHjnXPPvusO/HEE90dd9zhVq9eHdwjHoQrGwhXdhCubCBc2UG4soNwZQPhyg7CVfzC4ew6t2c4e3GEqxTTcHY9XaZW7o4rRaxJkya5ww47zL300kuVGpTmz5/vrr32WtekSZPYTzgJVzYQruwgXNlAuLKDcGUH4coGwpUdhKv46etq+vTp/tye4ezFEa4ySOFq4sSJPly9/PLLRXZjVTR9gbVq1co/o2CPHj38ZYQ6pl1ZlY1wZQPhyg7ClQ2EKzsIV3YQrmwgXNlBuLKBcJVwFsLVhAkTfLh65ZVX/KWDlUXfuO699153wAEHuFq1arknn3zSLVq0yP3666/BPSoP4coGwpUdhCsbCFd2EK7sIFzZQLiyg3BlA+Eq4bI0nF2XBGrlXiqoSwPHjx/vw1WXLl38iX9l6dOnjzv//PNdtWrV3M477+z/n+3bt3ezZs0K7lF5CFc2EK7sIFzZQLiyg3BlB+HKBsKVHYSr+Onratq0af7cXhtB4kC4SrgsDWcfMGCAX7mXAypcaXD6oYce6l599VX3008/BbdUPH1C6pkFt9lmG1elShVXtWpVd8IJJ7gOHTr4E9DK3HlFuLKBcGUH4coGwpUdhCs7CFc2EK7sIFzFLxzOrnN7hrMXR7hKseXLl7upU6f6tW7duuBoQbjSJ2Ac4apt27buwAMPLAxXWttvv72/bPCZZ57xA+YqC+HKBsKVHYQrGwhXdhCu7CBc2UC4soNwFb9ffvnFfffdd/7cPq7HU8JVwmV9xpU+AUePHu3D1WuvvVbkMsKK1rVrV3feeee5XXbZpTBcaW233XbulFNOcZ07dy64YyUgXNlAuLKDcGUD4coOwpUdhCsbCFd2EK5sIFwlnKVw9frrrxfZjVXRFMX0bIJ16tTxO61y49Uf//hHd8MNNwT3rHiEKxsIV3YQrmwgXNlBuLKDcGUD4coOwpUNhKuEy0q40jePiRMn+pV7OaA+AXV97CGHHOLeeOONSvlEDG3YsMEtW7bMvfTSS37WVW642meffVzz5s2De1Y8wpUNhCs7CFc2EK7sIFzZQbiygXBlB+Eqfvq60sdd5/YMZy+OcJViejAZOHCgX7nD2VetWuWGDx/uw9Wbb77p1q9fH9xSeXr16uWOPPLIYuHq+uuvD+5R8QhXNhCu7CBc2UC4soNwZQfhygbClR2Eq/hpOPuoUaP8uX1c57iEq4TLSrjSD/3ffvutX7mXAypcDRs2zIert956y/3888/BLZXnyy+/dGeeeaZ/VsEwXGkH1l133RXco+IRrmwgXNlBuLKBcGUH4coOwpUNhCs7CFfx03B2nd/q3H7p0qXB0cpFuEq4rM+4WrlypRsyZIgPV/pkiSNc6ZtY69atXfXq1V21atXctttu64477jj39NNP+5Cmb3C6rLAiEa5sIFzZQbiygXBlB+HKDsKVDYQrOwhXNhCuEs5CuBo8eLA7+OCD3dtvv+23HVY2xTHV4XvuucedccYZ7g9/+INfp512mnvyySf9dbq//vprcO+KQbiygXBlB+HKBsKVHYQrOwhXNhCu7CBc2UC4SrishKslS5a48ePH+5U7nF3hatCgQT5cvfPOO7F8c9FuKj3D4Ny5c92jjz7qatSo4Z9lcNddd3WHHXaYa9++vZs1a1Zw74pBuLKBcGUH4coGwpUdhCs7CFc2EK7sIFzFT19XU6ZM8ef2CxcuDI5WLsJVwmVpOPuAAQP8yh3OvmLFCn9M4erdd9/118vGSZ+kBx54YOGsK829qlu3rhsxYkRwj4pBuLKBcGUH4coGwpUdhCs7CFc2EK7sIFzFT1dJjRw50p/Hz549OzhauQhXCZel4ew6ydPKHc6ucNW/f38/HP29996r8Ev0Nqdt27Y+XG2zzTaF8Urztl5++WVfjyvq7SFc2UC4soNwZQPhyg7ClR2EKxsIV3YQruKnzSYzZ870PwsvW7YsOFq5CFcJl/UZVwpX/fr18+Hq/fffjz1cde3a1Z133nlul112KYxXe+yxh7vkkkv826Nverq0cGuHtROubCBc2UG4soFwZQfhyg7ClQ2EKzsIVzYQrhIu6+FKJwNffvllYbiq6Gfz2xzNuurRo4erV6+e23nnnX24UsDSzCtdvqiPvb7hEa5QFoQrOwhXNhCu7CBc2UG4soFwZQfhygbCVcJlJVwtXrzYjRs3zq/c4ew6Gfjiiy98uNLup7jDlf5/2t7YoUMHv9MqvFxQ63e/+50f3K5nO9TOsK1BuLKBcGUH4coGwpUdhCs7CFc2EK7sIFzFT19XkydP9uf2DGcvjnCVYnowGThwoF+5w9l1MtC3b9/CcPVbUZzac889i4Qrrd12281dc801bt68ecE9twzhygbClR2EKxsIV3YQruwgXNlAuLKDcBU/DWcfNWqUP7eP6xyXcJVwWQlX2rE0ffp0v3I/2ZYvX+4+++wzf1let27dgqPx6927tzvhhBOKhauddtrJ1a5d2w+f25rdYIQrGwhXdhCubCBc2UG4soNwZQPhyg7CVfw0nH3WrFn+3J7h7MURrjJI4apPnz7+mfx+y3A1adIkd/fdd/sdVtttt11huKpWrZqrVauWmzBhwlZ9kRCubCBc2UG4soFwZQfhyg7ClQ2EKzsIVzYQrhLOQrj65JNP3KGHHuq6d+8eHI3fzz//7GbPnu3atm3r9t9/f1e1alUfrrbddls/tP2OO+5wU6dODe5dfoQrGwhXdhCubCBc2UG4soNwZQPhyg7ClQ2Eq4TL0nB2faJp6eQ+pK2FukzvsMMO+03DlS4D1BfB3Llz3WWXXeZ23333wl1Xilenn366GzJkSHDv8iNc2UC4soNwZQPhyg7ClR2EKxsIV3YQruKnryt9fem8Z8GCBcHRykW4SrisD2dXuProo4/c4Ycf7nr06BEc/W099NBDPqQpWIXx6pJLLnGjR48O7lF+hCsbCFd2EK5sIFzZQbiyg3BlA+HKDsJV/BjOXjrCVYqtXLnSzZgxw6/cTzaFq169erkjjjjC9ezZMzj62xo8eLC74YYb/OWLu+66qw9X5557ruvYsaMbNGiQ++6779yvv/5armHthCsbCFd2EK5sIFzZQbiyg3BlA+HKDsJV/DScXee2OrfX6J84EK4SLuszrpYuXeo+/PBDV6NGjcSEK30hfvXVV/7jftxxx/lwpSHtf/jDH/wlg08++aT/Ai3PN0LClQ2EKzsIVzYQruwgXNlBuLKBcGUH4coGwlXCWQhXH3zwgTvyyCP9r0mgnVQa1j58+HDXvHnzwssFt9lmG7f99tu7gw46yD311FPl+qGHcGUD4coOwpUNhCs7CFd2EK5sIFzZQbiygXCVcFkJV4sWLfIzorR0ch/SNxXNtjrqqKMSE65Cn332md9hFYarcO20007uhBNOKLxksCwIVzYQruwgXNlAuLKDcGUH4coGwpUdhKv46etq4sSJ/tx+/vz5wdHKRbhKuKwPZ9c3lW7duvlwpUsGk0Rva/369f1Oq9xwpaHtu+yyi3v11VfdwoULg3uXjnBlA+HKDsKVDYQrOwhXdhCubCBc2UG4ih/D2UtHuEqxFStW+JM8rXXr1gVHC76pdO3a1R199NGJC1caNtepUyc/OH7HHXcsFq+uuuoqN27cuODepSNc2UC4soNwZQPhyg7ClR2EKxsIV3YQruKnmdCzZs3yPwvrydbiQLhKuKzPuFqyZIl7//333THHHOPf1yTRZYB6+5599lk/gys/XumYopt+2NWwds3GKumZBglXNhCu7CBc2UC4soNwZQfhygbClR2EKxsIVwlnIVy999577thjj01cuFKEUrzSDjHtvDr++OPddtttVxiu9tprL7fvvvv6t11/R/oiKmnmFeHKBsKVHYQrGwhXdhCu7CBc2UC4soNwZQPhKuGyEq70A6Gug9XSyX1I4eqdd95xxx13nOvVq1dwNHkWLFjgOnfu7OrWresOOOCAwmcYrFq1qtthhx38sVatWpU484pwZQPhyg7ClQ2EKzsIV3YQrmwgXNlBuIpf+PORzu3j+tgTrhIuK+FKzzYwaNAgv3KHsy9evNh/kmg300cffRQcTR7tpNJ1vBpAp0sHFa1yh7brz4pXeqbBKIQrGwhXdhCubCBc2UG4soNwZQPhyg7CVfw0nF3PKKhz+7jOcQlXCZeVcKXh7Io6WrmfbApXb731lqtZs2aiw1Uunazus88+RS4b1LD23//+965v375u1apVxWZdEa5sIFzZQbiygXBlB+HKDsKVDYQrOwhX8dNw9tmzZ/tze816jgPhKuGyPuNq0aJF7o033khVuJo3b5674oor/IwrBSuFK+2+2mmnnVzjxo1dv379fJDTzrJwYDvhygbClR2EKxsIV3YQruwgXNlAuLKDcGUD4SrhrISrE044wfXu3Ts4mmz6BqiTGEUqxavcSwb1zIP77befa9Cggd9JpvsSruwgXNlBuLKBcGUH4coOwpUNhCs7CFc2EK4SLivhSkPLR4wY4deaNWuCowXh6rXXXnO1atVyH3/8cXA02cJnG5wxY4a77bbbXPXq1QvDlZYuIdxjjz1c7dq1fbzSCQ/hygbClR2EKxsIV3YQruwgXNlAuLKDcBU/zbgaP368P7fX1UhxIFwlXNaHs+sHxS5duriTTjopNeEqlz7BTznllCLzrsK16667ujp16vhgRbiygXBlB+HKBsKVHYQrOwhXNhCu7CBcxY/h7KUjXKXYypUrfbzRyv1k0w+Kr7zyig9Xn3zySXA0PcaOHevuuusud+ihhxa5ZFCratWq7j/+4z/c559/7ou0Btgh2whXdhCubCBc2UG4soNwZQPhyg7CVfw0nH3OnDn+3D6un5EIVwmX9RlX+kHxpZdecieffHIqw5W+aCdNmuTuvfdef3mgYlVuvNJOrEaNGvk5Xt9++23wUsgqwpUdhCsbCFd2EK7sIFzZQLiyg3BlA+Eq4bIerjT76sUXX/SX2/Xp0yc4mh6ad6VviHPnznVt2rRx++yzT7GdV7vssos7//zz/d8lso1wZQfhygbClR2EKzsIVzYQruwgXNlAuEq4rISrBQsWuGHDhvmVO5xd4eqFF17wg8zTGK5C69ev95cCaufVEUccUWTmlUKWdmNdffXV/n3ULi0FL2QP4coOwpUNhCs7CFd2EK5sIFzZQbiKn2ZcaWSOzu21gSMOhKuEy0q4Kmk4u8LV888/70499VT36aefBkfTJ3ymQT1wtmvXzh111FFFLhvcdttt3Z/+9Cd3xRVXuC+//NKtXr06eElkCeHKDsKVDYQrOwhXdhCubCBc2UG4ih/D2UtHuEqxVatWuZkzZ/qV+8mmnVidOnVyp512WqrDVa5wYPshhxzig1VuvNprr738zKvhw4f7jwk7r7KFcGUH4coGwpUdhCs7CFc2EK7sIFzFT1cQaaeVzu3j+hmJcJVwWZ9xpXD17LPPutNPP9199tlnwdF0yx3YXr16dbf99tsXxitdNlitWjXXuHFjN2TIEB86kB2EKzsIVzYQruwgXNlBuLKBcGUH4coGwlXCWQhXHTt2dGeccYbr27dvcDTdcge233PPPW7fffctsvNKSwPbtfNK2yuRHYQrOwhXNhCu7CBc2UG4soFwZQfhygbCVcJlaTi7dhhp5Q5n1+yrZ555JlPhKpQ7sP2www4rEq+08+qPf/yja9KkCQPbM4RwZQfhygbClR2EKzsIVzYQruwgXMVPM650zqNz+zlz5gRHKxfhKuGyNJx98ODBfuUOZ9fx9u3buzPPPDNz4Sp3YPsdd9zhDjjggCID2/X7/fbbj4HtGUK4soNwZQPhyg7ClR2EKxsIV3YQruKncDVmzBh/bk+4Ko5wlWL6RNPuIy3tRAopXD399NPurLPOcp9//nlwNHs++eQT17BhQ3fooYcWe7ZBBrZnB+HKDsKVDYQrOwhXdhCubCBc2UG4ip+uFtLHXOf2K1asCI5WLsJVwmV9xpU+4Z988kl39tlnuy+++CI4mj3fffed/7u87777NjuwPfdSSqQL4coOwpUNhCs7CFd2EK5sIFzZQbiygXCVcBbC1RNPPOHOOeecTIerGTNmuL///e+FA9t1iWDuziutcGB7lneeZR3hyg7ClQ2EKzsIV3YQrmwgXNlBuLKBcJVwWZpxpWfQ08qdcTVv3jz32GOPuXPPPdfPecoqRav//u//LhzYrp1XNWrUcNttt12RnVca2H7VVVcxsD2lCFd2EK5sIFzZQbiyg3BlA+HKDsJV/DTjavTo0f7cXue4cSBclWDt2rXu22+/dS+//LIfHv7uu++6KVOmBLcWtW7dOh8aXnrpJffss8/62KQPrAZz//TTT35o2UMPPeQ6derk1/vvv1/mH46yFK6ihrMrXD3yyCPuvPPOMxGucge2t2vXzh199NFF4pV2YelSwjp16viPS+/evf0zMuplkHyEKzsIVzYQruwgXNlBuLKBcGUH4Sp+YbhiOHu0WMOVYkGHDh3crbfe6lq0aOFatWrlXnjhBX9imrsLRtFKgat169b+fjfffLO7++67/V+ibtMPu3o9ChRt27b167nnnnPjxo0LXkPpshKu9ImmcBPuOgopXD388MM+XPXr1y84mj1huMo1duxYd9dddxUb2K6lGVh/+MMfXL169Xw8HTVqlH9QUMBiF1ZyEa7sIFzZQLiyg3BlB+HKBsKVHYSr+OnKIG1M0fntypUrg6OVi3AVQQ9wenrHWrVquUmTJvmTUQWk5s2b+y+Mn3/+ObhnwQ862kV1//33+wdHhRi9002aNHHLli3zP+y+8sor7sYbbwxeonyyEq5KoplP2o2mHUbWwpW+4PX5pcsG99lnnyID28OlZx3cbbfd3CmnnOKeeuopt3z5cr4BJxjhyg7ClQ2EKzsIV3YQrmwgXNlBuLKBcBVh6dKl7qOPPnJXXHGFW7JkiT82YcIEf8ngq6++WuRSN+22uvrqq/1lbno5PTiOHDnSHX744W7hwoWEq81QuHrwwQfdBRdc4L766qvgaPZEhSvtnNLnS2kD27U0+2qHHXZwhx12mI9X/LCVXIQrOwhXNhCu7CBc2UG4soFwZQfhygbCVQTtmnrvvfd8MAp/WJ0+fboPULqsbdWqVf6YTJ482Z111ln+B9s1a9b4Y/r9Mccc459JTuFLlwoeccQR/rLDO++803366aeFQWxzshKu9GAycOBAv3LDn6KNZj3VrVvXXLgK5Q5sP+6449zOO+/sd1rlB6xq1ar5IKqAqtfH3KvkIVzZQbiygXBlB+HKDsKVDYQrOwhX8dOMK42y0bl9See4FY1wFUEffL3hikwrVqzwxxQKXn/9dR8Xcq/j1KVetWvX9gFLA91Fu7OOP/54f1Kjlx86dKh7+umn3ZtvvumHtz/wwAPuk08+8X/h+XTiO3HiRNetWzf/Ntx2221+R5e+GNO8NM+pZ8+efunjEh7XUDe9j2eeeaYfWp/7MllaOvHR32vUbQqlCnja5ffoo4+6a665xj/joEJV7g4s7bzS5YS6hPWOO+7wn4/9+/f3L6vXEfW6WfEuPU7o6/27776LvJ2VnaXHfD2uRd3Gys7SbMHhw4cX+b7Fyub65ptv/JiIqNtY2Vo62Zo6dWrkbazsLP0dhzNio25nZWfpsVs/l0XdxqqcpV7y8ccf+3N7nc9H3aeil86vdJ6lDR9Rt2/N0jzzVO+40g6p8F9Z9UOrhmQrLOTvuDr77LPd+PHjC3dc6fcaxj5z5kxfBLU0qF07ZDT0XdFBO7fCKJZLr1sxQs8op/J3+eWXu0svvdT//9O89C8eelDRUhUPjw8YMMDdcMMN7vTTT3dvvPFGkZfJ0tIXtApx1G25a9q0ab5ca1dV06ZN3QknnOCHtOfuwFLA2nHHHd0BBxzgPzc07F8PGvrY6tLVqNfLimfpmUf1tLD6fI+6nZWdpWily8KjbmNlZ+kxeciQIf4fqaJuZ2Vn6We3MFKysr2GDRvm/5E56jZWdpb+jvV3rcfxqNtZ2Vl67NbPZVG3sSpn6etKH3Odf8b1M5LOr3SeldsSKmqp+6QyXGmougriZZdd5hYtWuRnEelZAJ988km/ayoMVKJLCBs1alR4+Z8Gt+tB8qijjvIzrvSyuc8Cp4Hc2n2lMFWWp47MyqWC4cch/+OhWqv5Tnr2PEWsrCrtUsEo+hhpa3PXrl394HoNaA/DVe763e9+5/bee28fuXRylfu5ifhxqaAd+tcZfaNDtnGpoB1cKmgHlwrawKWCdnCpYPxKOrevTFwqGEFxSR+UmjVr+su7FAO0o0VxQCcquZf4KWy98MILPr7ovooT2jnUrFkz/wxwOpHV0m4r/aXq/gpRmuu0evXq4LWULCvhSu+/Pq5auZ/cYbi66KKLCFc5wgcBzb/S594ll1ziI1VUvNIOrF122cUH1M8//zx4DfgtEK7sIFzZQLiyg3BlB+HKBsKVHYSr+Ok8NTy3j2vuMuGqBPoBRkFKsUpB4Oabb/aXCuoD1rt3bzd48GD/BaIPnIaw33777e66667z923durW/plq36VpMPROhnlVQr+P66693Dz30kN/SqL/ozcnScHaFKa3c4eyKOW3btnUXX3yxv0Quq8obrnLp2So1E61BgwZujz328HOuFKvy49U+++zjrrzyStenT59igRDxIFzZQbiygXBlB+HKDsKVDYQrOwhX8dNGHo3M0Lm9Zk7FgXBVAs2kUpB65513/LMJKiDpWs7wh1gN/NOOKsUB3VfPiKf7amB23759/W4q1UddPqhLuHRclxm+9dZbft6RXrYsshSudE2qVn64atOmjd9RpNuyamvClT6PtFOvX79+rlOnTv4SVs230pyr3IClQe777ruvq1+/vp979eWXX/qXi6uCg3BlCeHKBsKVHYQrOwhXNhCu7CBcxS98VkGdv2/pOW55Ea4SLivhSrFKDyhamgMWUqHVszcqthCuShduyVQkffDBB/3H7KCDDiryzINhwNp9993dhRde6F566aXCZ1RRwGIXVuUiXNlBuLKBcGUH4coOwpUNhCs7CFfx03mlvm/q4x7XeQ/hKuGyEq4UTHJXSOFKz7JIuCofBSztALzvvvv8JYK6fDA3XoVLs69OOukk9/jjj/tny9TJl+ZmEbAqB+HKDsKVDYQrOwhXdhCubCBc2UG4il9J5/aViXCVcFkJVwot2lKolfvJPWvWLD8f7NJLL/Vzw7KqosOVPob6Rjx37lw/3H6//fYrtvMqXNttt53bdddd3RFHHOHniU2ZMqVM89VQfoQrOwhXNhCu7CBc2UG4soFwZQfhKn46Fw3P7eM6ryRcJVxWwpV2+/Tv39+v3BlXCletWrXyc5s0CyyrKjpchbR7SrvWtPPquOOOczvvvLPbdttti8UrzcLSsxJqBtZZZ53ld7kxxL3iEa7sIFzZQLiyg3BlB+HKBsKVHYSr+ClYjRgxwp/bM5y9OMJVis2fP9/vqNLKD1ctW7Z0l19+OeFqCyg66RrjCRMmuHfffdfPCzv55JN9wCppB9YOO+zg9t9/fz8Qv2PHjv4JA/TEAr169fKvh1lYW45wZQfhygbClR2EKzsIVzYQruwgXMVP4UpPOKdze81SjgPhKuGyNJxd8Uordzj7zJkz/fvXoEEDN3To0OBo9lRWuMql4KTi/cYbb7gbbrjB1apVy+25555+/lXusw+GSzuzNAPr4IMPdocddpg75ZRT/N+Fhr/rG8CqVasIWOVEuLKDcGUD4coOwpUdhCsbCFd2EK7ip/NOPXu9zu3jOu8hXCVc1oezK1y1aNHCXXHFFYSrCqKPr75Jd+3a1V177bWuRo0abrfdditxB1bu0uWEe++9t7vuuutcv379/AOSomP+3xuiEa7sIFzZQLiyg3BlB+HKBsKVHYSr+IXnhnGeIxKuEi4r4UrfNPRJpqVCG1K4uuWWW9yVV17phg0bFhzNnrjDlZbmX61evdqNHDnS3XTTTa569er+MsGo3Ve5S7fvuOOOfuD7xRdf7C8l1N9fXA9KaUa4soNwZQPhyg7ClR2EKxsIV3YQruIXnmvq3D6urzHCVcJlfTi7go6iylVXXUW4qgR6UNHHW4FwzJgxrk2bNqUOcc9dejZC7dQ68sgjfVjs3LmzmzZtWpHwiKIIV3YQrmwgXNlBuLKDcGUD4coOwlX8GM5eOsJVii1YsMAPX9das2ZNcLQg6Nx4443u6quvdsOHDw+OZs9vFa5CClgKTrlD3E899VT3pz/9ye+s2mOPPfwuq6jdWLrEUKFLQ9/btm3rd2C9/fbb/vXo108//dRNnz6doLUR4coOwpUNhCs7CFd2EK5sIFzZQbiKn8KVznl0bs9w9uIIVymmWLVw4UK/coezK+hokPg111xDuIqJApPKuKLTvffe69q1a+ef2bF+/fp+ULsuJ4zajaVje+21lzv00EP9MPcjjjjC/3rOOee4Bx54wD9wfffdd27dunVmLyskXNlBuLKBcGUH4coOwpUNhCs7CFfx0/nkkiVL/Lm9RtPEgXCVcFkazq5PcK3cqDFjxgx3/fXX+yHi2m6YVUkKV1F++eUXfxngQw895HdW/fGPf/Q7sDZ3OaGWdmnttNNO7vDDD3e33367mzhxov9h4aeffjIXsAhXdhCubCBc2UG4soNwZQPhyg7CVfxKOrevTISrhMtKuNJ2wrVr1/qlT/CQwlWzZs1cw4YN/RDxrEp6uNIDjr6xKzatWLHCPffcc+60005zu+++e5mejVBL91PA0q4tPSth3759zf2wQLiyg3BlA+HKDsKVHYQrGwhXdhCu4qdzR11lo3N7nefHgXCVcFkazv7VV1/5lTucXZeWKXIQrpJBD0Ja+gF+8uTJfo6VBudrQPtRRx3l9t57bz+0PSpchWv77bd3e+65pzvxxBP9TjrtwtKliO3bt/d/x9rdlVWEKzsIVzYQruwgXNlBuLKBcGUH4Sp+ilUa86Nz+1mzZgVHKxfhKuGyNJx96NChfuUOZ1e4atKkiWvUqJEbNWpUcDR70hKucmln3KJFi9yAAQPcO++842diKUDVqlXLD3Xff//9/bMO/u53v4sc6q6Apds1/F3317MZKlK+8MILmR3sTriyg3BlA+HKDsKVHYQrGwhXdhCu4hcOZ9e5/dy5c4OjlYtwlXBZCVc6oVcE0codzq5wpWjVuHFjwlXCaafUpEmTXJcuXdx9993nh7q3aNHCnXvuuT5OlRSwwqXbNPhdA96zOtidcGUH4coGwpUdhCs7CFc2EK7sIFzFT5sO9DWmc/vcq6kqE+Eq4bI+nF27bXSZoHZdjR49OjiaPVkIV1EUs4YNG+YvB9SOqj322GOzASt35Q92nzBhgn92Cj1LhR4MV61a5X/gSEvMIlzZQbiygXBlB+HKDsKVDYQrOwhX8Svp3L4yEa4SLkvD2XVSr5U740jhSnOQdAkZ4Sp99EAV/t1qx9Q999zjatSo4XbeeecyPSNhuMLB7gceeKCrXbu2u+CCC9zll1/unnzySV/y9aCYBoQrOwhXNhCu7CBc2UG4soFwZQfhKn46B9Rgdp375F5NVZkIVwmXxeHsq1evDo4WhKurr77aNW3a1I0ZMyY4mj1ZDVchPXjpQUTXOOskT89KePHFF/uh7kcffbSrXr26q1at2mZ3YmkulgLWLrvs4v7whz/4kHXRRRe5G264wbVq1crdfffdfjaWTjCSGLMIV3YQrmwgXNlBuLKDcGUD4coOwlX8GM5eOsJViunyL31ya+UOZ9eJn561rlmzZoSrjFBQmjlzpuvbt6+PTBrEroHsik8nnHBCmQa7hyu8lFBzsfRyBx10kDv77LP9fK3XXnvND43v1q2bv1xxxYoVsW1VLQnhyg7ClQ2EKzsIV3YQrmwgXNlBuIqfwtW4ceP8ub02qMSBcJVwWQlXP/30k59bpKVP9JBO/K644gofrvSJmFWWwlWUrR3snrt0CaJ2ZCl+aTbWscce66655hofyMaPH/+bXlpIuLKDcGUD4coOwpUdhCsbCFd2EK7ip3OtZcuW+XP73E0plYlwlXBZH87+7bff+llG119/PeHKmKjB7rqcUM88qEsGyzMjS/fVpYV169Z1r7/+uv/mpQfSxYsXFwZT/QCjYe8Kp5W1M4twZQfhygbClR2EKzsIVzYQruwgXMWvpHP7ykS4SrishKv169f72VZaucPZw3DVvHlzN3bs2OBo9hCuitODXP5gd10GeNJJJ7mjjjrK/cd//Icf2h4VqqKWdmxp55ZeTi+viHX++ee7OnXqFBn2PmfOHP8gWxkIV3YQrmwgXNlBuLKDcGUD4coOwlX8dB6nnVY6t6+MkBSFcJVwWQlX8+fPd4MGDfLrxx9/DI4WhKtLL73Uzz/SdbJZRbgqmR741q1b5+OV4uWoUaP8TqwePXr4Z5zUbixdEnjAAQe4XXfddbM7sXT7jjvu6Hdg7b777v5XLc3JOuKII9yVV17pWrdu7e6//3736KOP+v+PdmZVRMwiXNlBuLKBcGUH4coOwpUNhCs7CFfx0+aD0aNH+3P7uM5xCVcJl6Xh7CNGjPAr9zpYhav69eu7G2+8kXCFQopZKvgKWBq+riHsugTw4Ycfduecc4479NBD/Wysvffe2w9vL+tlhdqVpcsRK2vYO+HKDsKVDYQrOwhXdhCubCBc2UG4ip/ClWYL69ye4ezFEa5STMPZ9Q1EK3c4+7Rp09zFF1/sbrrpJv/Jn1WEq62nHVE6eezZs6d74okn/I6pu+66y+/KqlGjht9dtd1220UGq9KWoldpw96nT5/upk6d6neC6Ruj3oaSghbhyg7ClQ2EKzsIV3YQrmwgXNlBuIqfzsuWL1/uv850/hMHwlXCZWk4u2ZbaeWe9Ctc1atXz918882EK5SbHjQ1eL1Tp07ukksu8TuodDmhZl1pyLt+1drSYe+ajdWyZUv/5AE1a9Z0TZs2dZ988olbsGBB4fB37czSA6g+rwlXdhCubCBc2UG4soNwZQPhyg7CVfx03qPzMJ3bV8S4lbIgXCVcloaz65NNK3c4u3ayXHjhhe6WW27xJwdZRbiqHOGDpmZk6XPro48+ctddd52rVauWO+WUU9yJJ564VcPetYNL87K09LL6dd999/WvV1FLw9/vvvtuf5mrPq8JV3YQrmwgXNlBuLKDcGUD4coOwlX8dA6mudU656mMkBRF/y/CVYJlJVzpwWTgwIF+5Q5nV7jSs7+1aNGCcIWtogdQ/ZAyZcoUf1mfBgbq1/xh7yeccEK5hr3nL8Ws3//+94XD3w8++GAfX2+77TbXtm1b17hxY38J43333ec6dOjg+vXr58Oa3j5kB+HKBsKVHYQrOwhXNhCu7CBcxU+jf3SOpXP7uM5xCVcJl5VwpR8IR44c6VfudbAKV9q5cuutt7oJEyYER7OHcPXbUjQKh71rRlZ5hr1r55VWbrzKXbpNlyXusccefjfWnnvu6X/V8HfN3tKzZj7zzDPuzTff9P/fXr16+c917UIkZqUX4coGwpUdhCs7CFc2EK7sIFzFL/z5SOf2cX3sCVcJl5VwtXbtWrds2TK/coez64FGl1vpfSRcIU66xFAnoyUNe69evbof2H7EEUf4XVWKU+XdnaWlHVramaX5W9rppUsY9fn+2WefueHDhxfuCguXvib0dhG1ko1wZQPhyg7ClR2EKxsIV3YQruIXnkfp3F5PwhYHwlXCZSVchcPb8oez64Hm3HPP9ZdZTZw4MTiaPYSrdNDnaTjsvXnz5q5Nmzbu2WefdQ8++KA7+eST/S6qnXfeuXDou+ZelbYbq6Sll9XMLc3eOv744/3SJYz6dXMD4JEMhCsbCFd2EK7sIFzZQLiyg3AVP52ThOf2On+KA+Eq4bISrjTjRyffWrnfQPRAo0u1CFdIAj0I68FXn6+6pFX/gqDf61d97r7yyivu8ssv9wPf9SyD2pWlge1bEq/0Mgpf+WtzA+CRDIQrGwhXdhCu7CBc2UC4soNwFT+dL61atcqfH+nKqjgQrhIuS8PZBwwY4FfucPZvvvnGnXXWWa5ly5Zu0qRJwdHsIVylWxi09HmswKpL+kaMGOG++uor17p1a3f66af7ywAPO+wwvytLM7P0q4a4b+nlhbkD4HWZoZ7EQI8FGvp+7733+ksbGQD/2yFc2UC4soNwZQfhygbClR2Eq/hp9I/mW+ncfvbs2cHRykW4SrgsDWcPZ/jkDmdXuDrzzDNdq1atCFdIlTBmTZ482fXu3dsPXn/ttdd8TOrSpYtfd955pzv11FP9rCwNf9flgVu6Q0uXFypkKYhpR5Zen36vGVz169d37du3d2+88YZ7++23/dLbo18VtebPnx/bNl4rCFc2EK7sIFzZQbiygXBlB+Eqfvq60nxqndvH9bEnXCVcli4V1A/+WrnfQBSuzjjjDHf77bf7by5ZRbiyQVFWD6h6YFUo0r9AKB61a9fO75DS57kik3Zk6VkIFaLCpZ1VilpbukNr1113dQceeKDf9aUV7gC76KKL3HPPPecGDRrkv7noX0fCiKxvOHob9TXJbq3yIVzZQLiyg3BlB+HKBsKVHYSr+Ok8Z+XKlf7nIy4VLI5wlWL65I4azj5lyhR32mmnuTvuuMPvXMkqwpUNueEqir4Opk2b5h5//HF31VVXuSuvvNJdccUVrkGDBu6yyy5ztWvXrrAB8OHSy+qywz//+c9+Ltdxxx3nB8Hr97r88IEHHvCfn3pWEH0DWr58uR8IHw6G16/h0u3aGkzkIlxZQbiyg3BlB+HKBsKVHYSr+OlcgOHsJSNcpZhKrE6ItXK/gShc6VIqzQkiXCHtNheu9CCvz399PaxZs6bI0uw3haH8AfB//OMft/jywtylnVz5g+C33357H8kOPvhg/wQJjz32mJ83p4Hwilr6tU6dOn5I/CWXXOIeffRRN2fOnNi+QSUZ4coGwpUdhCs7CFc2EK7sIFzFT+cCGsyuc3s9iVUcCFcJl/Xh7IpVp5xyip8FpIiVVYQrGzYXrkqjqKVvAvpayR0A379//yID4DXTSpca6tetGQAfLgUx7ezSHC69Xv2qyxbDyxfDSxk1n0v/f+0S09uTPyT+xRdfdGPHji22qzKrCFc2EK7sIFzZQbiygXBlB+EqfgxnLx3hKsUWLVrkRo8e7VfucHaFq5NPPplwhUzYmnAVJYxZuQPg33333cLh61ED4BWztLRTa5dddvHzr6KC1ZYsRa5q1aq5vfbay/8/cofE6xLE6667znXu3LnIgPhwSHz466effuqmTp3q3680By7ClQ2EKzsIV3YQrmwgXNlBuIqfvq70D+06t9eTQMWBcJVwWRrOru2EWrnfQHRCXqtWLXfXXXf5Qe1ZRbiyoaLD1eYo/uQPgNfuJy09AN90001+R6PCUu4QeP2qSwR1qWDuJYhbczmiXnaHHXbwO7PCAfHhkPhwh5j+fM4557h77rnH7yQLh8SHa8yYMT4G6eOY9KhFuLKBcGUH4coOwpUNhCs7CFfx0znIqlWr/Lk9w9mLI1ylmD65o4az6xvKiSee6Nq2bUu4QurFHa5Ko68z/bCmx5BWrVr5IfAaCK/5WbrcT/OratSo4SOWgpOelVDPdKhfdemgjoUD4hW4tuZyxNylwKWZXdoRphlexx9/vP9VA+MV2fR4p3+9WbhwoR8On9RB8YQrGwhXdhCu7CBc2UC4soNwFT/9/M1w9pIRrlJMJXbp0qV+6WQzpG8oOmG9++67M/0DI+HKhqSFK63169f7oYn5w+D1Nura9Ntvv90/m6F2ZykgN2nSxO+CVERSVNaQ+KOOOsrtueeeFX7ZYf6weL1+XYqoyw91CbHiWlIHxROubCBc2UG4soNwZQPhyg7CVfz087d+NtK5vc5/4kC4SrishKt58+b5S4O0coez6xuKdlzo0iHCFdIuSeFqcxS1tMX322+/9Tuc9PU3ffp0P2tOl+3pWHgJ37Bhw9xHH33kmjZt6kOzLv/LvQRw77339sFpay41zF3hsx3qssaSBsXrssMGDRr48JY7KF6/6s/6/UMPPeS6du3qd2tVdOAiXNlAuLKDcGUH4coGwpUdhKv4aSNK+CRSDGcvjnCVYhrOrk80rdwqO2nSJD/UWeFKA5uzinBlQ5rCVXkocmnXliJWz549iwxd17B4PaPgDTfc4KOW5mnlDonX78Mh7opPuvSwogKXLjnUTjD9f3IHxYf/3wMOOMCdccYZPmRpkL3e3txB8X369HFDhw51AwcOdO+9957r169fmXdxEa5sIFzZQbiyg3BlA+HKDsJV/PR1pfN4nfcsWLAgOFq5CFcJl5VwpU8w7e7Qyv0Gok/4Y445xn+yEK6QdlkNV5uj69v1taw4pEikQfHhDqhwF5SO3Xrrre7cc891Bx10kN85pZla4U6qcLZWRUWtcOn1/f73v/cxS7u0cgfFn3322X7u16WXXurnfV100UWuffv2btCgQT7S6VLKcNdZuMJj2oH24Ycf+n9l0mOa4h6yh3BlB+HKDsKVDYQrOwhX8dM/8q5evdqf2+tJ2OJAuEq4rIQrfXLrG0f+CZ6eRlPzc3RiO23atOBo9hCubLAarspKgUuXHT7wwAP+Mj9FI/2qwfEXX3yxH9KuHVS67FDD4cMB8ZU1KF5LYSuMZWHk+vOf/+x3j2k3qH4Nh8jnHtPj1mmnnebfF319a1dp7hD53GHyucf07Cv6Bk/oSgfClR2EKzsIVzYQruwgXMVPP8fq53p9fVX0OI6SEK4SLivhSif0OmnTyh3OHoYr7dIgXCHtCFel0zc5ff3ryRryh8XrX23mzp3r51JpELuGwmtpQHzuoHjt0KzoQfH5S2Esf3B81NLbsMsuu/hdXGeddZYfHq+3XQPkzzvvPP9reCwcMK8notBMAH2zR/IRruwgXNlBuLKBcGUH4Sp+ilUazK5ze/0cHwfCVcJlaTj7V1995VfucHaFK12io8uJNCQ6qwhXNhCutpyilp4BUV8r48aNK3J5Xu6g+OHDh5c6KF6XAOrPBx54oNttt918YIqKU1raYaVItTU7uPQ6tCNM/6/cIfK5w+Rzjx188ME+ZulxPbyMUr/mD5h/8803/Q9icf0rFqIRruwgXNlBuLKBcGUH4Sp++odo/Uyuc/tZs2YFRysX4SrhshKuVGPHjh3rl07uQwpXOtnU/JssDzomXNlAuKp8ClylDYoPh6+/8cYb7oknnvCRSFFLw9pzB8Vr5pUu+9NOqdq1a/vwpB1U4WWDlbXC0KWQlf/2hEPl9at2l918883uhRde8N9ItXLf19xf84998cUXZR4yj9IRruwgXNlBuLKBcGUH4Sp++rrS15fO7RnOXhzhKsW0k0KfbFq5l8hMmDDB75DQnBjCFdKOcJUcClza3dm7d28fsLSTKdzNpFCuHU56NsQePXr4b1S33HKLvyRR4Sh/p1TuCo9pFlZlhq4wcO21117ukEMO8fFNO8n0eBnuKos6pl91WeLTTz/tny0x3Kn2zTffuOnTp/tf9efcXWzhCo9p0L5+CFH40sfRMsKVHYQrOwhXNhCu7CBcxS/8OVvnPJURkqIQrhIu68PZFa50Uka4QhYQrtJJj0l6bNLjbevWrf2weA2Ov/zyy92VV17p/xwOkw+PnXnmmf5yREUsBabcAfLh73OPaemyxcre0aWl/4fC2v777184WL5hw4auZcuW/tdw0Lx+1e1auYPo9SyLinr6ITCcTRg1aD7q2PLly/3XgT6mWYhehCs7CFd2EK5sIFzZQbiKX/izs1ZcO/wJVwmXlXClExmd1GjlDmfXCYFmvjz44IN+N0BWEa5sIFylUxhZNFxS4SU/yOTHGf06fvx499prr/mdWrVq1SqMPopBGiSf/4yEWtWrV3c77rhjbPFKO8LCaLbzzjv7yyH1q/6cH9Vyj+k+2nl26qmn+mAXPvOjVhjuSjqm8Pfpp5/6H2QIV0gTwpUdhCsbCFd2EK7ip1jFcPaSEa5STMPZ+/Xr55eePSykE4KDDjrIP5PYd999FxzNHsKVDYQrO/SYpiHyelIJXWKXe+mdfj9y5Mgix/Tn/v37+7CjuVq6pE/z/cKh8rmX/O2xxx4+IMURuEpa2267rY9suZdH5v4+6piWgtdpp53mbrrpJv9DgC7N1GWZuYPoo47pz88//3zhMy4mJXoRruwgXNlBuLKBcGUH4Sp+4XB2ndsznL04wlWKqcbqJE9Lg5VDOiHQ5TYPP/ww4QqpR7iyQz8glefyZoUY/evU5MmT3SeffOIHqecOkw8Hq2sp4GgH07HHHls4sD1qiHv+Mf15l112cdtvv32x6KU/hyv3eGUs7fTadddd/dujlfv25b69+ceOOeYYd80117hOnTr5Z1XUDxC5Q+dzfy3LMX2cp06dulWzughXdhCu7CBc2UC4soNwFT99XelnWp3bL1y4MDhauQhXCZeVcKXh7BrgppU7nF2X2/z5z392jzzyiJsxY0ZwNHsIVzYQruwob7gqKwUWPUYOHjzYde7c2e9E0jD53J1JJR3Tn7XTSTueFINyd0TpHwi0syucy6VdXeHt4X10LBw6HxWk4liKbnp7tBNX8w/DofNlHU6fe0xzyO655x6/000/1OrvS4Pnw11x4W64cEUd0w6w119/3T9To/6s71l6PNf3tCxcColNCFd2EK5sIFzZQbiKn34G0iWCOrfXz0RxIFwlXFbCVUnD2XUSoBOsRx99lHCF1CNc2VFZ4Wpr6LFVj7GaMZU7ZF6zpxS4nn32Wf+r/hwe1320u0tzqnTs7LPP9vFH87By517l/r6kY5X5LItbsvS26HLHP/7xj65Jkyb+e2n9+vX93DHNH9McMv0+nEMWdUy/6uOh3WD6/Xnnnefuvvtu/0OyQod2E+fPP4uaiVaWY9rVtW7dOoLYb4RwZQfhygbClR2Eq/iFP3NqMZy9OMJViqnI6odCrZ9//jk4WhCudInIY4895uNOVhGubCBc2ZHUcKWlz8P8IfOKIqtWrfK/lhZQFixY4D788EPXuHHjwkHzYcAJw05Jx7R7VoPdt91228iQ9FssxSs9m6PeLl2+uNNOOxWLb+GKOqalXWDh7/Xy//Ef/+Hf/3r16vn4pxXGv3BgfXmP6VftohszZkyRXcmID+HKDsKVDYQrOwhX8VOs0s+N+t6pXVdxIFwlXFbC1dy5cyOHs+u6WP1rOOEKWUC4siOJ4aoiKHwtW7bMffPNN/7SuLJeUqdjgwYNcu3bt3cXXnihv1RPlyaGl/CFl/GVdGyfffZx1apVS9SOrZKW3kZFLIWw8DLL3F+39Jgu4zz//PP9M1Xqsk/9EJV7Gah2y+VeHpr7+1dffdV1797dvfHGG0Xuq9vyX04773QpapKG4CcB4coOwpUNhCs7CFfx03D2YcOGMZy9BISrFFOR1e4qrdzh7ApXOmF54okn3MyZM4Oj2UO4soFwZUdWw9XW0L++zZkzx8+D0nD0qOHzJR176aWXXIsWLVytWrX8LtzcIe76ff5g980dUwzSDqowhOnXcOWHqKSs3CCm90MrfN9y37/8Y/pVO9800+ukk04qcjz8fe7H6qijjvK7vZ577rlSh+BX9LHevXv7Qa5bMyy/MhGu7CBc2UC4soNwFT99XU2ZMsWf2zOcvTjCVYrp8kCd1GvlXgahcFW9enX35JNPEq6QeoQrOwhXFUsxQz94vvbaa35XkC6b06+5O4bKc+y2225zF1xwgR/yrqHz2tlVo0YNH28UtXQsd+dTSce0dJmhjuvXqGdsTMoqT5jT+6H3qSKG4Jf1mJ404I477vD/Oqun0Nbg+5EjR/ode+GvuWtzxyZOnOimT5/uvw51iWXu/cqyU1A/f+h7czhon3BlB+HKBsKVHYSr+On7pjaj6NwndwxQZSJcJVyWhrNrS6FW7r+0jh071u21117uqaeeim2b4W+BcGUD4coOwlWy6R9I9LX4wAMPuKuvvtr/44gukcsdWq9ZU5ovFc6aijqm35911lnukksucXXq1PG7lRS4NPQ9dyZW+PstOaalOVxJ3g1WESvcUaYZYYqIRx99tDv22GP9vDDNSdOuMf1eK5ydVtIxzVe76KKLXMuWLf1OvVNOOcUf08q9b2nH9EQE4aB9/WuxdoMNGTKkyMy33N9X5jGdYK9cudIv/Vlvj27X9xKddHNJZ8UiXNlAuLKDcBU/fV/S15bO7eOazUm4SrishCsNbdPQX63cKqtwteeee7qnn37azZ49OziaPYQrGwhXdhCukk0/UOkZ+jSMXiFAQUDD6fOH1uf/Pv+YAoJ2CGlnj36vsKHdXAolYUBRFNFw+tyoUp5j+lWzHrdmxpdeTvFr2wQNxi9p6W3MHXgfrvJGPw3K17NfaudY7v1y71PaMX28FdH096EoqR16ilmKllszaH9Ljl1//fWuY8eOrkOHDj60nnzyyT6W6hJafR7qH/9QcQhXNhCu7CBcxU/flxYtWuTP7XPnV1cmwlXCZWk4+5dffulX7ie3Pvn0r9eEK2QB4coOwpUNOuH5+uuvfQBTDNM/wihi6dK03EvPynJpWknHtAYMGODuuecev7tLl9VpYH14mV14qV1Jx/SroouCh3Yh5R7X/cKX06+aKangk4bAFccKd4GFzzq5yy67+MtDcy8ZDX9fmcf23ntv/3elvyf9TKTIpiinnWn6e9WTHmgWXJcuXfwP17o0tqTh+0k6pl2OCr9JeyIAwpUNhCs7CFfx006roUOH+nP7uMb9EK4SLkvD2fXDv1bucHZ98umHNv1QluWwQ7iygXBlB+HKhtxwVVl0Qq9/uZw6dar75JNP/DDz8gy2168aiK8fIBUJSruvdvC0atXK7xjb3BD3ijym7/OKMRV9OaReX0W/zqQt7QxT1Kpdu7bfnaePafgxLsvH/rc8pktr69ev7wPW66+/7p8M4K233vInB1r6fNUzXH744Yfu+eef90u36/M1/PzVr1999ZX//O7Tp0/h53J4e/7XQlmOPfTQQ65z585b9LLlOda3b18futkx99sgXNlBuIqfvq70DNT6GUkzIuNAuEq4rIQrVVkFK63cb+D65NO/Kj7zzDOEK6Qe4coOwpUNcYSrOOn773fffecDgnbGbO0Q/LIe0+WV9erVcwcffHCRnUbh2pJjCiTaRaaoo0v+cu+TP2g//5h2VmmnVdajVxLWdttt53ez/fnPf3YHHnhg4RMCaF144YX+0kk9G2b496TPEe0WDHcM6teLL77YX16pSznDHYW5g//DHYW5OxJLO7b//vv7/8/m7rc1x/R2nX/++f7zv3///v7JCLQmTJjgpk2b5meqaaflwIED/bNy6fuJ4nXUjswtefKCJB3TY2j4RAr6GOh91u5T/VnH9UQJuS+7NTtYw2MKVvoYT5o0yZ+DINsIV/HTP7qtXbvWn9sznL04wlWK6YdlfePQyt0ursst9AON5jroadSzinBlA+HKDsKVDVkLV78VXSqmE8iHH37YhwoNwtevmu8UznsqzzH9WYPZtZNH//DVsGFDf7uOh68/f65U7rG6deu6Y445ptigfc3eCn+fOxOrMo9paVdVGG7052233ZaoloGlv0N9fulSUO0+01LAbd68uf881IxXPUHReeed52699VbXrFmzwicS0K/h78O5eGk8pl2CupRZX686n9HHQO+zYqX+rOO6RFr3C+f+ha9ra47p4/vEE0/4y5g0g0ez4ipqRc1DDH/VHEXNU1yxYkWR2/NfLivHtJYuXerfZy3tctMxzT7SXEgtfUw0Z1LfR6NeviKOaf6knml2c/fbkmNa4ZzMZcuWlfnl9HHReBydAyfpUumKovdJPyPp3J7h7MURrlJMc0F0oqeVW2UVrvQvnxpKSrhC2hGu7CBc2UC4qhj6AVc/aOpkrqw/9Jd2TEsnEDqRCJ+JL/8+pb0uXdagnRm5g/b1LIfaMaMB+uEJcHgyXJnHtHTirks49faEu48UPDRwPwwgaRm+zyq6wr+7MFpqxpx+7v3973/v/z51m8JlOGMtN2zm/j7Nx/Q+K8rqfdSf9T7rNl1xoc91vf/hy+a+3NYc09w6zfTT17Vm/2nXnp7wIFyXXnqpv4xVv4ZLYVu/XnbZZf73+lXRW7/Xr+HvFcn1+zCM5x5r06aND+qKZorl4XGtML7rZbJyTOvGG2/077OWnmhCx/Qx15NMaGl+o87ztAs3fHn9Gr68XtfWHjvnnHP8P0hsyctu7pj+YUQjbfT+3XHHHf423Uf3De8Tdeymm27yu5vzrzbKCr1P+l6qn4fjOu8hXCVcloazawaHVu5wdoUrffPWg4Huk1WEKxsIV3YQrmwgXGWTQpoer8NB+7q0KJwvVhGXKZX3mC6V0tsSvj2a6aQfoHXiq50ruuQsavh+7mVzSTumZ8rc3BMBKOqUZWeZ7sMuNFZ5lz5nFLEUzLQUyqKWolr+r+EKd0Lm/j731/zfa76bvhZ0Kap2dIbHw5V73605Fv4+CceqV6/u32eFf+0u1DF9vBURtXRprm4/4IADyvw6y3tM0Vd/d5u735Yc06Xo4eOb/n7z75v7+9xjCqd6/G7SpIm7/fbbfdTUuvvuu/2vbdu2LVw6Fv4aLgU/HdOv4VJcCX8Nf69L8vV7/Rr+Xpfrh79q6Xh4+b5+Lc+xp556ynXv3t0v/V7Hwts0K1CzM/X9SpcBV/YTcRCuEi4r4UpbR7WFUyt3OLt+eNMPNs899xzhCqlHuLKDcGUD4coO/cux5qQkgX7w1+40Xf6ikwUN+S7L8P3f+lj4e/368ssv+11kp556auHg9twh7vpVA+fPPPNMf0KoHTJaCl5R99OuNJ0E6s86Ec4dAq/f5x7TKu2YLlXT/2dz99uaYzqJ1qWnUbGtpGNZDnMlvW/bsouQlZK1JV+f+vzWjkLFLwU+LQWt3F/zj4VLj1Hhr/m/1+NM/u/1a7jCx0X9Gq7w8am8xxTtzjjjDL/0+9z76fFdj+GaP6heoXi1bt264DtZxSNcJVxWwpV++NcnslbudkmFK22HV7iaN29ecDR7CFc2EK7sIFzZQLiyI0nhKgv0s56eCEAhS/96nzu4X7/XMZ0kKMxpTpkuq9ElR9pBEHW/Hj16uBdffLHIcf2rf7g7oDzHNEtKl/xsycuW9ViLFi18bNMuE+2+CHffKGppZ4oG1evnXy2dkOqYBtbn7tgIV9qP6aRacVInvQp6ep91Iq/3uUaNGoW7dMKX29yTK2zumP5BXE8KEBUS4lhZj5Alray/zxb/Tje3tKNOX8/6VY9fd911V6X+vES4KoG+4WpSvnYKacCcZink7hTKpfuGMxY0P0H/SpY7pEwznXS7Xo+WLpXTD8NlkZVwpY9H1HB2bZHXNt5OnToRrpB6hCs7CFc2EK7sIFzZoWec08/3lUk/9+qST4Uszb/RZZ/6NZyB9MADD/j5alq33HKLnwH02GOPFc7KyZ+bk+Zjinh6n/U+ar6U3udrrrnG/zmci5T78uHHSn/ekmPaAaJnr9TlY7lPuJA7A6uyjmnXYBjSdKy0+2blmEKh3l9Fw3BemT7ummWmFX5Mwhln5X39ZTmm/19Z7rclxxRmwiiq96W0+4a/6u3Z1sBuQgViLb2verIJzY2rzMdWwlUJFJcGDx7sH0jPPfdc/2wfms+UTxFGg8cfffRR/6Cpp/bVvwYpYIXxSk97qyF9GhynZw555ZVXynxZXFbClT6eGr6utX79+uDopnD1/PPP+xPBrCJc2UC4soNwZQPhyg7ClR1xhCudH+gfvPXYkfvkAOGzzul4+KxrevYx/QN37pMX5D6ZQNqPhc86p/dRx/U+67j+nPtMdLkvt7nXWdqx+fPnu/fee8+fl2mXl54AQU+GoCdHCH8fPkFCeY/pctWSjunPime6RPbmm2/2x3S7jmvpz7pvRRwL37YkHNO5rd5nrfAZIo888kh/Sa5202k+n549slGjRoUvr191P70Ova6tPabde3rGyop6fbnHFFrVAfT+aXi/jus+uq9u1591/9xjmvWn2KVwFxV80rYUpvS+5O460zHtIFUkVrTS7smHHnrIf11XFsJVCb799lv/LALa4qxgpX8V0IA07ZjK3U2lvxzNHmjdurW/b8+ePd3TTz/tL31TrNHt3bp185/w/fv3d7169fID1/SAWpbhZVkIV9pxph/89a8q2g6uIXUKgo0bN/aDRvVFoKinj5tmYOV+fLOCcGUD4coOwpUNhCs7CFd2xBGu8NvR+ZX+fjUXTieimruT+2QIWlv6RAqbO6bPLT3Jgs4jdSz3vvr9yJEjM3ds/PjxhU8uoSea0DF9zAcOHOjXlClT/G3ffPNN4cuHrytcW3tMM/Y++uijIsdy77Olx/R7PWGGft7T+zBp0qTC4/oYhPfLP6b5hG+88YYPmQo6ulRWcS0c8q6wpT+n4VitWrV8fNTS78Pjup/O5xUk1Uy0iUeXh+u8v7IQriKsWbPGDRgwwO+0UnDQDiH9Wdt7NRhTlxCGFCMUorp06eJmzpzpf7j9+OOP/TPAqPpPnjzZRyxFGf0ArN1ZqpHagaXLDzcnC+FKHzNtE9ZwTT0tqraRKlZpp5V+r2qr7aOq1ZoPoAf9rCFc2UC4soNwZQPhyg7ClR2EKxv0d6y/az2OI9v02J2kK3cUT7XTcNCgQf7JKkp6Qos0HPvggw98BNbS78PjWp999pnf4KNOMnXqVD8+qSwbc7YU4SqCfnjREMimTZv6Lb2iSqzL2Tp06FDkpFRfKPXq1XPDhw/32131lzV27FhfInU5YJ8+ffzL6NeQLhVUuNLrzKdIpllPeh0qtrre/brrrvM/NKd16dp9XWceXgNc0nA7bUE89thjfeSLej1pXvrXBn1BR93Gys7S9nf9K5O+eUbdzsrOUrTSv7xF3cbKztIPnvpXVF3mHnU7KztrxowZhZGSle2ln7FnzZoVeRsrO0t/x/q71uN41O2s7Cw9duvnsqjbWJWz1EjC+d2KxFH3qeil8yudZ+my4Kjbt2bdeeed6QxX2hmjN1zvgK43F+2Yef311/38qtxrN3Xiop1E2lkV7sSaMGGC3z2kbaKqke3bt/dbBkO6TPCpp57yPwzn0y4sPcOKLqO77LLL/OuuW7eu/4JM69L7ocFtGlSnFRWtwqWnAtX7HvV60rxUqYcNGxZ5Gys7S/8KoEuCta046nZWdpb+sUKP61G3sbKzdNmD/iVR36+jbmdlZ+mHYc02jbqNla2ly5f0j8NRt7Gys/R3rL9rPY5H3c7KztJjt34ui7qNVTlLl4jqfEc/HykQR92nopf+fzrPqoz/n+bSpTJczZ49u8RwpUvZ8sOVhrZFhSuV35LClXYVRYUrzXfSpYr61wFdaqjrY/UUwdoSl9Z1++23u/32288/TaaWdl1FRSvFLV1KqB1pUa8nzUufC/rX3KjbWNlZerzQ17W+fqNuZ2Vn6fuEdtxG3cbKztLlv/oBSf+6F3U7KztLu+R1WVHUbaxsLf2cvmDBgsjbWNlZ+jvW37Uex6NuZ2Vn6bFbP5dF3caqnKUnn1Af0TluXD8jhbvgdfVb1O1bszT6iUsFS7lUsCyzFLIw40qXyeljoAFuenpczbPSMxFovpWebULD3TQM7oILLnCdO3cu8zMupgkzrmxgxpUdzLiygRlXdjDjyg5mXNnAjCs79NidpBlXFvzrX//yG3M+//xzf54bB2ZcRcgdzq6B65sbzq5nG8wfzq6nBmU4ewG93/rYfPrpp+6TTz7xz9D45JNP+pj10ksvFQ6B07Mz6n4a7JY1hCsbCFd2EK5sIFzZQbiyg3BlA+HKDsJV/PR1NW3aNP81ph1XcSBcRdCuKf1FXHvttT6oaFq+YosClbadKq5oCLMCly4N0kT91q1b+3e2Z8+ePlI9++yzbvXq1f6ywq5du/pn1dM1mb169fKvR7GmLFP3sxCuRJdA6ukxtbIYpjaHcGUD4coOwpUNhCs7CFd2EK5sIFzZQbiKnzqGdl3p3F7n+XEgXJVAHxgN9Pv/27vTYLmqqo3jH/0oDh+wsJxKKZVRBTSAgRAMqExxwAGUAKIkYMAYhmgUwhwJMYEwiDKJOJOAqCQIyqCiSJREE5FBhcJAAgpoAGMR9lu/7T2p9nLVt8ri3E6f5191ir59TjcFa6+113r22rv322+/sssuu1ThSUeQ7iuik+4hv1bBaASqmTNnln333bdMmDCh/oc7Yb8xol+T8+uAY8eOrZ1Y8+bNq79Q9P8hwtVgEOGqG0S46g4RrrpBhKvuEOGqO0S46gYRrrpDhKv2iXD1n2lVuCKu2BJoux8RyrY+h5Axku1+XjNW86zOKs82P8/Ya0AGdb/5yUhCV/PZ/8agCFfO/9Kp5nouBlu/E+GqG0S46g4RrrpBhKvuEOGqO0S46gYRrrpDhKv2oXU4l1pt31aOFOGqzxkU4UqHmY41F+Gua0S46gYRrrpDhKtuEOGqO0S46g4RrrpBhKvuEOGqfTThLFmypNb26tw2iHDV5wyKcOXnKx1U7+o93L4rRLjqBhGuukOEq24Q4ao7RLjqDhGuukGEq+4Q4ap9+NXy5ctrbZ/D2Z9NhKuNGNspDXDX/+dQ+kEjwlU3iHDVHSJcdYMIV90hwlV3iHDVDSJcdYcIV+2jnm9q+7bOr45w1ecMknBlL6wrwlUYVCJcdYcIV90gwlV3iHDVHSJcdYMIV90hwlX7qOeb2j7C1bOJcLUR43D6lStX1uu5GGz9ToSrbhDhqjtEuOoGEa66Q4Sr7hDhqhtEuOoOEa7ah2CltlXbr1mzZujd55YIV33OoAhXBvbChQvr1cWiPsJVN4hw1R0iXHWDCFfdIcJVd4hw1Q0iXHWHCFfts27durJ48eJa2xOv2iDCVZ8zKMLV6tWry9KlS+uVw9nDoBLhqjtEuOoGEa66Q4Sr7hDhqhtEuOoOEa7ah1/Jg9X2q1atGnr3uSXCVZ8zKMJV7z7YnHEVBpUIV90hwlU3iHDVHSJcdYcIV90gwlV3iHDVPur55gzrnHH1bCJcbcTkcPYIV10gwlV3iHDVDSJcdYcIV90hwlU3iHDVHSJctU8OZ//PRLjaiHnkkUfKihUr6vVcDLZ+J8JVN4hw1R0iXHWDCFfdIcJVd4hw1Q0iXHWHCFftQ7C66667am2fw9mfTYSrjRiiTQ5nj3A16ES46g4RrrpBhKvuEOGqO0S46gYRrrpDhKv2yeHs/5lOCleXXHJJGTduXP0fuTFfp5xySpk8eXK95s2bN+Izg3ydcMIJZdasWSPeyzU41/z588u0adPK3LlzR7yfa3AuMW3mzJkj3ss1ONd5551Xpk+fXubMmTPi/VyDc51++ullxowZI97LNVjXcccdV2bPnj3ivVyDc7ExW4vjI93PNTiX2C0vG+lerufm4ldHHXVUre3bqnHVV+qsBQsWjHj/f7n23HPPcvbZZw8pMP87nRSulixZUg499NCqAubaeK/x48dXhxjpXq7BuQ477LCyxRZblEmTJo14P9fgXHvttVcZO3bsiPdyDc41derUss0225QDDjhgxPu5BueaOHFiGTNmzIj3cg3Wtd1225X9999/xHu5BudiY7YWx0e6n2twLrFbXjbSvVyDc6mv1FlTpkwZ8f7/cqnhFi1aNKTA/O90UrgKg8GJJ55YzjrrrKG/wqDyu9/9ruy6667l9ttvH3onDCpWZ0x0YbCx/XfvvfcuN95449A7YVAZlKMZwn/ngx/8YLnmmmuG/gqDChuztTgeBhuxW14WBhv1lTpr1apVQ+/0LxGuwkZLhKtuEOGqO0S46gYRrrpDhKvuEOGqG0S46g4RrrpBhKsQWiDCVTeIcNUdIlx1gwhX3SHCVXeIcNUNIlx1hwhX3SDCVQgtcOmll5ZvfOMbQ3+FQcWvUh199NFVwAqDjYTYwZRhsHnyySfLpz71qXLHHXcMvRMGlRtuuCELTB3h5JNPLj/96U+H/gqDChuztTgeBhuxO2L04KO+Umc98sgjQ+/0LxGuwkbLb37zm3LnnXcO/RUGlb/+9a/lhz/8YfnLX/4y9E4YVO655578dH4H8DPqN998c1mzZs3QO2FQue++++pP54fB59Zbby1/+tOfhv4Kgwobs7U4HgYbsVteFgYb9ZU666mnnhp6p3+JcBVCCCGEEEIIIYQQ+pIIVyGEEEIIIYQQQgihL4lwFUYVhzv+4Ac/KDNmzChHHnlk+fjHP14PAlyxYkVZv359vX/uueeWT3ziE/XQZq/Xrl1b79kmeNFFF5WjjjqqXscee2xZvHhx+fOf/zz07f/kmWeeKT//+c/LMcccU0455ZTy0EMPDd0JbfH000/XvdMXXHBBtSNbO+PG3nnvr1u3rvzsZz8rn/70p8vkyZPreLjpppvK3//+92rvn/zkJ9V27Dxt2rRy5pln1j3ZTVvr/fffX6644oo6TqZOnVpOOOGE8v3vfz+t7KMAe/E39uXPrnnz5tWWc77o/pe+9KUyffr0uqd+7ty51Wf59AMPPFCuvPLKamf3jBV2dc4ZW9p2NH/+/DoG2Nm/Q3vz448/PvRvD23BltrLL7nkkmpLPs3/vvnNb9YYy6dt+/zsZz9b7x1//PFlyZIl1WfFA+db8WN29jk+f9ttt2048NfnjQdnbLC375gzZ055+OGH61gJ7cFm7CU+8zs+zRbNeUZPPPFE+da3vlXnWPdPO+20up2oN/6ymTh96qmn1lhuq3/Db3/72zrvi/0+v3DhwvLggw8O3Q1t8uijj9YD9dmyycn83cTge++9t86v3j/uuOOq3YefdWR7v/n7Xe96V7nqqquetSXYvM7ePi/eh/ZhA37nrCoxmK1PP/30ajd2ZtPvfOc71UZsLY57/h//+MfQN/wTMdoc/pnPfKYsW7asxnaI5WK3z/ruz3/+8+XXv/51vRfaRX703e9+t9qy8ekvf/nLNYdmL7FazBZ7zeWXX355jen4/e9/X84///xy8MEH13Hi+uIXv1jjtznafWPIHO67vXauYXLv9mEPtvzc5z73L/ZQF/Nn87gcTK41ZcqUMnPmzJqj8Wl5uQPazcEudhbnzcXNWPDcXXfdVeOEHP2II46o48i83iYRrsKoIkm6/vrry+zZs8uCBQtqgSt4XnjhheWPf/xjufrqq2sgnTVrVnUir02mArFJ8itf+Ur9jAOdTayeue6664a+/Z/cfffdVfCaMGFCeec731kDbWgXAU+Cc/HFF9ck5+yzz64FzAEHHFDPSpDksBHbuyfoEigEVUkwmxK9zjnnnFrsEiwEZGNEAiYwH3LIITVRMo4Uuu4TQJtEKrTDY489Vm3Kp9mLfyqCzjjjjFr8fO9736sTp0lTAWuCNDkSMFevXl1+9KMfVX+WLPmM5y677LI6hiTORC9JsPHh84ceemhZvnx5EqWWIVwRqMRgfsdv+aYEl5j4y1/+ssZxSRCRQ+z2TwJms/DgxzXYmS1POumkmlg3goYCmZ29L2Z4hohpnES4ahdJ7dKlS6s/sjNbECLNtwQmyTA78WtJrYSWbfl7g8SZ777jHe8okyZN2vCLko2IIWaLGT5vzIgD8en2ITIRn/m0+M33DjvssBq3zaeKWr80pjiyWGieJXb0Ijfj75tvvnkdL+bpXtjWd/hlUfYO7aMYJSSxM392EabZVCHKP9nG32zNJy1S9ObP5gDxf7/99ivvf//76yK0edoYavI5Y8hlnlbkWngI7eL/uYVc8zNbmFcPP/zw6svEq69//es1ZrO3fEstpS4Tf+XgxsA+++xT52qX7+LThBCfN4bkecaQzxLGjCFCSmgP9vjDH/6wIe9u7PGRj3yk2umWW26pOZj6yhhgcyKke2pxdt1ll12qvdmZv/74xz+uczTEC8+b532/2O4zars2iXAVRhWTp8S3GfgcRODkOMSID33oQ1WwMFkqdLz2ns6L5nPNap/iVTA2yTb4PquFCiIFcoSr0YF4pDuD3Qgb/mavN77xjdU+kmOFkCAIk6YVPIUvG1L5deVIikzCVnnf/OY31yLY9wmme+yxR/0pV99NIFMIGUM+E9qDPxKg2JrAIHkhJkpcFSwmURMr+ytsFbNER6KURKnXXuwumTbBsiufZ2NdOZ4jcmy55Zbl2muvrcV1aA9FC9+ToPJttlawiLE6YRUuOub4Ktsobi1ASHjArxtR2fdIkN761rdW3zdmiNV8uumoMzZ8Jslw+/j/zraS4sZHickf+MAHatcV/zTvErf4vnuECYkyxAT+bjy8973vrbFeYWzM+E7vE634NTHUT+2LC74rtIuFInkVgZiPK4be97731Zit0LVST0BW6FigYHc5WwP78Xljg6DRLEKCvfm6OKAbgLAR4Wp0EEflUvJhNubTut/23Xff6reKU104bMzWbKrLgkjdfN7igvmZT/PhRrgyL8vh2bmJF3JzwncO+m4fcVXexDcbn5aPnXjiiVWkFqvFbPFWnCZqyJ/VZ4Srpkt2OOwqThhDnmVr40OTgDHE10N7sIc6yZzaa4+dd9655lPszSflWJ7VDWuBwcIxH1cvmXv5/HDkauL/xz72sZrHG0PiudzA6zaJcBX6CkGViEElFkhf85rX1ADIMTii4sZ7itzhcFgJNMdsUDz72yRqVSHCVf8ggWEPdpbUSGJNglAI66oiOA7HWDAmCBYCrKJWoazIlTApsCTZPquTS/AOo0ezKivplfxus802G4Qmk54tSG94wxvq9sLmeUmxZMt77CiJGo7niCY77bRT7cw0ZsLoouglQipWrep5zR8lOBKjppumQTJE1BCnbRseP358TYok0MbMnnvuWeO1sSD+R7TqD/iepFfctgXlLW95S+3GYH8JsdhOhJQQg32t9lt4agpawpVnLVbo3FJAwXhQKMkDbF0Iowvf1UFhTmUXHXMKYPOquZfddWPAuGBPK/0E6oMOOqjOzY1wJebL4YgcRAyr/xGu+gO2IzzpmDU/y83YvFk0EMf333//cumll9bnjQEdFzoz5GrEy0a4kp+bt4lfnrPg1CxYeR1GF7a2eNDEWbFazGY7PipP23XXXWs8J1wRrSwkm4fdNx58x3C8ZyGD+GEMpbtudGns8e53v7vO1wRm8Vau7B77yNH4cSNcWaSw1ZOtzcXiP9jd4pIY4HWTkxkzbRPhKvQVChYrcVZx/Fz6C1/4wlrYcjKXFvQXvehFI+6VF2wVS1ThBtsXdONwRIlxhKv+QMBTuLz61a+uKwLsZiW3CZL+KekxFoajrVXC++EPf7isXLmyjgvbknzHVlttVYURIpYuH8JIGF0kvBIfEyRffsUrXlF9m91gdehVr3pVLWggBvBVBRJbKppG+jl9CbVEebvttqtnoDXdO2F0ICjrirW69+1vf7suPtgK3OvTilUdsw2SYs/tuOOOVbwkYit0dNopcsRrBY/Ei0hCzGq+L4weEl/ChERY14W4qwun8Wn3t9122/K1r31tQ6xnQ/6vE68RrsRnNlVASZphHCmGJcmeCaOHokRXLAGZYEGQHjt27IZYy97srsiFhSexXnFkEWm4cGWsTJw4sc75jnyIcNU/6I7R5fj2t7+95shsbst+49PiLoGS+MxHLQryaYWxDvde4cplq/B73vOeusC4xRZb1O3BFiUyT48u/v87B4lt+J4YLVY3C3/sbTHCfCzHMkfLwV772tfW+Vjezc7DzxKG5zUIyAGMoSw0jS6NPdhXJx3Ric17c7IDDzywzrWEK9vBt95665qPGR9yM4ImodLik23hFhfVWjozLUJaqGi7zopwFfoCwdJkyDGaLWMC5vOf//zqcA0Eq0022eRfhCuf87fCmFghOaIUK3at7gqygmiEq/5AECRcmAy1rgqMVud6OzFAuCJm9aLd2QqvyVPrq2TL5Oi1wlZyvWjRoro6JJGyYp9EaXTg0yY0xYkzriRIfO9lL3vZhi1E0DX18pe/fINw5TMmSUmuApaIrWDqhc8raq0OWy2SiIXRg0+Lt/xVsuMsHGKElddeCFfErAbJssUIW1QkT7Zzi/cEaeKGgodPK3Sdo6GtvWlTD6MD/1So6poRi4kVjXDVIGGWANsG7kc32N2CkmctJPUKV8RKW5LEcHiPvxsPbB1GB/Omudm8bC61DZQNFaW9sLGODTirTDy2LVgM7xWuCGCKKN2z5gH2j3DVH8ihzM9sY87VTWHhiHDVy1577VXvE6DZjS/Lyfh+r3BF1PBZeZ1FDJdz0oyPzNWjB6HC/3/Cg7zKNnzd6uJ377a+RsAQxy0kiuGEZvMwu4oJw39Ugd119ZjDLWoYQ43oGdqn1x7mX3Ov7dvD4618zH3zrkVkoiU7E57lcLaR6sxSV/su3dXu2W7ovu/zfJtEuAqjjuDGMSQ4tvoRmKy6K34222yzDdu9OKLiyHvuwWquQodDKZg86zlOKsD6VRsJts4rSdTrX//6uuIrqQrtw9a29ylUiIoKVDa0VUR3ldcgPGo/N8E2KHIlSJIhyZMVAhOxhFgB5VnjyFgxyRoPxpSAHNpH0qPQsUVQgstOrte97nW1A1KyrDjSpeO95hfKehEHFLC+oxEr+DfhU/FL5FZcxcajB59W1DrrxvkHklxJK6GJwKyt3DPsJ8lxtsZw+LtYYJVf542tJoraN73pTfV9Y6U5986Ws5ydMTqwoaRVDLZIZB7l55JZB7nyQz6tmN1hhx3qXO55XRzEa2PEVgR2Fp915ei4Mj+L2c2/wxkr7D9STAjPPfzVYiARqjlIn8+xpxV3/m3uZW92d6YN5Fh8nm3N6dtvv309tFs3vK3A8jRdOrqyHA1g1d7KPsHDd4b2YUdCBSGDzxEVvccuTde6v8Vx3XK6siwsv+1tb9tQFOuiNQbEBaKWWO19ArfY7WLz5sys0D58mjCh/tHFTGyQL5tvxWqCltjNVgQPMV1sl295T17tImA4u85Y8T6MDz7M74kZcjLvhdFhuD3sUmFHzR1yMPkW1FtitlzN+Gh81WviM8HZrgc/cGaB2RzOz83vxoox5N/Re650G0S4CqOO4lRSI6Gxus5BwFn8woEOGgHWc157zz2OaIuYPdq2LBCtGockcjRFsyCtHVLCpduDINIIX6FdFKQCJ9GqdxuIbUEExqaTTrEqkfJsU/QqbHRcKFxtP/M+2FKhQ7iyJ9/7VuolSlZ+GsEjtAf/M3FazdE9QZyC8y10PVqldwCw5yROClkdlny6V4SSLBsDOquaYkkXncnYWEhH3ehjW58YzP8UNE0MJibrwGIjyZDn+CS/huca20mIiZpjxoypSbMkWgeAJIk4wu4KHsWQLk2idWgXsZVgLPll7yZW80tiVLMg5DmxXXHjnBNFrFVbHRcuW80Ikl4TOcVq3bXEbf5PIFEQK5qNmdA+xAsLf2ykI0MBC/a0au/sQUWPIpbdGzFax3xja92WflVQvmahSY5HuJCPuW/bmeJ43LhxVfwyF4R2YUOLDmK32GoObpA7EyfY2HPiON8nQhKU2bmx9W677Va3lhGw+L4uSsJls33YRQQ1b+vyCe0j32IPQgUbWtyH7nexmt3Ebs8RHMV0sV1MbuZp87D4rFYzXszh8jVjyCKiBQh1WBg92Ip4PJI95F5yMPVV85wcTa7GR9myqavUTXJ4W33VbewuHsjpm8VIOZmY79/TJhGuwqgiEEpoOINuK8qw4CkgKmS0H3MKCa72c6+tuiuAm24MiZHk2N8CbW/h2+D5bBUcXRSnik5JromRnV2KWu2pEh3nJ3hPIPWsw33Z0wqOyVWBY2sRO7sEX0Knw2B110myFLU+T9iwYtCsCoV24NP8VeFiUmQvNpX8EqBNnLqlbA2SKDc+bTXQff9UKPmMidUqj9Z03+s7dOYpfvhzM4YkV82EG9qDTxOSFTQK3cYefLZZ8bMaJxkmVvJp/2RLiw+2IXjefeOBcOVzbEnQUBBJvCTZOncUU4oivh/ag710NhMt+GJT5PBHtpDQsq04LimWzLJ9byHc0LtVkJ19j0ULsV0s93nztE6sRgQN7WFOJUbptCI09Pq0jnexmn3NtbYLsaXnhzN8q+BwFMzGjYWJ0D58T14ldhOgiJLsrCg1n+qs4tNszNbiuBxtpC7I4VsFCdx82vghSOreELv93Xv0R2gHPm3+1A3JThZ+2Zo4YQGi8Wmx1zzMp3XhuO/Z5nnzsCMdiM4Wm80Lum+MIQKmxoLeMZScrF38/5Y7y5F77WGOZg9zKp9WH8m11U18mpgsvqu51U8+oxa36KxrVn4GzSCOZJGX82u5mPEkxrdJhKswqihStRe/+MUvru2qVthtKxBIHbhswrT9ZPfdd6+tyV4TnogRzkvw7Etf+tJa4OjasAdfYjycCFejiwJE0ut8DAeyOxOD7VyCn0Cow8LfDnplS+KW4Kr7QnB03o1998aB8xf23nvvOumalCn/RJJmnFgRan4pI5Nnuyg+dcC94AUvqJ0V7MGutoYoViTLOiq8rwtSMqVrTpJkJd+qUBMH+KtYQAhTJBO5TaTGkHHSjCHdeJKr0B78jijJV1/5yldW327sIeHRDat7iq/qqvCcApdYJX7rrrVC74cUPGMbis4LiTAkSxIlgrTxwKcl1xImCXNoD4tC5lVnTuqsMN+ys/nYgpLOKAI0O/Fp24x0aIwkMPYKVxCfdV2K3+YF3y2Zto0wsbt9xGL2051OSG58WqFKRCZKiMvsxHfZfaRziyJc9TdECDnXpptuWnMrMZqd2YyIRcSwKMHGbC1GEzWa7rtehgtX5mp5ncOgxQN5GXHD1qIsJLaPjneNAS95yUtql6O5mK0tIsqt5OZ8nq3kZRYRiBjmWV3UOvKanMw40EHpO+XXcjJjyHEPTU5me3B+VbB92MOCn/y41x5yK7mYOVUnM/vzd7b0vs+pkTUOaBDg8z6nycA24mYBSe0sb/N5l++V6/lsm0S4CqMKZd4KjMKT6ttcCiITq0lQAcQZXV43Sr7ESPIjQDaf84zCeDjUZMkVgcOkGtpFkWvVjX0UKb22Fgwp/ApW9pT8SI4JID4naBoj3pc4NXZW+DRn3finZ9xzfpJVQaJoCp/24V8KWT7NFo2dFbISGb7IVuznfUkT0YqtjBG+33xOUaxNuemu48PuDR9DRA7fG9qDvSQ8w2OwSzeVAodIZYVWRyyf5pPsKCH2mp96nj97TgIkvkOB42/f7xnPGlfx6fbhn+K0bWNs2diZ0MzG7itk+DT/VAzx2ZEERiKGZ5utKvDa4oUY7/PsLDcI7WMulScpWBs7u6zA83f3+So7ic9sqfNyOOZtW4jkaSN1zon14kS2g44O5ku20SXZ5FUucVYuZh6XS7MxW7M5m43k00QOQlfvEQ7mZHFAvPB5Y6HX50N7mIvVTmzd69MWfi0EidVsxU5iOPG68Wljge3cM08bD3JzPm2ulpM1B3o332us+FxysnZhD/OxfKzXHmzGR82p8i65GL+UW3meT5vDG3/3GeNAzi7mNz7Pnvy6yd01l4ghcro2iXAVQgghhBBCCCGEEPqSCFchhBBCCCGEEEIIoS+JcBVCCCGEEEIIIYQQ+pIIVyGEEEIIIYQQQgihL4lwFUIIIYQQQgghhBD6kghXIYQQQgghhBBCCKEviXAVQgghhNASjz32WP3Z6dtuu6384he/qNeyZcvqT4s3P0P+3/DT1M1PmYcQQgghDDoRrkIIIYQQWuLGG28sz3ve88r2229fxowZU6999tmnzJs3rzz00EPl6aefHnpyZNavX1/uv//+cs0111TxK4QQQghh0IlwFUIIIYTQEjfffHPZdNNNq+iky+ree+8tV199dZk4cWI57bTTyj333DP05MgQtnRpzZgxo1x22WVD74YQQgghDC4RrkIIIYQQWoJwtdlmm5X77ruv/k2IWrVqVfnqV79axo8fXzuynnjiibJ06dIqTn3yk58s06ZNKxdffHHttHryySfLscceW3bYYYey++67l1mzZpVrr722rF27ttxwww3lrLPOqp+ZPn16WbRoURXHQgghhBA2ZiJchRBCCCG0xHDhCs628vdWW21VrrzyynoO1sqVK8uFF15YvvCFL5Q5c+aUk046qVx00UXlqaeeqn9PmDChHHjggeXyyy8vt956a+3gOvfcc8vs2bPLBRdcULceHnnkkeX666+vYlcIIYQQwsZKhKsQQgghhJYYSbjC448/XrbeeutyxRVX1IPXH3744XLHHXfUbYGLFy8uxxxzTDnooIOqyEWoOvroo6uwBYe1n3/++fWZ8847r4pYuq922223+r6zs0IIIYQQNlYiXIUQQgghtMS/E64effTR2nFly+CaNWuqOKWjauzYsWWnnXYqm2++edljjz1GFK5sLZw8eXLZcccd66HvO++8c7223XbbcsYZZ5S77767PhdCCCGEsDES4SqEEEIIoSVGEq50TK1YsaJsueWW9dcCb7/99npQ+/HHH1/fd7aVs6ycgfXvhKvDDz+8biH0/c61cj3wwAN126HPhBBCCCFsrES4CiGEEEJoieHC1bp168ry5cvrgeqTJk2qotUtt9xSD2YnRBGeli1bVqZMmVLGjRtXD3P/1a9+Vc+vcqYVCF/nnHNOPbTdGVnr168vzzzzTFm9enXdghjhKoQQQggbMxGuQgghhBBa4qabbiqbbLJJOfXUU+t5VPPnzy8nn3xymTp1au22crbVnXfeWYWogw8+uCxYsKAetD5x4sT6K4IEqQcffLAKXR/96Ec3HM7uLCzfSfDyGaLW3LlzqxBG2AohhBBC2FiJcBVCCCGE0BIOXCdAOWidMOWaPn16WbhwYfnb3/5Wn/FPXVeHHHJIPbvqzDPPrN1ULui68guDRxxxRD2Q/aqrripr164t1113Xf31weZ7iWG+R1dXCCGEEMLGSoSrEEIIIYQQQgghhNCXRLgKIYQQQgghhBBCCH1JhKsQQgghhBBCCCGE0JdEuAohhBBCCCGEEEIIfUmEqxBCCCGEEEIIIYTQl0S4CiGEEEIIIYQQQgh9SYSrEEIIIYQQQgghhNCXRLgKIYQQQgghhBBCCH1JhKsQQgghhBBCCCGE0IeU8n9dEB6odBOagwAAAABJRU5ErkJggg==\"></p>"
   ]
  },
  {
   "cell_type": "markdown",
   "metadata": {},
   "source": [
    "Note: to get detailed plots for each block use \n",
    "```python\n",
    "model.wells.show_blocks_dynamics()\n",
    "```"
   ]
  },
  {
   "cell_type": "markdown",
   "metadata": {},
   "source": [
    "Done!"
   ]
  }
 ],
 "metadata": {
  "kernelspec": {
   "display_name": "Python 3",
   "language": "python",
   "name": "python3"
  },
  "language_info": {
   "codemirror_mode": {
    "name": "ipython",
    "version": 3
   },
   "file_extension": ".py",
   "mimetype": "text/x-python",
   "name": "python",
   "nbconvert_exporter": "python",
   "pygments_lexer": "ipython3",
   "version": "3.7.0"
  },
  "latex_envs": {
   "LaTeX_envs_menu_present": true,
   "autoclose": false,
   "autocomplete": true,
   "bibliofile": "biblio.bib",
   "cite_by": "apalike",
   "current_citInitial": 1,
   "eqLabelWithNumbers": true,
   "eqNumInitial": 1,
   "hotkeys": {
    "equation": "Ctrl-E",
    "itemize": "Ctrl-I"
   },
   "labels_anchors": false,
   "latex_user_defs": false,
   "report_style_numbering": false,
   "user_envs_cfg": false
  },
  "toc": {
   "base_numbering": 1,
   "nav_menu": {
    "height": "43.9815px",
    "width": "159.988px"
   },
   "number_sections": true,
   "sideBar": true,
   "skip_h1_title": false,
   "title_cell": "Table of Contents",
   "title_sidebar": "Contents",
   "toc_cell": false,
   "toc_position": {},
   "toc_section_display": true,
   "toc_window_display": false
  },
  "varInspector": {
   "cols": {
    "lenName": 16,
    "lenType": 16,
    "lenVar": 40
   },
   "kernels_config": {
    "python": {
     "delete_cmd_postfix": "",
     "delete_cmd_prefix": "del ",
     "library": "var_list.py",
     "varRefreshCmd": "print(var_dic_list())"
    },
    "r": {
     "delete_cmd_postfix": ") ",
     "delete_cmd_prefix": "rm(",
     "library": "var_list.r",
     "varRefreshCmd": "cat(var_dic_list()) "
    }
   },
   "types_to_exclude": [
    "module",
    "function",
    "builtin_function_or_method",
    "instance",
    "_Feature"
   ],
   "window_display": false
  }
 },
 "nbformat": 4,
 "nbformat_minor": 2
}
