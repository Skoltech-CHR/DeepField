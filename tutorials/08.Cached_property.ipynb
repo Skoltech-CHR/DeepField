{
 "cells": [
  {
   "cell_type": "markdown",
   "metadata": {},
   "source": [
    "# Chached property\n",
    "\n",
    "This tutorial is more technical and explains how to use the `@cached_property` decorator.\n",
    "\n",
    "`@cached_property` decorator can be useful to reduce subsequent computations of a property. It memorizes the value computed at the first time and returns it at the next calls.\n",
    "\n",
    "However, sometimes we might want to modify the returned value depending on the e.g. state of our component while modify or not the cache itself. Below we demonstrate how to implement these options.\n",
    "\n",
    "Here we define `MyComponent` that has states depending on the `flag` value. \n",
    "Also `MyComponent` has three properties: `a`, `b` and `c`. Property `a` does not depend on the state, while `b` and `c` do. A diffence between `b` and `c` is in the `modify_cache` option."
   ]
  },
  {
   "cell_type": "code",
   "execution_count": 1,
   "metadata": {},
   "outputs": [],
   "source": [
    "import sys\n",
    "sys.path.append('..')\n",
    "\n",
    "from deepfield.field.base_component import BaseComponent\n",
    "from deepfield.field.decorators import cached_property\n",
    "\n",
    "class MyComponent(BaseComponent):\n",
    "    def __init__(self, *args, **kwargs):\n",
    "        super().__init__(*args, **kwargs)\n",
    "        self.init_state(flag=0)\n",
    "\n",
    "    @cached_property\n",
    "    def a(self):\n",
    "        print('Long computations of a...')\n",
    "        return 0\n",
    "    \n",
    "    @cached_property(lambda self, x: x + self.state.flag, modify_cache=False)\n",
    "    def b(self):\n",
    "        print('Long computations of b...')\n",
    "        return 0\n",
    "    \n",
    "    @cached_property(lambda self, x: x + self.state.flag, modify_cache=True)\n",
    "    def c(self):\n",
    "        print('Long computations of c...')\n",
    "        return 0"
   ]
  },
  {
   "cell_type": "markdown",
   "metadata": {},
   "source": [
    "For the property `a` long computations are executed only once, while the property is called twice:"
   ]
  },
  {
   "cell_type": "code",
   "execution_count": 2,
   "metadata": {},
   "outputs": [
    {
     "name": "stdout",
     "output_type": "stream",
     "text": [
      "First call\n",
      "Long computations of a...\n",
      "0\n",
      "Second call\n",
      "0\n"
     ]
    }
   ],
   "source": [
    "x = MyComponent()\n",
    "print('First call')\n",
    "print(x.a)\n",
    "print('Second call')\n",
    "print(x.a)"
   ]
  },
  {
   "cell_type": "markdown",
   "metadata": {},
   "source": [
    "The property `b` contains additional transformation that depends on state and is applied only to the output, but not to the cache:"
   ]
  },
  {
   "cell_type": "code",
   "execution_count": 3,
   "metadata": {},
   "outputs": [
    {
     "name": "stdout",
     "output_type": "stream",
     "text": [
      "Long computations of b...\n",
      "0\n",
      "0\n",
      "1\n",
      "1\n"
     ]
    }
   ],
   "source": [
    "x.state.flag = 0\n",
    "print(x.b)\n",
    "print(x.b)\n",
    "x.state.flag = 1\n",
    "print(x.b)\n",
    "print(x.b)"
   ]
  },
  {
   "cell_type": "markdown",
   "metadata": {},
   "source": [
    "In contrast, if `modify_cache` is `True`, the transformation modify the cache itself:"
   ]
  },
  {
   "cell_type": "code",
   "execution_count": 4,
   "metadata": {},
   "outputs": [
    {
     "name": "stdout",
     "output_type": "stream",
     "text": [
      "Long computations of c...\n",
      "1\n",
      "2\n",
      "3\n"
     ]
    }
   ],
   "source": [
    "print(x.c)\n",
    "print(x.c)\n",
    "print(x.c)"
   ]
  },
  {
   "cell_type": "markdown",
   "metadata": {},
   "source": [
    "Done!"
   ]
  }
 ],
 "metadata": {
  "kernelspec": {
   "display_name": "Python 3",
   "language": "python",
   "name": "python3"
  },
  "language_info": {
   "codemirror_mode": {
    "name": "ipython",
    "version": 3
   },
   "file_extension": ".py",
   "mimetype": "text/x-python",
   "name": "python",
   "nbconvert_exporter": "python",
   "pygments_lexer": "ipython3",
   "version": "3.7.0"
  }
 },
 "nbformat": 4,
 "nbformat_minor": 2
}
